{
 "cells": [
  {
   "cell_type": "markdown",
   "metadata": {},
   "source": [
    "# Molecular filtering: ADME and lead-likeness criteria"
   ]
  },
  {
   "cell_type": "markdown",
   "metadata": {},
   "source": [
    "## Import library "
   ]
  },
  {
   "cell_type": "code",
   "execution_count": 1,
   "metadata": {},
   "outputs": [],
   "source": [
    "from pathlib import Path\n",
    "import math\n",
    "\n",
    "import numpy as np\n",
    "import pandas as pd\n",
    "import matplotlib.pyplot as plt\n",
    "from matplotlib.lines import Line2D\n",
    "import matplotlib.patches as mpatches\n",
    "from rdkit import Chem\n",
    "from rdkit.Chem import Descriptors, Draw, PandasTools"
   ]
  },
  {
   "cell_type": "markdown",
   "metadata": {},
   "source": [
    "## Import DrugBank Approved Drugs Database"
   ]
  },
  {
   "cell_type": "code",
   "execution_count": null,
   "metadata": {},
   "outputs": [
    {
     "data": {
      "application/vnd.microsoft.datawrangler.viewer.v0+json": {
       "columns": [
        {
         "name": "index",
         "rawType": "int64",
         "type": "integer"
        },
        {
         "name": "ID",
         "rawType": "object",
         "type": "string"
        },
        {
         "name": "SMILES",
         "rawType": "object",
         "type": "string"
        }
       ],
       "conversionMethod": "pd.DataFrame",
       "ref": "92228a75-8098-4a70-bcb8-7565ffe1618f",
       "rows": [
        [
         "0",
         "DB00006",
         "CC[C@H](C)[C@H](NC(=O)[C@H](CCC(O)=O)NC(=O)[C@H](CCC(O)=O)NC(=O)[C@H](CC1=CC=CC=C1)NC(=O)[C@H](CC(O)=O)NC(=O)CNC(=O)[C@H](CC(N)=O)NC(=O)CNC(=O)CNC(=O)CNC(=O)CNC(=O)[C@@H]1CCCN1C(=O)[C@H](CCCNC(N)=N)NC(=O)[C@@H]1CCCN1C(=O)[C@H](N)CC1=CC=CC=C1)C(=O)N1CCC[C@H]1C(=O)N[C@@H](CCC(O)=O)C(=O)N[C@@H](CCC(O)=O)C(=O)N[C@@H](CC1=CC=C(O)C=C1)C(=O)N[C@@H](CC(C)C)C(O)=O"
        ],
        [
         "1",
         "DB00014",
         "CC(C)C[C@H](NC(=O)[C@@H](COC(C)(C)C)NC(=O)[C@H](CC1=CC=C(O)C=C1)NC(=O)[C@H](CO)NC(=O)[C@H](CC1=CNC2=CC=CC=C12)NC(=O)[C@H](CC1=CN=CN1)NC(=O)[C@@H]1CCC(=O)N1)C(=O)N[C@@H](CCCN=C(N)N)C(=O)N1CCC[C@H]1C(=O)NNC(N)=O"
        ],
        [
         "2",
         "DB00027",
         "CC(C)C[C@@H](NC(=O)CNC(=O)[C@@H](NC=O)C(C)C)C(=O)N[C@@H](C)C(=O)N[C@H](C(C)C)C(=O)N[C@@H](C(C)C)C(=O)N[C@H](C(C)C)C(=O)N[C@@H](CC1=CNC2=C1C=CC=C2)C(=O)N[C@H](CC(C)C)C(=O)N[C@@H](CC1=CNC2=C1C=CC=C2)C(=O)N[C@H](CC(C)C)C(=O)N[C@@H](CC1=CNC2=C1C=CC=C2)C(=O)N[C@H](CC(C)C)C(=O)N[C@@H](CC1=CNC2=C1C=CC=C2)C(=O)NCCO"
        ],
        [
         "3",
         "DB00035",
         "NC(=O)CC[C@@H]1NC(=O)[C@H](CC2=CC=CC=C2)NC(=O)[C@H](CC2=CC=C(O)C=C2)NC(=O)CCSSC[C@H](NC(=O)[C@H](CC(N)=O)NC1=O)C(=O)N1CCC[C@H]1C(=O)N[C@H](CCCNC(N)=N)C(=O)NCC(N)=O"
        ],
        [
         "4",
         "DB00050",
         "CC(C)C[C@H](NC(=O)[C@@H](CCCNC(N)=O)NC(=O)[C@H](CC1=CC=C(O)C=C1)NC(=O)[C@H](CO)NC(=O)[C@@H](CC1=CN=CC=C1)NC(=O)[C@@H](CC1=CC=C(Cl)C=C1)NC(=O)[C@@H](CC1=CC2=CC=CC=C2C=C1)NC(C)=O)C(=O)N[C@@H](CCCNC(N)=N)C(=O)N1CCC[C@H]1C(=O)N[C@H](C)C(N)=O"
        ],
        [
         "5",
         "DB00080",
         "CCCCCCCCCC(=O)N[C@@H](CC1=CNC2=C1C=CC=C2)C(=O)N[C@H](CC(N)=O)C(=O)N[C@@H](CC(O)=O)C(=O)N[C@H]1[C@@H](C)OC(=O)[C@H](CC(=O)C2=CC=CC=C2N)NC(=O)[C@@H](NC(=O)[C@@H](CO)NC(=O)CNC(=O)[C@H](CC(O)=O)NC(=O)[C@@H](C)NC(=O)[C@H](CC(O)=O)NC(=O)[C@H](CCCN)NC(=O)CNC1=O)[C@H](C)CC(O)=O"
        ],
        [
         "6",
         "DB00091",
         "CC[C@@H]1NC(=O)[C@H]([C@H](O)[C@H](C)C\\C=C\\C)N(C)C(=O)[C@H](C(C)C)N(C)C(=O)[C@H](CC(C)C)N(C)C(=O)[C@H](CC(C)C)N(C)C(=O)[C@@H](C)NC(=O)[C@H](C)NC(=O)[C@H](CC(C)C)N(C)C(=O)[C@@H](NC(=O)[C@H](CC(C)C)N(C)C(=O)CN(C)C1=O)C(C)C"
        ],
        [
         "7",
         "DB00106",
         "CC(C)C[C@H](NC(=O)[C@@H](CC(N)=O)NC(=O)[C@H](CC1=CC=C(O)C=C1)N(C)C(=O)[C@H](CO)NC(=O)[C@@H](CC1=CN=CC=C1)NC(=O)[C@@H](CC1=CC=C(Cl)C=C1)NC(=O)[C@@H](CC1=CC2=C(C=CC=C2)C=C1)NC(C)=O)C(=O)N[C@@H](CCCCNC(C)C)C(=O)N1CCC[C@H]1C(=O)N[C@H](C)C(N)=O"
        ],
        [
         "8",
         "DB00114",
         "CC1=NC=C(COP(O)(O)=O)C(C=O)=C1O"
        ],
        [
         "9",
         "DB00115",
         "C[C@H](CNC(=O)CC[C@]1(C)[C@@H](CC(N)=O)[C@H]2N=C1\\C(C)=C1/N=C(/C=C3\\N=C(\\C(\\C)=C4\\[C@@H](CCC(N)=O)[C@](C)(CC(N)=O)[C@@]2(C)N4[Co+]C#N)[C@@](C)(CC(N)=O)[C@@H]3CCC(N)=O)C(C)(C)[C@@H]1CCC(N)=O)OP([O-])(=O)O[C@@H]1[C@@H](CO)O[C@@H]([C@@H]1O)N1C=NC2=C1C=C(C)C(C)=C2"
        ],
        [
         "10",
         "DB00118",
         "C[S+](CC[C@H](N)C([O-])=O)C[C@H]1O[C@H]([C@H](O)[C@@H]1O)N1C=NC2=C1N=CN=C2N"
        ],
        [
         "11",
         "DB00119",
         "CC(=O)C(O)=O"
        ],
        [
         "12",
         "DB00120",
         "N[C@@H](CC1=CC=CC=C1)C(O)=O"
        ],
        [
         "13",
         "DB00121",
         "[H][C@]12CS[C@@H](CCCCC(O)=O)[C@@]1([H])NC(=O)N2"
        ],
        [
         "14",
         "DB00122",
         "C[N+](C)(C)CCO"
        ],
        [
         "15",
         "DB00123",
         "NCCCC[C@H](N)C(O)=O"
        ],
        [
         "16",
         "DB00126",
         "[H][C@@]1(OC(=O)C(O)=C1O)[C@@H](O)CO"
        ],
        [
         "17",
         "DB00128",
         "N[C@@H](CC(O)=O)C(O)=O"
        ],
        [
         "18",
         "DB00129",
         "NCCC[C@H](N)C(O)=O"
        ],
        [
         "19",
         "DB00130",
         "N[C@@H](CCC(N)=O)C(O)=O"
        ],
        [
         "20",
         "DB00131",
         "NC1=C2N=CN([C@@H]3O[C@H](COP(O)(O)=O)[C@@H](O)[C@H]3O)C2=NC=N1"
        ],
        [
         "21",
         "DB00132",
         "CC\\C=C/C\\C=C/C\\C=C/CCCCCCCC(O)=O"
        ],
        [
         "22",
         "DB00134",
         "CSCC[C@H](N)C(O)=O"
        ],
        [
         "23",
         "DB00135",
         "[H][C@](N)(CC1=CC=C(O)C=C1)C(O)=O"
        ],
        [
         "24",
         "DB00136",
         "C[C@H](CCCC(C)(C)O)[C@@]1([H])CC[C@@]2([H])\\C(CCC[C@]12C)=C\\C=C1\\C[C@@H](O)C[C@H](O)C1=C"
        ],
        [
         "25",
         "DB00137",
         "C\\C(\\C=C\\C=C(/C)\\C=C\\[C@H]1C(C)=C[C@H](O)CC1(C)C)=C/C=C/C=C(\\C)/C=C/C=C(\\C)/C=C/C1=C(C)C[C@@H](O)CC1(C)C"
        ],
        [
         "26",
         "DB00138",
         "N[C@@H](CSSC[C@H](N)C(O)=O)C(O)=O"
        ],
        [
         "27",
         "DB00139",
         "OC(=O)CCC(O)=O"
        ],
        [
         "28",
         "DB00140",
         "CC1=C(C)C=C2N(C[C@H](O)[C@H](O)[C@H](O)CO)C3=NC(=O)NC(=O)C3=NC2=C1"
        ],
        [
         "29",
         "DB00141",
         "[H]C(=O)[C@H](NC(C)=O)[C@@H](O)[C@H](O)[C@H](O)CO"
        ],
        [
         "30",
         "DB00142",
         "N[C@@H](CCC(O)=O)C(O)=O"
        ],
        [
         "31",
         "DB00143",
         "N[C@@H](CCC(=O)N[C@@H](CS)C(=O)NCC(O)=O)C(O)=O"
        ],
        [
         "32",
         "DB00145",
         "NCC(O)=O"
        ],
        [
         "33",
         "DB00146",
         "C[C@H](CCCC(C)(C)O)[C@@]1([H])CC[C@@]2([H])\\C(CCC[C@]12C)=C\\C=C1\\C[C@@H](O)CCC1=C"
        ],
        [
         "34",
         "DB00148",
         "CN(CC(O)=O)C(N)=N"
        ],
        [
         "35",
         "DB00150",
         "N[C@@H](CC1=CNC2=C1C=CC=C2)C(O)=O"
        ],
        [
         "36",
         "DB00151",
         "N[C@@H](CS)C(O)=O"
        ],
        [
         "37",
         "DB00152",
         "CC1=C(CCO)SC=[N+]1CC1=CN=C(C)N=C1N"
        ],
        [
         "38",
         "DB00153",
         "CC(C)[C@@H](C)\\C=C\\[C@@H](C)[C@@]1([H])CC[C@@]2([H])\\C(CCC[C@]12C)=C\\C=C1\\C[C@@H](O)CCC1=C"
        ],
        [
         "39",
         "DB00156",
         "C[C@@H](O)[C@H](N)C(O)=O"
        ],
        [
         "40",
         "DB00157",
         "NC(=O)C1=CN(C=CC1)[C@@H]1O[C@H](CO[P@](O)(=O)O[P@](O)(=O)OC[C@H]2O[C@H]([C@H](O)[C@@H]2O)N2C=NC3=C(N)N=CN=C23)[C@@H](O)[C@H]1O"
        ],
        [
         "41",
         "DB00158",
         "NC1=NC(=O)C2=NC(CNC3=CC=C(C=C3)C(=O)N[C@@H](CCC(O)=O)C(O)=O)=CN=C2N1"
        ],
        [
         "42",
         "DB00159",
         "CC\\C=C/C\\C=C/C\\C=C/C\\C=C/C\\C=C/CCCC(O)=O"
        ],
        [
         "43",
         "DB00161",
         "CC(C)[C@H](N)C(O)=O"
        ],
        [
         "44",
         "DB00162",
         "C\\C(=C/CO)\\C=C\\C=C(/C)\\C=C\\C1=C(C)CCCC1(C)C"
        ],
        [
         "45",
         "DB00163",
         "CC(C)CCC[C@@H](C)CCC[C@@H](C)CCC[C@]1(C)CCC2=C(O1)C(C)=C(C)C(O)=C2C"
        ],
        [
         "46",
         "DB00165",
         "CC1=C(O)C(CO)=C(CO)C=N1"
        ],
        [
         "47",
         "DB00166",
         "OC(=O)CCCC[C@@H]1CCSS1"
        ],
        [
         "48",
         "DB00169",
         "CC(C)CCC[C@@H](C)[C@@]1([H])CC[C@@]2([H])\\C(CCC[C@]12C)=C\\C=C1\\C[C@@H](O)CCC1=C"
        ],
        [
         "49",
         "DB00170",
         "CC1=CC(=O)C2=CC=CC=C2C1=O"
        ]
       ],
       "shape": {
        "columns": 2,
        "rows": 2647
       }
      },
      "text/html": [
       "<div>\n",
       "<style scoped>\n",
       "    .dataframe tbody tr th:only-of-type {\n",
       "        vertical-align: middle;\n",
       "    }\n",
       "\n",
       "    .dataframe tbody tr th {\n",
       "        vertical-align: top;\n",
       "    }\n",
       "\n",
       "    .dataframe thead th {\n",
       "        text-align: right;\n",
       "    }\n",
       "</style>\n",
       "<table border=\"1\" class=\"dataframe\">\n",
       "  <thead>\n",
       "    <tr style=\"text-align: right;\">\n",
       "      <th></th>\n",
       "      <th>ID</th>\n",
       "      <th>SMILES</th>\n",
       "    </tr>\n",
       "  </thead>\n",
       "  <tbody>\n",
       "    <tr>\n",
       "      <th>0</th>\n",
       "      <td>DB00006</td>\n",
       "      <td>CC[C@H](C)[C@H](NC(=O)[C@H](CCC(O)=O)NC(=O)[C@...</td>\n",
       "    </tr>\n",
       "    <tr>\n",
       "      <th>1</th>\n",
       "      <td>DB00014</td>\n",
       "      <td>CC(C)C[C@H](NC(=O)[C@@H](COC(C)(C)C)NC(=O)[C@H...</td>\n",
       "    </tr>\n",
       "    <tr>\n",
       "      <th>2</th>\n",
       "      <td>DB00027</td>\n",
       "      <td>CC(C)C[C@@H](NC(=O)CNC(=O)[C@@H](NC=O)C(C)C)C(...</td>\n",
       "    </tr>\n",
       "    <tr>\n",
       "      <th>3</th>\n",
       "      <td>DB00035</td>\n",
       "      <td>NC(=O)CC[C@@H]1NC(=O)[C@H](CC2=CC=CC=C2)NC(=O)...</td>\n",
       "    </tr>\n",
       "    <tr>\n",
       "      <th>4</th>\n",
       "      <td>DB00050</td>\n",
       "      <td>CC(C)C[C@H](NC(=O)[C@@H](CCCNC(N)=O)NC(=O)[C@H...</td>\n",
       "    </tr>\n",
       "    <tr>\n",
       "      <th>...</th>\n",
       "      <td>...</td>\n",
       "      <td>...</td>\n",
       "    </tr>\n",
       "    <tr>\n",
       "      <th>2642</th>\n",
       "      <td>DB19375</td>\n",
       "      <td>CC(C)C1=CC(Cl)=C(C)C=C1O</td>\n",
       "    </tr>\n",
       "    <tr>\n",
       "      <th>2643</th>\n",
       "      <td>DB19376</td>\n",
       "      <td>OC1=CC=CC=C1C(=O)NC1=CC=CC=C1</td>\n",
       "    </tr>\n",
       "    <tr>\n",
       "      <th>2644</th>\n",
       "      <td>DB19378</td>\n",
       "      <td>[H][C@@]12CC[C@](O)(C(C)=O)[C@@]1(C)CC[C@@]1([...</td>\n",
       "    </tr>\n",
       "    <tr>\n",
       "      <th>2645</th>\n",
       "      <td>DB19379</td>\n",
       "      <td>[H][C@]12C[C@@H](OC(=O)C3=CC(OC)=C(OC(=O)OCC)C...</td>\n",
       "    </tr>\n",
       "    <tr>\n",
       "      <th>2646</th>\n",
       "      <td>DB19387</td>\n",
       "      <td>CC(=O)OC1=CC(C)=C(OC(C)=O)C2=CC=CC=C12</td>\n",
       "    </tr>\n",
       "  </tbody>\n",
       "</table>\n",
       "<p>2647 rows × 2 columns</p>\n",
       "</div>"
      ],
      "text/plain": [
       "           ID                                             SMILES\n",
       "0     DB00006  CC[C@H](C)[C@H](NC(=O)[C@H](CCC(O)=O)NC(=O)[C@...\n",
       "1     DB00014  CC(C)C[C@H](NC(=O)[C@@H](COC(C)(C)C)NC(=O)[C@H...\n",
       "2     DB00027  CC(C)C[C@@H](NC(=O)CNC(=O)[C@@H](NC=O)C(C)C)C(...\n",
       "3     DB00035  NC(=O)CC[C@@H]1NC(=O)[C@H](CC2=CC=CC=C2)NC(=O)...\n",
       "4     DB00050  CC(C)C[C@H](NC(=O)[C@@H](CCCNC(N)=O)NC(=O)[C@H...\n",
       "...       ...                                                ...\n",
       "2642  DB19375                           CC(C)C1=CC(Cl)=C(C)C=C1O\n",
       "2643  DB19376                      OC1=CC=CC=C1C(=O)NC1=CC=CC=C1\n",
       "2644  DB19378  [H][C@@]12CC[C@](O)(C(C)=O)[C@@]1(C)CC[C@@]1([...\n",
       "2645  DB19379  [H][C@]12C[C@@H](OC(=O)C3=CC(OC)=C(OC(=O)OCC)C...\n",
       "2646  DB19387             CC(=O)OC1=CC(C)=C(OC(C)=O)C2=CC=CC=C12\n",
       "\n",
       "[2647 rows x 2 columns]"
      ]
     },
     "execution_count": 2,
     "metadata": {},
     "output_type": "execute_result"
    }
   ],
   "source": [
    "# Import Databases/DrugBank/Approved_Drugs_DB.csv\n",
    "df = pd.read_csv('Approved_Drugs_DB.csv', sep=';')\n",
    "\n",
    "# Create a new DataFrame with only the 'ID' and 'SMILES' columns\n",
    "drugbank_molecules = df[['ID', 'SMILES']]\n",
    "drugbank_molecules"
   ]
  },
  {
   "cell_type": "markdown",
   "metadata": {},
   "source": [
    "## Transform SMILES into Molecule Object"
   ]
  },
  {
   "cell_type": "code",
   "execution_count": 3,
   "metadata": {},
   "outputs": [
    {
     "name": "stderr",
     "output_type": "stream",
     "text": [
      "[17:36:13] WARNING: not removing hydrogen atom without neighbors\n",
      "[17:36:13] WARNING: not removing hydrogen atom without neighbors\n",
      "c:\\Users\\ary-r\\anaconda3.9\\envs\\python3\\Lib\\site-packages\\rdkit\\Chem\\PandasTools.py:376: SettingWithCopyWarning: \n",
      "A value is trying to be set on a copy of a slice from a DataFrame.\n",
      "Try using .loc[row_indexer,col_indexer] = value instead\n",
      "\n",
      "See the caveats in the documentation: https://pandas.pydata.org/pandas-docs/stable/user_guide/indexing.html#returning-a-view-versus-a-copy\n",
      "  frame[molCol] = frame[smilesCol].map(Chem.MolFromSmiles)\n"
     ]
    },
    {
     "data": {
      "application/vnd.microsoft.datawrangler.viewer.v0+json": {
       "columns": [
        {
         "name": "index",
         "rawType": "int64",
         "type": "integer"
        },
        {
         "name": "ID",
         "rawType": "object",
         "type": "string"
        },
        {
         "name": "SMILES",
         "rawType": "object",
         "type": "string"
        },
        {
         "name": "ROMol",
         "rawType": "object",
         "type": "unknown"
        }
       ],
       "conversionMethod": "pd.DataFrame",
       "ref": "ec4e76e4-cd27-4afd-9c5c-22be22432dd7",
       "rows": [
        [
         "0",
         "DB00006",
         "CC[C@H](C)[C@H](NC(=O)[C@H](CCC(O)=O)NC(=O)[C@H](CCC(O)=O)NC(=O)[C@H](CC1=CC=CC=C1)NC(=O)[C@H](CC(O)=O)NC(=O)CNC(=O)[C@H](CC(N)=O)NC(=O)CNC(=O)CNC(=O)CNC(=O)CNC(=O)[C@@H]1CCCN1C(=O)[C@H](CCCNC(N)=N)NC(=O)[C@@H]1CCCN1C(=O)[C@H](N)CC1=CC=CC=C1)C(=O)N1CCC[C@H]1C(=O)N[C@@H](CCC(O)=O)C(=O)N[C@@H](CCC(O)=O)C(=O)N[C@@H](CC1=CC=C(O)C=C1)C(=O)N[C@@H](CC(C)C)C(O)=O",
         "<rdkit.Chem.rdchem.Mol object at 0x000001B44BC5F760>"
        ],
        [
         "1",
         "DB00014",
         "CC(C)C[C@H](NC(=O)[C@@H](COC(C)(C)C)NC(=O)[C@H](CC1=CC=C(O)C=C1)NC(=O)[C@H](CO)NC(=O)[C@H](CC1=CNC2=CC=CC=C12)NC(=O)[C@H](CC1=CN=CN1)NC(=O)[C@@H]1CCC(=O)N1)C(=O)N[C@@H](CCCN=C(N)N)C(=O)N1CCC[C@H]1C(=O)NNC(N)=O",
         "<rdkit.Chem.rdchem.Mol object at 0x000001B44BC5FDF0>"
        ],
        [
         "2",
         "DB00027",
         "CC(C)C[C@@H](NC(=O)CNC(=O)[C@@H](NC=O)C(C)C)C(=O)N[C@@H](C)C(=O)N[C@H](C(C)C)C(=O)N[C@@H](C(C)C)C(=O)N[C@H](C(C)C)C(=O)N[C@@H](CC1=CNC2=C1C=CC=C2)C(=O)N[C@H](CC(C)C)C(=O)N[C@@H](CC1=CNC2=C1C=CC=C2)C(=O)N[C@H](CC(C)C)C(=O)N[C@@H](CC1=CNC2=C1C=CC=C2)C(=O)N[C@H](CC(C)C)C(=O)N[C@@H](CC1=CNC2=C1C=CC=C2)C(=O)NCCO",
         "<rdkit.Chem.rdchem.Mol object at 0x000001B44BC5FE60>"
        ],
        [
         "3",
         "DB00035",
         "NC(=O)CC[C@@H]1NC(=O)[C@H](CC2=CC=CC=C2)NC(=O)[C@H](CC2=CC=C(O)C=C2)NC(=O)CCSSC[C@H](NC(=O)[C@H](CC(N)=O)NC1=O)C(=O)N1CCC[C@H]1C(=O)N[C@H](CCCNC(N)=N)C(=O)NCC(N)=O",
         "<rdkit.Chem.rdchem.Mol object at 0x000001B44BC5F840>"
        ],
        [
         "4",
         "DB00050",
         "CC(C)C[C@H](NC(=O)[C@@H](CCCNC(N)=O)NC(=O)[C@H](CC1=CC=C(O)C=C1)NC(=O)[C@H](CO)NC(=O)[C@@H](CC1=CN=CC=C1)NC(=O)[C@@H](CC1=CC=C(Cl)C=C1)NC(=O)[C@@H](CC1=CC2=CC=CC=C2C=C1)NC(C)=O)C(=O)N[C@@H](CCCNC(N)=N)C(=O)N1CCC[C@H]1C(=O)N[C@H](C)C(N)=O",
         "<rdkit.Chem.rdchem.Mol object at 0x000001B44BC5FD10>"
        ],
        [
         "5",
         "DB00080",
         "CCCCCCCCCC(=O)N[C@@H](CC1=CNC2=C1C=CC=C2)C(=O)N[C@H](CC(N)=O)C(=O)N[C@@H](CC(O)=O)C(=O)N[C@H]1[C@@H](C)OC(=O)[C@H](CC(=O)C2=CC=CC=C2N)NC(=O)[C@@H](NC(=O)[C@@H](CO)NC(=O)CNC(=O)[C@H](CC(O)=O)NC(=O)[C@@H](C)NC(=O)[C@H](CC(O)=O)NC(=O)[C@H](CCCN)NC(=O)CNC1=O)[C@H](C)CC(O)=O",
         "<rdkit.Chem.rdchem.Mol object at 0x000001B44BBD7920>"
        ],
        [
         "6",
         "DB00091",
         "CC[C@@H]1NC(=O)[C@H]([C@H](O)[C@H](C)C\\C=C\\C)N(C)C(=O)[C@H](C(C)C)N(C)C(=O)[C@H](CC(C)C)N(C)C(=O)[C@H](CC(C)C)N(C)C(=O)[C@@H](C)NC(=O)[C@H](C)NC(=O)[C@H](CC(C)C)N(C)C(=O)[C@@H](NC(=O)[C@H](CC(C)C)N(C)C(=O)CN(C)C1=O)C(C)C",
         "<rdkit.Chem.rdchem.Mol object at 0x000001B44BBD7290>"
        ],
        [
         "7",
         "DB00106",
         "CC(C)C[C@H](NC(=O)[C@@H](CC(N)=O)NC(=O)[C@H](CC1=CC=C(O)C=C1)N(C)C(=O)[C@H](CO)NC(=O)[C@@H](CC1=CN=CC=C1)NC(=O)[C@@H](CC1=CC=C(Cl)C=C1)NC(=O)[C@@H](CC1=CC2=C(C=CC=C2)C=C1)NC(C)=O)C(=O)N[C@@H](CCCCNC(C)C)C(=O)N1CCC[C@H]1C(=O)N[C@H](C)C(N)=O",
         "<rdkit.Chem.rdchem.Mol object at 0x000001B44BBD5C40>"
        ],
        [
         "8",
         "DB00114",
         "CC1=NC=C(COP(O)(O)=O)C(C=O)=C1O",
         "<rdkit.Chem.rdchem.Mol object at 0x000001B44BBD5D20>"
        ],
        [
         "9",
         "DB00115",
         "C[C@H](CNC(=O)CC[C@]1(C)[C@@H](CC(N)=O)[C@H]2N=C1\\C(C)=C1/N=C(/C=C3\\N=C(\\C(\\C)=C4\\[C@@H](CCC(N)=O)[C@](C)(CC(N)=O)[C@@]2(C)N4[Co+]C#N)[C@@](C)(CC(N)=O)[C@@H]3CCC(N)=O)C(C)(C)[C@@H]1CCC(N)=O)OP([O-])(=O)O[C@@H]1[C@@H](CO)O[C@@H]([C@@H]1O)N1C=NC2=C1C=C(C)C(C)=C2",
         "<rdkit.Chem.rdchem.Mol object at 0x000001B44BBD6110>"
        ],
        [
         "10",
         "DB00118",
         "C[S+](CC[C@H](N)C([O-])=O)C[C@H]1O[C@H]([C@H](O)[C@@H]1O)N1C=NC2=C1N=CN=C2N",
         "<rdkit.Chem.rdchem.Mol object at 0x000001B44BBD53F0>"
        ],
        [
         "11",
         "DB00119",
         "CC(=O)C(O)=O",
         "<rdkit.Chem.rdchem.Mol object at 0x000001B44BBD7F40>"
        ],
        [
         "12",
         "DB00120",
         "N[C@@H](CC1=CC=CC=C1)C(O)=O",
         "<rdkit.Chem.rdchem.Mol object at 0x000001B44BBD7C30>"
        ],
        [
         "13",
         "DB00121",
         "[H][C@]12CS[C@@H](CCCCC(O)=O)[C@@]1([H])NC(=O)N2",
         "<rdkit.Chem.rdchem.Mol object at 0x000001B44BBD69D0>"
        ],
        [
         "14",
         "DB00122",
         "C[N+](C)(C)CCO",
         "<rdkit.Chem.rdchem.Mol object at 0x000001B44BBD7BC0>"
        ],
        [
         "15",
         "DB00123",
         "NCCCC[C@H](N)C(O)=O",
         "<rdkit.Chem.rdchem.Mol object at 0x000001B44BBD7CA0>"
        ],
        [
         "16",
         "DB00126",
         "[H][C@@]1(OC(=O)C(O)=C1O)[C@@H](O)CO",
         "<rdkit.Chem.rdchem.Mol object at 0x000001B44BBD7E60>"
        ],
        [
         "17",
         "DB00128",
         "N[C@@H](CC(O)=O)C(O)=O",
         "<rdkit.Chem.rdchem.Mol object at 0x000001B44BBD7A00>"
        ],
        [
         "18",
         "DB00129",
         "NCCC[C@H](N)C(O)=O",
         "<rdkit.Chem.rdchem.Mol object at 0x000001B44BBD7DF0>"
        ],
        [
         "19",
         "DB00130",
         "N[C@@H](CCC(N)=O)C(O)=O",
         "<rdkit.Chem.rdchem.Mol object at 0x000001B44BBD7ED0>"
        ],
        [
         "20",
         "DB00131",
         "NC1=C2N=CN([C@@H]3O[C@H](COP(O)(O)=O)[C@@H](O)[C@H]3O)C2=NC=N1",
         "<rdkit.Chem.rdchem.Mol object at 0x000001B44BBD7D10>"
        ],
        [
         "21",
         "DB00132",
         "CC\\C=C/C\\C=C/C\\C=C/CCCCCCCC(O)=O",
         "<rdkit.Chem.rdchem.Mol object at 0x000001B44BBD6AB0>"
        ],
        [
         "22",
         "DB00134",
         "CSCC[C@H](N)C(O)=O",
         "<rdkit.Chem.rdchem.Mol object at 0x000001B44BBD5380>"
        ],
        [
         "23",
         "DB00135",
         "[H][C@](N)(CC1=CC=C(O)C=C1)C(O)=O",
         "<rdkit.Chem.rdchem.Mol object at 0x000001B44BBD7760>"
        ],
        [
         "24",
         "DB00136",
         "C[C@H](CCCC(C)(C)O)[C@@]1([H])CC[C@@]2([H])\\C(CCC[C@]12C)=C\\C=C1\\C[C@@H](O)C[C@H](O)C1=C",
         "<rdkit.Chem.rdchem.Mol object at 0x000001B44BBD7D80>"
        ],
        [
         "25",
         "DB00137",
         "C\\C(\\C=C\\C=C(/C)\\C=C\\[C@H]1C(C)=C[C@H](O)CC1(C)C)=C/C=C/C=C(\\C)/C=C/C=C(\\C)/C=C/C1=C(C)C[C@@H](O)CC1(C)C",
         "<rdkit.Chem.rdchem.Mol object at 0x000001B44BBD6DC0>"
        ],
        [
         "26",
         "DB00138",
         "N[C@@H](CSSC[C@H](N)C(O)=O)C(O)=O",
         "<rdkit.Chem.rdchem.Mol object at 0x000001B44BBD7370>"
        ],
        [
         "27",
         "DB00139",
         "OC(=O)CCC(O)=O",
         "<rdkit.Chem.rdchem.Mol object at 0x000001B44BBD70D0>"
        ],
        [
         "28",
         "DB00140",
         "CC1=C(C)C=C2N(C[C@H](O)[C@H](O)[C@H](O)CO)C3=NC(=O)NC(=O)C3=NC2=C1",
         "<rdkit.Chem.rdchem.Mol object at 0x000001B44BBD7610>"
        ],
        [
         "29",
         "DB00141",
         "[H]C(=O)[C@H](NC(C)=O)[C@@H](O)[C@H](O)[C@H](O)CO",
         "<rdkit.Chem.rdchem.Mol object at 0x000001B44BBD7680>"
        ],
        [
         "30",
         "DB00142",
         "N[C@@H](CCC(O)=O)C(O)=O",
         "<rdkit.Chem.rdchem.Mol object at 0x000001B44BBD7300>"
        ],
        [
         "31",
         "DB00143",
         "N[C@@H](CCC(=O)N[C@@H](CS)C(=O)NCC(O)=O)C(O)=O",
         "<rdkit.Chem.rdchem.Mol object at 0x000001B44BBD7530>"
        ],
        [
         "32",
         "DB00145",
         "NCC(O)=O",
         "<rdkit.Chem.rdchem.Mol object at 0x000001B44BBD74C0>"
        ],
        [
         "33",
         "DB00146",
         "C[C@H](CCCC(C)(C)O)[C@@]1([H])CC[C@@]2([H])\\C(CCC[C@]12C)=C\\C=C1\\C[C@@H](O)CCC1=C",
         "<rdkit.Chem.rdchem.Mol object at 0x000001B44BBD7A70>"
        ],
        [
         "34",
         "DB00148",
         "CN(CC(O)=O)C(N)=N",
         "<rdkit.Chem.rdchem.Mol object at 0x000001B44BBD7AE0>"
        ],
        [
         "35",
         "DB00150",
         "N[C@@H](CC1=CNC2=C1C=CC=C2)C(O)=O",
         "<rdkit.Chem.rdchem.Mol object at 0x000001B44BBD7B50>"
        ],
        [
         "36",
         "DB00151",
         "N[C@@H](CS)C(O)=O",
         "<rdkit.Chem.rdchem.Mol object at 0x000001B44BC21AF0>"
        ],
        [
         "37",
         "DB00152",
         "CC1=C(CCO)SC=[N+]1CC1=CN=C(C)N=C1N",
         "<rdkit.Chem.rdchem.Mol object at 0x000001B44BC21A80>"
        ],
        [
         "38",
         "DB00153",
         "CC(C)[C@@H](C)\\C=C\\[C@@H](C)[C@@]1([H])CC[C@@]2([H])\\C(CCC[C@]12C)=C\\C=C1\\C[C@@H](O)CCC1=C",
         "<rdkit.Chem.rdchem.Mol object at 0x000001B44BC21A10>"
        ],
        [
         "39",
         "DB00156",
         "C[C@@H](O)[C@H](N)C(O)=O",
         "<rdkit.Chem.rdchem.Mol object at 0x000001B44BC21930>"
        ],
        [
         "40",
         "DB00157",
         "NC(=O)C1=CN(C=CC1)[C@@H]1O[C@H](CO[P@](O)(=O)O[P@](O)(=O)OC[C@H]2O[C@H]([C@H](O)[C@@H]2O)N2C=NC3=C(N)N=CN=C23)[C@@H](O)[C@H]1O",
         "<rdkit.Chem.rdchem.Mol object at 0x000001B44BC219A0>"
        ],
        [
         "41",
         "DB00158",
         "NC1=NC(=O)C2=NC(CNC3=CC=C(C=C3)C(=O)N[C@@H](CCC(O)=O)C(O)=O)=CN=C2N1",
         "<rdkit.Chem.rdchem.Mol object at 0x000001B44BC217E0>"
        ],
        [
         "42",
         "DB00159",
         "CC\\C=C/C\\C=C/C\\C=C/C\\C=C/C\\C=C/CCCC(O)=O",
         "<rdkit.Chem.rdchem.Mol object at 0x000001B44BC218C0>"
        ],
        [
         "43",
         "DB00161",
         "CC(C)[C@H](N)C(O)=O",
         "<rdkit.Chem.rdchem.Mol object at 0x000001B44BC21850>"
        ],
        [
         "44",
         "DB00162",
         "C\\C(=C/CO)\\C=C\\C=C(/C)\\C=C\\C1=C(C)CCCC1(C)C",
         "<rdkit.Chem.rdchem.Mol object at 0x000001B44BC214D0>"
        ],
        [
         "45",
         "DB00163",
         "CC(C)CCC[C@@H](C)CCC[C@@H](C)CCC[C@]1(C)CCC2=C(O1)C(C)=C(C)C(O)=C2C",
         "<rdkit.Chem.rdchem.Mol object at 0x000001B44BC21700>"
        ],
        [
         "46",
         "DB00165",
         "CC1=C(O)C(CO)=C(CO)C=N1",
         "<rdkit.Chem.rdchem.Mol object at 0x000001B44BC21770>"
        ],
        [
         "47",
         "DB00166",
         "OC(=O)CCCC[C@@H]1CCSS1",
         "<rdkit.Chem.rdchem.Mol object at 0x000001B44BC21690>"
        ],
        [
         "48",
         "DB00169",
         "CC(C)CCC[C@@H](C)[C@@]1([H])CC[C@@]2([H])\\C(CCC[C@]12C)=C\\C=C1\\C[C@@H](O)CCC1=C",
         "<rdkit.Chem.rdchem.Mol object at 0x000001B44BC21620>"
        ],
        [
         "49",
         "DB00170",
         "CC1=CC(=O)C2=CC=CC=C2C1=O",
         "<rdkit.Chem.rdchem.Mol object at 0x000001B44BC215B0>"
        ]
       ],
       "shape": {
        "columns": 3,
        "rows": 2647
       }
      },
      "text/html": [
       "<div>\n",
       "<style scoped>\n",
       "    .dataframe tbody tr th:only-of-type {\n",
       "        vertical-align: middle;\n",
       "    }\n",
       "\n",
       "    .dataframe tbody tr th {\n",
       "        vertical-align: top;\n",
       "    }\n",
       "\n",
       "    .dataframe thead th {\n",
       "        text-align: right;\n",
       "    }\n",
       "</style>\n",
       "<table border=\"1\" class=\"dataframe\">\n",
       "  <thead>\n",
       "    <tr style=\"text-align: right;\">\n",
       "      <th></th>\n",
       "      <th>ID</th>\n",
       "      <th>SMILES</th>\n",
       "      <th>ROMol</th>\n",
       "    </tr>\n",
       "  </thead>\n",
       "  <tbody>\n",
       "    <tr>\n",
       "      <th>0</th>\n",
       "      <td>DB00006</td>\n",
       "      <td>CC[C@H](C)[C@H](NC(=O)[C@H](CCC(O)=O)NC(=O)[C@...</td>\n",
       "      <td style=\"text-align: center;\"><div style=\"width: 200px; height: 200px\" data-content=\"rdkit/molecule\"><img src=\"data:image/png;base64,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\" alt=\"Mol\"/></div></td>\n",
       "    </tr>\n",
       "    <tr>\n",
       "      <th>1</th>\n",
       "      <td>DB00014</td>\n",
       "      <td>CC(C)C[C@H](NC(=O)[C@@H](COC(C)(C)C)NC(=O)[C@H...</td>\n",
       "      <td style=\"text-align: center;\"><div style=\"width: 200px; height: 200px\" data-content=\"rdkit/molecule\"><img src=\"data:image/png;base64,iVBORw0KGgoAAAANSUhEUgAAAMgAAADICAIAAAAiOjnJAAAABmJLR0QA/wD/AP+gvaeTAAAgAElEQVR4nO2de0BM6RvHvzNNUzMVlWJ1kUu1rovc2bBkrTtZtyXWWuS3xBKhJZeQxWqX3bVuS7uWiCi33eyy2CzFuuWalCR00b2paeb5/XGm0aZmzrSdmeJ8/srMc855z5mv933P8z7P8wqICDw81Y3Q0A3geT3hhcXDCbyweDiBFxYPJ/DC4uEEXlg8nMALi4cTeGHxcAIvLB5O4IXFwwm8sHg4gRcWDyfwwuLhBF5YPJzAC4uHE3hh8XACLyweTuCFxcMJvLB4OIEXFg8n8MLi4QReWDycwAuLhxN4YfFwAi8sHk7ghcXDCbyweDiBFxYPJ/DC4uEEXlg8nMALi4cTeGHpzMOHD9esWdOhQ4fZs2cbui01F5GhG1BrSElJCQsLO3DgQHR0NBGJRKIrV64UFhZ+9913IhH/GMsj4Cv6aeb58+dhYWGhoaHnz59XKpUAxGKxUCjs06fPmTNnCgoK+vXrFxYWVqdOHU1nefIE330HIyO89x5sbJCZiZ49sWcPBg9G3bp6uhM9QzyVkJ2d3aVLFyMjI+ZBiUQiU1NT9XPz8/O7ePFigwYNALRp0+bRo0eazjVrFuXkEBFNnkynT1NoKBHR8uX0/Lk+7sQQ8H14pSxcuPD69etKpdLU1FQmk5WUlJSUlDg7O48dO3bMmDGtW7cGcOHChYEDB964caNr165Hjx5t3779v07x9CkOHEBWFuRyWFgAgK0tCgsRHo7793H2LGbMMMSd6QVDK7vmMmLECABLly4VCAQODg4+Pj7nzp1TKpXlzDIzM3v16gXA3Nz8+PHjRJSenr5169acMWPIyIgAMjMjX1+Kj6fCQpo4kf78803osXhhVUqjRo0A3L59+8qVK6/qqSwymWzs2LEARCKRm5ubsbExgDO9e5OpKQ0fTnv30osX9PXXtHIlJSTQw4d0/ToR0e+/U16enm5G7/DCqpj09HSmE1IoFGzsc3Jy/P39pVKpWCw2NjYeMGDAiT17KCuL63bWWPg5VsVcvnwZQLt27YRCVq6+iRMnnj59uqCgoEmTJjExMfXq1eO4gTUd3kFaMVeuXAHg5ubG0v7y5cvZ2dkAevbsyasKvLAq459//gFrYWVkZCQnJzNTq/Ivhm8qvLAqRqceixk3TUxM2B/y2sMLqwJycnIePHhgampqYmKSlJSk1Z5RYWFhoVAobNeuHfcNrAXwwvoXDx8+XLt2rZubm62trVQqHThwYNeuXWNjYzUfxYybCoXCxcXFgnGE8hj6tbRG8ODBg9WrV7dt21b9WMzNzQFIJBIAZmZmERERGg53dnZmjho3bpze2lzDeaOF9fjx4+Dg4B49eggEAkYZlpaWXl5eERERT58+7dmzJwBmSm5kZLRp06YKT1JUVNS6dWvG7Msvv9TzLdRY3lxh7dmzR60nCwuLCRMmREZGFhUVqQ1kMtm4ceMACIVCxtLHx+dVf+m9e/dWrlzJrE8fOXJEvzdRc3lzhfXpp58CcHFx2b17d14lSytKpTIgIACAQCBgwhwmTpzIfJWUlLRu3boOHTqoR08nJ6eMjAw93kGN5s0V1siRI62srO7evavVctu2bUwon1gs/u6773bv3u3h4aHu7erWrcuMngUFBXpodm3hzQ308/DwSE9Pv3r1KhvjyMjIcePG5efnCwSqJ2ZmZjZkyJAxY8YMGDCA8WDxlOXNXSvMzs5Wv81pZciQIWfOnBk2bFh+fr67u/uoUaNGjBjBexY08OYK6/Hjx5999hl7+44dO6akpOTn55uZmXHXqteGN9RBmpGRkZubO3ToUDbGaWlQKgHg6VPwqmLJGyqsR48e2djYWFtbszH+5hvk5ABAYCC3rXqdqCVDYVISfvgBIhHc3WFjg9xc9OyJH3/Ehx+iShOd27dv9+nTh739/v2QSpGWVoVLvaHUkh5r3TosWYIVK7BvH168UP3CiYmQy3U9ExFduHBh+/btzZs3Z39Ut25wd4fmFC+estSSHkuhgEQCAFZWkMlw6BDu3sX589AlF/natby9ewNDQ0MTExPr1q37119/2dnZTZgwgc2xjo6wtAQXXoXi4uLo6OjevXtX/6kNSi0RlrU17t2DvT3S0yGRwNMTI0eiqKisSXIyUlPRuTNOn0arVti7F7NnIzYWMhmiohAaioQEcwuLQ5mZiY6OjlKp9O7duxMnTkxKSvL399d8cQ8PJCfD0hIffFDNt6VUKl1dXZOSkuLj45s1a1bNZzcsBnbQsiQhgZYupaAgSkmhxES6fZuI6MwZKixUm8TE0I8/EhGtW0e3b1O7dnTsGO3YQYMHE0AANWhAy5ZFnTt3jlnv27p1K+NPnzx5cnFxsYaLr11LY8eSXE6zZ1f/nU2cOBFAYGBg9Z/aoNQSz/vy5Vi2DIsWYfXqykxiYxEUhPbtcf48Nm7Enj1IS0ObNhCLcekSxo5F794ozWpWcfLkydGjR+fm5np4eISFhdV9Jdv95k0cPAixGG3bIj4eCQkIDq7mOzt+/PigQYPatGlz/fr1aj61YTG0stkxZAgBqjzPSijXYy1ZQvfuUZs2dO2aphNfunSJSZNv3bp1UlIS8+G9e/c2bnzQqpWqq5s8mZ4+pUWLaMIEunGDygRAVAPFxcVM8sXNmzer87yGppa8FV65AgAaw8mtrODkBACurrCwgL09XFzwv/9pKbrRqVOnCxcutGjR4ubNm507d54+fXrHjh1dXV0PHQqKi4ONDaZPR6tWEIuxYAEkEvTpg/feQ3p6td2ZsbGxp6cngP3791fbSWsChla2dp4/f77AzS2qf39ilztKRAUFJBJRw4ZUUsLKPjMzs379+gKBgIlZqFu37owZc06cILn8X2bXrpG9PQHUsiU9fFjpqdPT04no+vXrH3/8MZuQh1OnTgFo1qzZq1/dvHnTz8+vadOm2dnZrO6kxlALhHX8+HEAvXv3Zn9IdDQB1K6dDldp2LAh8z/Nw8NDJpNVZpaSQu3bU7NmMheXTjExMWW/Kikpyc7O/vXXX999912lUvnOO+8A6Nat23NtBRoUCoWdnR2Ay5cvM59cuXJlwYIFTkwPDAA4cOCADjdTA6gFwgoMDAQwd+5c9ods3kwAffIJW/unT58CEIvFADZv3qzZODubRo/+HGVi4QsLC2UyWVBQ0DfffFNUVBQeHk5EcXFxjRs3BhDp6Un37mk+56xZswBMmTIlICCgrOdWQzGSGk4tENbIkSMBTJo0if0hixb90KvXl9u3a6xZVYZ/fvvtnfr1mQQKpmCfZoqLiydPngzAycnpypUrv/zyS4Wxo6mpqT+OG0dCIdWrR+fPV3a2+Pj4adOmlZ2fvPXWWzNnzmRKvbG8hZpGLRDWhg0bJBJJvXr1tm3bxvIQJh35r7/+YnuNwEAC5BYWqV26FLCuANOkSROhULh27VpNRnl5qlfaOnUoM/NfXyUn04YNC8aOLSupoUOHnjp1qoTl3LAGUwuERURnzpxp0aKFra3tli1btBoXFRUx1RxzmCJ6bPD0VLkWWrVi3yqmztGdO3e02JWU0MyZFBJCISEUEEBz59Kff5K7OwmFBOzv1k0qlTKRgwBmc+GENQS1Q1hElJWVNWDAABsbm127dlVmo1AoTp8+7enpybzcDR8+PD8/n9XZGzdWCcvLi2V7dK1zRAoFTZ1KRFRSQlOnUqtWJJXS6NFF4eGFhYVEFBMTwwyCr0F3RbVIWESkVCq/+OKLunXrhoSElPuKeS1n3q0YmKSarl275mutmqdQkI8PubiQuTlt2MCyMb/++isAd3d3tq0vKKA5c1R/T59ON29Sbm45ExcXFwB//PEH23PWYGqJgxQAIBAIVq5ceezYMV9f35CQEABxcXHLli1zcXFp3br12rVrnzx54uTkNGzYMIlEolAopFLpdIFA2rUr7tzRdN579yAW46OPsH07/vc/lo3Rtc4RJBLk5SEuDseOoWlTtGoFc/NyJmPGjAEQGhrK9pw1GUMruypkZmb27t37rbfeUt+Fo6PjvHnz1I6l69evOzo6+rVrp5RKCaB69ejcuUpP5+2tWqaZNo2tR5Vo9OjRADSMyxWQn0/79tFvv1X2/a1btwBYW1sXVe+ykSGolcIiIl9fX3Nzc6lU6uXlFRUV9epr+aOkJEWnTgSQqSkBtHhxpeeaPl31x4IFxNrBzWT4XGeqiVYfTDFmpkhuraY2DYVluX37dl5e3o4dO0JCQsqmj6pxbNRIGBWFvn0hk8HdHePHY8kSLFmC27fLn8vREWfP4skTPH/OMkj02bNnTJ0jncJQ2fD6jIaGVnYVYVZgHjx4oMWuqIjWrKHCQpoyheRykstpypTyNgoFHThA339f3s/0CsVFRUePHp0wYQJThaZt27b/4Q4q5v79+wCsrKzk5dYpaxu1UlhPnsjefXdbu3Yf6eCYVo933t46X0+hoHPnyMdH0aSJVenmFAKBwMTE5JyGqVtV+fnnn1NTU6v9tHqmVgorMpIA6tNHl2OmT6cXL+jFi5cK08qJE7RqFf31F40YofJyAfMbNSo77EokkoMHD+p+B68/tXKOxURnlSn0woKVK7FlC7ZswcqVrOxPn8b9+1i0CEeOwMEBEgkEAgAz7e1NTEwGDx68c+fOKVOmFBYWbt4cu3Gj7vfw2mNoZVeF4cMJoF9+4fIaq1ZRYiIR0Z9/0rffkkhEJiY0dGjxvn25ZRybmzcfFgqVAPn4sPdUvBHUAmEVFamcUPHxlJREu3ZRaiqFhBD7JeaqsGcPnTpFRLRtG0VH04kT9OJFhYZ795KJCQG0dCmVlJBMRrdukdoLceMGl42swdSCoVAmw4kTAHDzJu7dw86diIpC48Z48oTLq44ejQsXsHo18vLQrRs++ACWlhUajh2LqCjMno3bt7FlC3JzcfAgfvhB9a36jzcNHfIKc3IglUIkQkYG9Lz3wl9/YdUq3L6Njz9Gp064fJn77SNFInzxBUtbd3e4u8PXFykpKrnn5mLVKgDlch/fIHTosXbuBFPzPCCAq9a85PlzHD2K0hrrPXrA3x+jRqm+9PNTpWG96uysmIQExMaqSsZwyYIFWL8eACws4O8Pf39OkqdrBboNhb/+ioMHkZrKUWNKSUvD4sVwdMTXX+PmTSMjODgAgJUV6taFgwMaNsS4cTh+HO3a4aeftJ1t925ERuLJE8yZw2mrJRJYWqJfP0gkqnoAzIdvKOynYxs30m+/0e3bpEuQcJXYv181cU5MpDVrKrOaN48AEgho5cpX3KQFBRQRQV5etHEjTZum+nDu3FcjVaqR6dPpgw/on3+4u0JtQrceq2lTNG/+arhHdVO3LjIzASAjQ8Nkav16bNsGIyP8/vvSyZMny+VymUwWHh6+aeZM2Nhg6FD89BPWrwcRmGzvoiIYG3PX6qgonDzJ6RVqEzqk2F+4AJEInTrh8GEMH85loxQK+PrCxgZPnyIwUPNE/cSJ5FGjWuTn5zdq1CgrKysnJ8dIKJRZWIjkchQUAMCOHYiLg60tRCL4+nLU5KwsWFtDIkF2NkS1pNIKt7Dv3LZvp0GDSCbjpDbGvxg1itq1o7FjKTKSjbk6TR6AmZmZQCD4s2tXAsjKij75hO7eJbmcOK6Vffbs43btMvv21VRcRE12Nj15QkT08CFVnsJYu9FtKJw8GfpYvjh3DlevYt8+RESwMe/UqdPBgweZv5niszc6d0ZEBJ4+xY4dcHWFSMT1LPrixb1Xr1o3b/45G+M7dxAVBQD79+P5c07bZTBY9dolJdi8GRIJWrRAXBweP8b33+Ptt8Gy2GJxcTGTC8qKlBQ8fQqxGMXFmos1lIVJbbCzs/v6668HDRok0fvLGLMBGPtdMI8dw5MnOHsW48Zx2SzDob3HSk5G7974/HNERkIiwbx5IMLs2ejXD76+mhyAhYWFkZGRo0aNsrOzu3HjBssGpd28KW/cGIwQWQuL+V0nTpz44Ycf6l9VKA2BL7t/mGYGDsT8+ejVi8s2GRbNI+XJk+cbNiSAHBxepvKWlFBgIBkbE0BjxoSWC88tKCg4cODAyJEjy/7Ajo6ON9gtmy1fvhyAjUQyr0MHBeuJ0ZAhQwCEaqxzxBGpqak5OTnNmjUzMjLq27cvm+odMTH0889ERBs2UHIy5y00CJUKSy6XBwQECIXCXr0i+/alp0/LG8TEUJ8+d6RSqamp6VdffSWXy6Oiory8vOqURvcKhcIePXps3Lhx3rx5DRs2dHFxuaa5VhUREQ0bNow5/J133mF/G/b29gDu37/P/pAqo1Qqs7Ozc3NzmeTSEydOZGVlhYWF2draAmjfvn1KSormMzx5QkyBiIgIYpn4qDeYGmO3blFKisqZ+OQJ3bql83kqFlZmZmb37t0BiESiNWuCKovTzM/P9/b2ZgLfpFIpIwiBQNC1a9eNGzc+fvxYbXnmzJnmzZs3btxYc7+Vl5en3gL+448/ZnkPz549A1CnTh39VDr48ccfmQ0vQ0NDyyaXJiQkMCHwdnZ2/2j0k966RV26UEwMBQRUFjNhMJyd6dQp2ruXoqPps8+IiC5cUPWvOlGxsLZv325vb1+nTp1Dhw690Hjrp0+f/uabb4yNjevVq9eiRYuAgIB7lVRWycrK6t+/f4MGDV7dcEsmk0VERHh5eTG70wiFQgAffPABy3uoQp2jKvDgwYNJkybt2rUrPT29siyajIwMZvtMCwuLCm2uXaPFiykkhL7/nqZMoSVLapyw5s6lqVNp1y6KjqYePSgwkKZPrz5hXbx4EYCZmZlQKAwODtZwPFMFCkDHjh21XkypVC5cuNDa2poZs4qLi48fPz5p0iR18U+BQNCjRw8PDw9GW1OnTi0u1t4JVaHOURXYs2cPgBEjRmg2k8lkH330EdPZ//DDD8yHd+/e/frrcy1bqiKchw2jrVvpwgVydqa4OCqtilUjmDePbt6krl256bGozD7HXbt2rczm4cOHKC0rxb7u7/nz5995551+/frVKxN806FDh3Xr1qmrgIaHh0ul0t69l3p4aEn1Kygo6NixI4CffvqJZQOqhq+vL4AVK1ZotVQqlQsWLGD+n3Tp0oXxQVhbuxobk60teXvT4cOq6cuyZdS6NZmb07Fj2hsQFxcXHx//n+9DC0yNgcBAun6dmI2Ib9ygEyfo1CmqZO/iiqlUWIsWLbK3dzIxkbZv/15iYsXu4Y0bNwJgdq1l+dLHsGzZMmbUa9myZUBAQIUFW2Ji7jVooGQK8706Gy4qouPH/5wwYQJzHjMzswsXLrBvQBV47733ABw9epSl/fjx41FaQsLS0nLy5MmnTmWVy+kqKqJJkwggkYi2bat4gVyhUPzyyy/dunUzNja2trbm9DYVCrKyovbtK16nKO1/WVGpsK5dKxAIlKamOQAFBVVswzxrAI0bN9bhmkRMWubChQs1mz14QG+/TQBNn67SVlQUk4hF9etTr15Hmat37tx527Ztd+7c4S4zXalUWllZAXjCrMWw4JNPPmGaZ21traH2JBEFBVGdOtkuLm3K7TmdlZW1aNGitm3bisXi+vXrMxMGExOTvXv3/qebqZxbtwigCn/MoCDatEmHitGa/FjqetTt21fw7YsXL4yNjZnJ0Bx1HRV2MGVV2HgfMjJowwby8aHPPyciGj1anYhFgwZlrV69Wp2zmpycHBsbq1Mz2BMfHw+gQYMG7A9p164dI6zBgwdrNd6z55ixsTGAMWPGFBYWxsXFDR06tG7duk5OTgMHDvzqq69SUlJKSkqYDRYFAkFAQEDVb6Zyfv6ZAPL0rIZTaRLW8uUEUN265O1Nr27d8PPPPzNjEHSsvJOTI3Nw6G5qaqp5P4iyzJtHe/fS8eM0ezb17UtLl1bqWZkyZQoXgwVTK3vQoEEs7ZUy2aLOnRtIJACWLFnC5pCoqCgLCwupVNq0aVN3d/dly5ZVuF91cHCw+s2msmzpxMTE4ODgFi1aODs76zT1XLMmunv3h+vWVUOFZk3CevSIpk8nuZxu3KCEhPLfzp8/X93V65QPfvYsAdSrlw6HzJtHRDRjBs2cqcUyMTFRLpcfOXKEqYldXSxatAjA0qVL2R4QE0MAmZvLHR3TWE/L/Pz8APTq1UuzWVhYGLOqwWwlrP48KSlp3bp1zKsMg5GRkUAgWLVqFcsGMHObY2xeJbShaRHa0RF//43ISBAhKwtRUXjxAgDq1LmYk3NGJBK5ublduXJl4MCBIl1CkGJjAaB5cx0OYUKTZ8+G1iL7Tk5OWVlZ8+fPP3bsWL3qS/lglgLZrzGrcmpLSkTJyTZt2rA8KCsrC8BwbcFuI0eOtLe3Hzp06JEjR3r37h0SEnLp0qWffvrp999/JyIAUql00KBBXl5e9+/fX7Bggb+/f15eixUrRlT4KxUVFZ08eXLfvn2TJk1itl7XoeiXBjTrbt48mjGDdu+mzz57Obnp1eug+nCJRPLtt9/qpGUvLwKIRTHRl6jrx1b2GlGO4uLiuLi4hFe7WR1RKBTnzp3z8fGpU6eOQCCIiopie6S3t+ph1avH/nKdOnUC8Oeff7IxvnPnTtOmTVHqT2b0NGbMmEOHDhWW2bvq8OHDHTp4S6Xk4UFZWS8Pl8vpxAmaPFnp5NSUObxly5YArKysqmUBQ7uwEhKoc2dV7LifH/n50dq10X5+fqtXrw4KCtL6hqJQELO08+IFZWfT3bt08iTNnk1//61DK9UjIOOyY8PgwYNR1br7SqXyr7/+mjVrlnpXAQZLS0u2s8nDh+nDD6llSxoyhOVF5XK5qampQCDIKvv7a+TZs2etW7e2trYeNmzY3r178yqp93zxIjVoQAC1bUvPnhERpaSQjY1K+c7On6jDBZh13gkTJvz392stwmL6lW+/1bLVkQays1U1zw4fpt9+o9at6cIFOnuWdPrFP/mEAgMpMJBYrx+yrnP0b27evBkQEFB260AnJycfH58LFy6MGzcOgFgsfrUCanlyc2nWLAoMpDlzyu+aUjnMMOTq6qpTg1mSkEAtWpC7O73/Pslk9OuvZGtLZmYkEBBQ7Ora1tzc/KOPPlL7F/v06ffiBdsNZiqE8xT77GwaOJC2bqXPPqPffqPPP6epU+mPP3QTlq49FrPThKWlpU69+tGjR9V6atSoka+vb1n/hVKpDAgIAJu3/a1b6eJFIqLwcJbR1US0c+dOAGPHjmXfYJ3IyKDMTBoyhIKCaO9eGj9eVe3Q05MOH76t3vOHqbLZq9dVZ2f6L8Ei+oj7d3XF8OFgCksJhZg2DevX48MPUVwMloGlnp6qP0aOZGUfGxsLwM3N7dVKfxro27evq6tr//79x4wZ071793LHCgSCZcuWOTg4zJgxY/ny5UlJSVu3bjWuMCknNxdWVgBgbY3Hj1leXdcYVF2xtgYAV1cUFSEhASNGoH9/DBvG1DB8WZewTZs20dE3Bg6sGx8Pd3dERqLMW6YuVM9/h8opNxQyjoP//Y/8/cnJiUUW3t9/0+ef09KlpMsrwooVKwD4+vpWtdWaOHnyJDNe9O3bt+L50K1b9PnnFBdHn35aQSBbRRQUFLRp0waADu8HVWLePMrPp7ZtSfPGLtnZ1K8fATRtmmoWtG8fhYWpPO979mi/kD6qzTCtKSmhkhLVIpRcTv37q7yvzHJseVJSKDiYIiJo2jTVbnIzZrBfUGB2edjD5gFUiUuXLjE1myt1mT58SOHhpHX9p6joRGTk+PHjGaUCqF7326swzuPLl7ULvriYDh6kuXNpxgxSKGj2bPLzI+b1QKs3kQxYxqiwULU+0717xO7du5kP09LSzuzaRb17M9uBUOfOLwvw+foS6y1MmA3ZbjNbR3PDw4cPu3TpcvXq1aocXFp7kmxt13TpAkBQSrnlQoMzbx6dP09btqiEFRBAgYGs1nwMWR9LoaDly5OZTMCRI0d+8MEHIpHIWiJRSqUkEpFEQkIhrVlDISEUHc2+dqjOm5HojfPnafly+uor+v57tVfwqpOTejLHeKQ8PT0LCgq1n00vMFOX+fNVzqayPZbmBTnDF1777rvvjEo3ARcKhWZmZleZkAaAmjal6GiKiaGTJ9mPg+vWrQPQqVMnTputMzk55O1NSiVdu0b+/mRuruqVzcwa1as3ePDg3bt3nzp1ysbGpkOHxd27KxmHk8FhxpLnz+nrryk0VJVeGxJCyckUFkYREZUeaHhhEdHhw4fLvoKt7teP5s5VvbGzRqFQREREdOvWDYCdnZ2FhUVcXBxHDa4KN26QeotNb2/q359MTGjYMNq7V17GsXnr1p3WrRUANWtGFa1Bq5DJZOfPn9+9e3dZJ7ue+fNP0vCAa4SwEhMTjY2NTUxMvLy8IiIidN3+SiaTbd++/e2332Z0aWpqyqxO2NnZ/fdVnWojO1s1hNy9S4GBdP8+VeJhf/qUmC01hg5VaYspipmWRkeO0Jo1V3r06GFiYgLAxsbGUB3znTu0YQNpcD/XCGGdOXNGLBavXLlS1wNzc3ODg4MdmDVqQCqVMj3fxo0b+/fvD6BZs2bsQ/M4JyqKli+nNWu05nzl5dGCBfTll/Thh1RSQp99Ri1aqGYHDg4PmTmDq6srIy+DZFNqpUYIa9OmTSKRSNfexdvb27K0Lqg6+czc3NzHx+fRo0f5+flMBlubNm0q3Fe35hMcTPv307ff0uzZ1Lw5mZlRnz60ZAmdOPErkzq1ZcsWAA4ODrlc1v2qGjVCWJMmTZJKpTodkpSU5OLiIhAIzEurddWvXz8wMDCzzLYl6enpzJjYpUuXGvjotRIcTElJtGABeXlRUlIFq44KhaJLly4A/Pz8DNFATdQIYbm5uWnIBaqQ7OxsZjrl7+/fpEmT4ODgCjdTffz4cZMmTQB4eHhoDjyvgfz4I6WkUHo6jR9fqU1sbKxQKBSLxbeqkK3MJToUXuOOhg0brlq1Sp19wBIrK6usrKzk5OSGDRuqHRavcv/+fXd392fPnuao380AAAuvSURBVLm5uTHRlXK5PC8vj/m2pKQkNzc3Ozt75syZEydO/C93Ue1kZqJtW7i64vffNZlNmzZt27Ztffv2PXXqlL6axgJDK5uIqF69emxqaZSjXbt2pqaWly/f1Gp59uxZJtGlsocgFovFYnHNck8QxcURQM2bazHLyMiwsbEBsH//fr20ixWG30Dg+fPn5ubmddhtFFiW5s0vymQvEhNbabU8cOBAcXGxvb19ZSHUPXr0KC4unjFjBtWA/lvNs2cAUFqrsFKsra3VueA5OTnct4sdBhR1YmKij4+PVCqtU6cO+0RQNbNmEUAbN2oxi4+PF4vFRkZG169fb9WqlYuLS4dSOnXq5OHh4eHh8fTpU6ZWzL59+6p4Mxxw+HCqm1vGtGnaA0oVCoWtra2pqenq1av10DA2GEZY165dGz9+PNN/MJ4niURy9uxZnU6yfj0BpDWjkclNmKYuyl0JW7duBfDWW29VYVDmiODgYACzZs3SahkaGioUCo2NjcPDw/XQMDboW1jnzp0bPHgwIyZjY2MvL68bN254e3sDsLWtf/VqxVHbapgfXamk7Gw6epSmTqWwMNIQaRIdHc24JLS6SRUKRdeuXQHMnz9f57tiw8WLtGoVnTjB/ojFixcD0Oo3vnjxIuPG28DUXagZ6ElYSqVyx44djNMFgLm5+Zw5c9QlQBQKxaRJU9zcfqtfX9MCGZWuq+fn0/z5NHWqKiS/sk5LqVQyeS9sKnkQUWxsrJGRkUgkqvYtxCkhgXx9SaGgTZuIdSjfp59+CmC2xiLV8fHxzCCutUvWM3oS1o4dO5icaRsbm4CAgFfD2YqLadAgVU1KZp/ACpkwgSIjKSyM5s+nefNo0SJ68oTmzKHVq+nwYXr06F/GTK62nZ1dZekrrzJ9+nQAPXv2rOYabqGhqoDGlBRavpxOntQaO5uamuro6Mgs2rz99tvBwcGv3kVaWhpTrGDQoEE1bQ9pPQmLSXHp06dPhW5Mhvx8evddatCAmIyyrCxKTVWtnxcXqwL7p0yhq1fp779VwsrMVGVnqHMeO3aMe//99xcuXLhnzx5mDXHnzp3s25mRkcF0AJqrgunM33+retczZ2jzZmrYkAQCGjWKHj6ssA2DBg2ytLQMDg729vZmQlUBWFtbz58/X73wVVBQwKxZdejQgf3/HL2hJ2Ft2rQJgLe2YL2sLIqPp06d6MQJ+vtv+uUXVVpOWhotW0b076GQiUHbtYsmTqSFC+n998nGhnr02Kl+4bWwsGjSpMnu3btZlpXKyckZPnz4+++/LxKJevbs+V/utwK++opWraIVK2jBAhKJyMiIgOwOHb744gv1clNGRsbYsWNNTEycnZ3Va1NFRUX79+/38PBgbkooFHp4eBw5csTT0xNA48aNa+bO5HoSVkREBIABAwawMZ47l7y96fRp+uUXGjKEAgNp8WKVsJ4/JyJSKik9XTVnVyopLe3lsY8ePQ8PD1+6dGmvXr2MjIyY2l0DBw5kc11/f3/m/RTAPEa2XDBlCpPOR6amoxwdmVfRr776avLkycbGxsbGxhsr8aBcunTJy8vLpHSjOoFAYGVlVdNWctToSVjXrl0D0LJlSzbGc+fS3bs0fHgFPZZODBw4EKUFB48cOaLZ+PHjx+qom2bNmnFXaouI6NIl6tkzuWtXtY4FAoFYLLa3t9da+PnZs2dBQUG2trbW1tY1x7nwKnoSFrNmbGZmptUyN5f8/YmIli2jsDBVWaz0dGJdMeUl9+/fNzExYbTSqFEjDdM7IvLy8kJpdcJDhw7pfDHdOXX4MDP1ZoQ1d+5c9kH6usZC6h/9+bGY2CnN6U1FReTsTOPGVVstYcYVxPQKGtKX//nnH6FQyKxkd+vWTT9lvYmoqKgoODiYuW5tDOzRgP6ExWwHclljieANGwigFi3YVzzQQkFBQePGjZkuwcTEpMJSZkTETI2NjY0FAkG05lRODmD+y5WNJHsN0N8iNJPrl5iYWJnBixeFQUEAsH59tW35J5FI1q9fD8DY2LioqMjHx+dVm8jIyFOnTonFYrlcPm7cOCYdQ5/Uq9fU0rKJXK7Q83U5Rd/C2rFjR2xsbFFFezsFBn5haTny449TBg6szuuOHDlywIABxcXFJiYmLVu2LCkpKWfg7Ozco0cPuVwuFouZ3Hw9U1BwOSsrQaGw0f+lOURvfeMXX3yhzvESiUQtW7b08vIKDg4+d+5cXl5eQkKCiYmJUCjUPFZWjbt37zInt7e3b9q0adOmTR0cHKxKYdLbBQIBV6uE2nB0JKD8skFtR6+L0P7+/l5eXq1atSoX8GlkZMTMr9u2bcvRpadMmaL2AFWIq6vrIwP9tk2aEFBBlddajWFCk+Vy+b179y6XcunSJblcDkAikSQlJTGLKtXOrVu3GG8CALFYzKxdAhCJROqaHPonJwfffovsbHzyCRo2hFgMExOkpYGbZ6BHDK1sIqLw8HCU+pB0qEz8WrBpE02dSkQ0Zw79+CPFxBCxK+dSwzF8aDKAYcOGtW7dWiaTGQkE9aOjkZ9v6BbplUaNoE6DiIpCaCgqf3WuNdQIYQkEAn8/v53vvptuY/PZqVPYvt3QLdIHWVlYtgwlJfjoIxw4gOJiAGjRAh06oPrqiBuMGiEsAGPHjJmcnGyZlgYA69erHvNrChFCQtC8OZYvxx9/QCCAjw+uXgUABwc4O8NwU77qw9BjcRmCgwkgiYQAqklJDVWGCYcuLqa0NLp/n5RKKimhqCjq3l0VPdazJ0VHq5YZnj+nggJV0akaE3ZfdWqSsHJzqV49ataMtm2jmhe5VgWYOXhCAq1fTx9+SLt2UXY2eXoSQG+9Rbt3k77WJA1AjciEfsnDh7hzB6dPw9ISpqaYO9fQDfpPjBiB4cORng4AT54AwMyZ2LULtraYOBG6Z1LWJmrKHEtFkyYID8eXX2LxYty7B0XtXj6zsUHfvujeXfXPBQuwbh0AzJz5mqsKNU5YAEp3hoGxMZRKgzblv2JqCgcHlMaso0EDtNKetv2aUMOGQgA7dqCoCHZ2iI7Gl18aujX/iYICSKVQKlFcjIICLFoEU1MEBaF065rXmZonLADx8cjOhpsbdNlXooaTlwcLC5ibIzfX0E3RCzVSWK8jMhkkEpiaorDQ0E3RCzVvjvWawoQuyuWGboe+4Hss/SEUColIqVTqtHVULYXvsfQHU13n1RDW1xJeWPqDCW/09vZOY5ZEX2t4YemDzMzM2bNnM33Vzp07mzdvvmfz5td7oZ0XFrcoFNixI8rZ2fmbb75RKBQApFJpZmZm13374OKCkBC8rnNcQy5Uvu7ExFDnztS4cZGJSZ0+ffrs2LGDSa7s7+BAUqkqwuG9917LtWheWFXn3DlVYZLDh19++M03VFxMKSk0bZqq9oeTEx09qqrIUFJSsm3btufvvadSlakpzZih2kh9xQqqafvg/Qf4obDqxMbixQsAKFtf/fffsWkTnj1D3bowNoaPD27exKBBzsy3RkZGn376qe3RowgKgoUFJBJ06oQWLeDvjzZtUGa389qOPjYbf43ZsgXW1rh37+Unzs7IykJSElq2RFLSyxXofyGVws8PXl64fRv376NpUwBo2hTnz+un2XqAF9Z/wtsbzs5ITf3Xh/Pnw9MT48dXoio1dnaws4OtLQ4eRJs2OHQII0Zw2Vi9wgur6jRpAiY3sVUrvHiBkychkcDFBRYWmDULpSmM2njnHeTmYu1aeHigbVsu26tX+CWdauPuXaSmondvQ7ejZsBP3quH1FTs3at9e5I3B77H4uEEvsfi4QReWDycwAuLhxN4YfFwAi8sHk7ghcXDCbyweDiBFxYPJ/DC4uEEXlg8nMALi4cTeGHxcAIvLB5O4IXFwwm8sHg4gRcWDyfwwuLhBF5YPJzAC4uHE3hh8XACLyweTuCFxcMJvLB4OIEXFg8n8MLi4QReWDycwAuLhxN4YfFwAi8sHk7ghcXDCbyweDiBFxYPJ/wfB+1+ZEle8OMAAAVOelRYdHJka2l0UEtMIHJka2l0IDIwMjQuMDMuNQAAeJyllAtMU1cYx889vS3F+uBdkVoulccFaUEoDxHpKQpCsbyKIBDNFU2ozmXo4kyWOLthdJWhbkPjc8mmWXRONxXxAdJzp2JgwcW3c2LQTOd0iIsvzFy29rsiU+Y2s5ucfL/79X++738et72tu64g9+PjHgySnkr3ENzDwSggMjIpyl54x1jBGT2RYb2Q3SPAbgXvAVYpxacKhmH7pygR54kKCOzzBQfiv9TDA/UURBIoCMxwexyA/qmQYJjBkv/eRikZe4UZg4x5kVTwIfsnyy9bxP/qCwnZYCOvUPRZfF740goDP7x4AV6MXuipPfTcShn8DAbX7p/x9xX/0vIlpgbZftarX6pyfw0Mdt9ExMpYzMqRXMEpvHisUCKlN4u9h6AhKqQailTDkGo4Uo5AI3w4H18e+/ghP3+W8Q9AAYF2HBgkBKntWD2SUwcLwaPs2C8EhWg4zWgea7RIG8oyoRzShqEwHacbw2NdOAqPYHFEJIqMsuMoXuCjhegYO44ZK4yNteNYvaA32HF4HIqL5+LH8Tg+ASUkskyiERmT7DgpWUhOseOUVCFhPBqfxqVN4HF6GsukT0QTM1CGCZkIj01mjs1EmZN4nDmZm5yFsrJZJnsKmpKDcnJRroXHljzOMpXLsiJrPo+tBVxBISosQkXFqNiGbCUsUzKNxyWlXGkZKpvOTS/nplfweFSAYIgUUo2COR3ZCpAhWshUuHdRERikDh4VII+KNETzipixsXpDtDzJmJqSLJ+YbjZlyAsLbMVF6nx24K8HVVYv0bqIst3lebEfmmqKO7gS2Br2yLTwNZZ6uDaxzlR+qS3Dw4uqOVIwTDB5+PLpBNKUFkQ8zF09a/KxTAM+qn87Q6lLBu498Nh0mG4A3rmjjLSW7AB+Il9DfDudwOfnHyGBsyTNJdRJ3rpfBnzq4i7Se6IN+Kszt0jwg+1SnRtFpuqcQ8DhhcGuqkappvh7latq3CJJM7/LNSK9Hfjy2oMusaxP0m9pbbn2QGYG7qg3jZxzE/Jte8OIpu8RsF5rJD85/UFzd9EK8rMtBPibxRdMR6xjgO0LVmQ010p572W5VLVd8lPTW0krPlgp9ar3p+XepcAfzdxEd96VvB1c7aIyx0ZgeUUTbdwk+cxu2EZzDqml/ZztoF22PbDPdX0R9M7WXuAz6520bveeIx6u+M5Ct4x3wnmJaTPouLM6OK+9YzbSmfl5wJVlDdRoXQtsW2yhN9/7BPh9TTDdsvsEsHXpHNfC623Aq65Eta65uxn4ZNUbriZnNbD9XAgdppkLvOuPJnr/nB/0PRP/A7118jTcDe63U9Sh+xV8XshjxXnHN4DPeXOCxGZ2rpRX68WE9ougX64ziq9XvAt19oVNFTVLlwHvv20TDQuOgeZ6CxFN72yDuV/fUIoaVRtoJmzuoTcDpPXOSqK0+xcMfOfUQxoR6QDmYn3F9NkNwPezhotm72PAKTU99EFGp6RJ/J5mH+8Dzgw9T/0tW4HFdjs56bgq7fPMUnJ6eQf0bf72U+LbTcHb1SfHidAZIuVn3yO9cx+DvqZDZbbtr4d81xKdeVmHFrhmndH8sLZTyufmma8nrgZeUDXDbN2hgL4HfiwwO243Qn39iRbSHCOXzk5YTY4Wh0vc100C0yYDx3V7mRuaDcDXkgPMS53S2lVvsubPD28DDm25TLQ9HwLPW7OP1G78QroDm5xkVe7HwGvLG0nX+kvA3fo6Min7HvDQR3Uk/zNf0cNfrssizOPRwD2395N2i8RBfwKVgM+YLx9UdAAAB156VFh0TU9MIHJka2l0IDIwMjQuMDMuNQAAeJx9WEuOJbkN3Ncp8gKdECmRlBZeTHfPDAxjqgC77Tt47/vDEcxXyuwB7foQr/TiKUPBr+rt4Nffv//t3/859pd+f3s7jvZ/ftZax796a+3tj4Mvjq+//v7X9+Pbj1++fq58+/jn+49/HEuO5fgMvn/G/vLj44/PFTm+HV/a6bKkyfFFTotmPo52tvy6P6tAtjPWijYIbLPH8ALYAZRz9ZZAPZuvZrMAjgS2GdYW3u5z9mkFzoDT05p34dvAa+sFzo934GINUdA9+4jeK1zkcx3bAdfP3tXLg8zjA6s6Bp+r5xw2NQrcug6MU6gf45xtRFT7CVzD5/mKLoedusRWJbUInjxw4haU6ezNdWoFpFPsXLKsG4CxOt1YAOkUPwc0tEEOMXSVHEfuOLqGBD6hIquVQHolIN7sIw+DyJBVAekWeE0W5TFwbG1W4SBxxaKtOWMB2RtYtApJzwA5p/vkcWYX6eXD6RsEa+jinjjPnFZKqe1CjqFQHScLbyEl8pUzTRE485iIkLBe8VTNyJAWdHic6qpSHV37FeLq1p3PHqv1KtR0JHDK6EOPdWI/8RJoGULau4wAMFqsWfkRPslsmJ07CuK9+YhKS42sAEgW67mlLPcq2HTC41/6KWPSPYaMkPAqEzXd0xFuPuZipCMqy5zFzweLSW8GbRjBSEutnt7TPUhDM10ZHEOhV4Wke74gfaYTiY8AqGVJ63y6nb4meTpoNLVK9z54dsPZkYlZhaJRhAJpF88mSqSg/kHXKuAQEnl2W5DHgJyhyMoKGdeeii7RLIN0eljlzT4v6cUnE5wFPRD5paKfXjIPlCYyYZZU0NFe4mNb6MP9w72u/kKlxomKhFKcrxwPqKQa+sm1W08o6t2YlQKDmcQ4Wdodx0LGj9a8aitjXHk8l+K5CRWzVnK1CwoCC34jgTa4fwH1CwpcdtSO3hpRc42LK3IZNTGhAwlbhdWYV1iFzEAbYZWMblFC01uOsF+EtnOIAFv11cwpPw3dv2VcoQGXUlnmFCodvCpXXKFpl2Ft6asFByzLdo3BQrUS1dJVwtYwuyZTRS+plLJ0lcipxmzOaJVmZbaYUSrBIIBCj5pFLHyhVRJYOks6gsRazgBoZ142b0TztS1wEBRqKbQo5xBLZ83TzFmiOFQNZGypVjorcHJLKFKrq5U1yF/eYjSjp3KwGhjWKmVdrl1DOusZiwxYW7nry13oeRpXFnYkecXV+xUEyBc0E1LB5lI2Ph+vY6HpI3QBHZKZU0DtOlZMND1J1jHarIqLc5IA1BfO5VllG8aOKgg8ctTCWdD/MnORjK0KAecswXbC+S19hagpZwlfeLydGI8lB50eHuWW0XLYYqoCyOkaVbiMlJAcorzZ0oumSpRpFfTTPAPDo+b4jaGilRNc5PyNrQz5cT1eIVMVJ8FmxaxCk7iyCkys7CzBCsikAoAlGARwvrJdBN0kHMo8oQqu8Gh5fiYVdl0Lk3pqik+U7SpmzqUTSLluFRMhW+65cvJBe2AtZ0ahA1pFFEX5Heo3zJmYj1F+mztyqkJKqj8WQkO5J+ZyhHaFpJ8wl2GKwfvZ3r326Oy5JzyDG9A1MsT/QI6Mp7liIbGwpzmeXvK0VAkB2iEY9sT418sZbXqqxDmmZ4VwxEhZI2dk2KP1ZuvzHLa9ipHJujeYSh2t5QvjGnJVPWqy7AEZfbVg+UEi15PXoo86L4lZH9fJF2XKL16awHOikq9E4gZaTh6/vn//6Q583Yq/frx/v2/F/Nb76os/jn5fcPnnuK+xuP/wMvvb73/ZGMtFv6+mgt+4b6CK33lfNHE7ONZ9nxT+tp93lKTFy+HjmihpNlEhU5r7U/21sunKeK3Y4yqXD9xshXRpNmEhY3a9zVlImiubtpA3jF7EN00lcd7I7xWBXDB6K6xcUVyEHleiQaObuJI4jG7iStm5spnzAk6jmzni72K1mSuZw+hmjrhXmv68bkiubM6dYsPw0vA8XafkMP0Oj/5CbuadzGH6Zo5MUpq+mXdqzpXNvJM5DCf1ZyB08ofpmz9K50jznMNHms1zUHOarfmg5jR750HNae7YHlzBz2Y+qDnNZj6oOc1mPl7Mx9Z8kDPM2JwHNYex5zgqubI5GzWHsT9pbtQcxu50I3MY28yNzGFsMzcyh7HN3MgcxjZzi9cTN3MjcxjbzI3MYfw5mgmHLk5zT54u17pvzZ3MYXwzd0YLjG/mqPFK45u5M0G5ctcTv+rLJu5MUBjfxJ3EubKJOxMUJp6TitBwDnkSDxKHiU08SBwmNvEgcf6nZBMPEoeJTTxIHCY28fDXyl0L48VhM0frUprYzIPMsTKfvVto5uY8yRlmbs6TnGHm5jzJGWZuzpOpCcPO+VRgMkFh5mY+yZwrm/kkc5h5F3JqDjM380nmMOvZ0TRX9rNWlsN4FMiVqRmPFF8Z4PEI+UXmiAO/P2Wvs9zP8mufO+nZ+56djn9//u8Yr9/+Cy6jLol22fKfAAAD2XpUWHRTTUlMRVMgcmRraXQgMjAyNC4wMy41AAB4nGVVu45bRwz9lZQScDXgY/iyYCDATeFqt0pluFLv1o0/3oe8myCBt1iNzpAc8pCHOs/beT+/nn9++XZ7O2+f3+8495fzvW/68v4v3vCLX6/X7f3+evH/L95/s/v6/cu3l7z6j+W32+9z/58guODznG9vfL8+/0nmPN8+n7e3+9sH3oYTiq/vb335+f2Pn7cHLedi4uPBy4LMjyetqAraDVFq2PHkVUpxPGSRF3kDlGF80NJMTZjIMnJtBBdC2kjUZjlk6Q7VdnJYyKFLVdz6Jdlb2WCS23JMyqj02CtpRx5P2HqFHrak2Op4brxD0RZKLrCwVVy2AUTh/aevjUSsX4mtfb9VQg5fwij1eAaeT90dEoVKp5GMgwOJIsIjoMUqMwqQEtwHynTPjcCpzBsQrxCYdehMy0H2FjAVK5yCx40E1aK4RLVhUyRToIRY4iIy3IGP3V67QDyA5I0UawmSjq5atImqFYSkh8tUWDA4pA8ufZtGm3A5evTQxTs9UUMSx4Vs9V1NnpQjFXRUyYCALbQCuTxAvZk0kluySwDD6dJeCUAH8Up4ObxJfBAkzN3rIM8JQyx8MAaks+qXrPAqkAzhGhOpQkeao/SwjCtpz5p5pGgqJ2tzkNkhQO+VI6z8aOvwKXYvNB2nPjjMP0IpCAdUpjuvckuQzgMt20QffS1ph8bY7GoaPAtD1K609bIDMEpRaCbiCocu1SBbdA8PwRlTk4VatKeDyYqWxkYzEbUhg+6aC6inbTAcnibDRRhk1zUVsq1RGSQqMgPWw4phQiw82LkyL7G81MpkHYwhPUsZCDl3x1hRsI1e1WcWYETbu0OSU3QuM9fxso0WAQq8Yg2BeZWeXWROmLeBaFtcVsHKwzMh5JU5NArZTFuCr/DgmbJpZvFJCuEhPGtoM/ie8JHRlCJobMqBvLiTwIwRJNtLAUF1SGZ0hAZCI+xaYymyW/fYZtg2KDk82gYPozXDsWPgekcFTlYDYVoDND5zBVbO0MAjYVCOsYhxEySAnJrz7JHh9u+11JTjNF54BV3g3hNQJohimkpgU6XdO0yltheUWb20mszsrQah7yS7Zh2SsE6RsIJm7MidJsNdIto2oQQ9YE04pm80550fpikSJY8sZ1QxgxU18jAnnredWbNtsFp63vaoeeI46pzdCQHV7gb1zrts9gijmROdjNGLFmx1e7qv2j8O3bBa/Xm9lUY2CH5I/LgfP/76BE8sxTwUaySOH39/4kSHDgU/fBgEpIeDc/zHTttHgtD6+QvdS4qTFX/NqQAAAABJRU5ErkJggg==\" alt=\"Mol\"/></div></td>\n",
       "    </tr>\n",
       "    <tr>\n",
       "      <th>2</th>\n",
       "      <td>DB00027</td>\n",
       "      <td>CC(C)C[C@@H](NC(=O)CNC(=O)[C@@H](NC=O)C(C)C)C(...</td>\n",
       "      <td style=\"text-align: center;\"><div style=\"width: 200px; height: 200px\" data-content=\"rdkit/molecule\"><img src=\"data:image/png;base64,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\" alt=\"Mol\"/></div></td>\n",
       "    </tr>\n",
       "    <tr>\n",
       "      <th>3</th>\n",
       "      <td>DB00035</td>\n",
       "      <td>NC(=O)CC[C@@H]1NC(=O)[C@H](CC2=CC=CC=C2)NC(=O)...</td>\n",
       "      <td style=\"text-align: center;\"><div style=\"width: 200px; height: 200px\" data-content=\"rdkit/molecule\"><img src=\"data:image/png;base64,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\" alt=\"Mol\"/></div></td>\n",
       "    </tr>\n",
       "    <tr>\n",
       "      <th>4</th>\n",
       "      <td>DB00050</td>\n",
       "      <td>CC(C)C[C@H](NC(=O)[C@@H](CCCNC(N)=O)NC(=O)[C@H...</td>\n",
       "      <td style=\"text-align: center;\"><div style=\"width: 200px; height: 200px\" data-content=\"rdkit/molecule\"><img src=\"data:image/png;base64,iVBORw0KGgoAAAANSUhEUgAAAMgAAADICAIAAAAiOjnJAAAABmJLR0QA/wD/AP+gvaeTAAAgAElEQVR4nO2dd1xTVxvHnyRAGGEjCsQtCqg4wIkKVOoqaK1iq4JoQRytKFJXHWjVFu3rnjhQi9VWqYoV3IqoWHEAMhwMB0MQRNkkhDzvHyemVCHci7kQ2vv9vJ/3Q/Gcmyfkl3vPOc/iICKwsCgbblMbwPLvhBUWCyOwwmJhBFZYLIzACouFEVhhsTACKywWRmCFxcIIrLBYGIEVFgsjsMJiYQRWWCyMwAqLhRFYYbEwAissFkZghcXCCKywWBiBFRYLI7DCYmEEVlgsjMAKi4URWGGxMAIrLBZGYIXFwgissFgYgRUWCyOwwmJhBFZYLIzwbxPWo0ePZs2atXv37qY25L+OWlMboBzevHlz/PjxX375JSYmRl1dHRHj4uK2b9+urq7e1Kb9V8HmTGVlZVhY2OjRo+UCMjAwsLW1Jf85YsSIt2/fNrWN/1Gaq7CuXbvm5+fXokULoicej+fi4nLo0KGSkpLRo0cDgLa2NgBYWlo+evSoqY39L9IsheXv76+jo0MkZWNjExQUlJubK//Xo0ePampqAoCenh4AGBkZXblypQmt/W/SLIXVunVrAPjyyy+TkpJqHRATE9OyZUsAEAgEAKCmprZ9+/ZGNvI/TvMTVkVFBY/H43K5AoFg/fr1dQ3LzMzs3bs3AGhpaZF7m6+vb2VlZWOa+l+m+R03pKSkVFdX6+nplZaWGhgY1DVMKBRGRUW5uroSIaqpqYWEhMyfP78xTf0v0/yElZSUBAAcDgcAunfvrmCkrq7u6dOnAwMDNTQ0xo8fL5FI7ty500hW/udpfsJKTEwEgNLSUg6HY2Njo3gwh8NZuXJlSkqKpaUlAAwbNqwxTGRpjsIid6yqqqp27dqRfV+9tGvXjszq1q0bs8axvKP5CYvcsYCmSsgsxY9OFiXSzIT15s2b7OxscrBOXSXl5eUZGRnq6urkgcjSCDQzYZEbDzmdon7HSk5OlkqlVlZWGhoaDBrHUoNm44SWSCTnzp1bs2YNh8MxMzNbsGDBgAEDKM4lCyz2OdiYNIM7VnJy8uLFi4VCoZub2+3bt3V1dVNSUjIyMszNzSleofmu3OfNm+fo6Hjjxo2mNoQ2qnvHysnJOX78+KFDh+Li4shvrK2tJ0yYYGpqumDBgn379j18+PDEiROmpqa1TheJRBcuXAgNDbWzs2vKlXtJCWzdChIJDBkCzs50Z9+8eTMtLY0c2jUzmvrovxZ27Njh6OjI5crupi1btpw3b969e/fkA+Li4tq0aQMAHTp0eM9dKJVKo6OjfXx89PX1yfRWrVqRxX5qamqjvxXEpUvx+XNERF9fLCujNfXx48dGRkYuLi6MGMYwKieshIQEogM+n+/q6nrs2DGxWPzhsOzs7D59+sC743VETE9PX7FiRfv27eXfGSMjIx6PR362traurq5u9HeDOGOG7Ieff8YnT2hN9fPz09PTu3z5svKtYh6VE1Z4eDi5S50+fVqxz7iiomLy5MkAwOPxgoKCNmzYQDQkEAjkjmcSp7V///7CwsJGewv/4Icf8NEjlErR2xsrKpCOuAcMGODk5MScaYyicsJau3YtvAtJyMzMVDxYKpUGBgaSJYidnZ2urq78dtWnT5+tW7e+evWqccyuk4oK3LABV63CO3fwyhXs3BmTk6nMy8rKMjAwOH/+PNMGMoTKCWvixIlEGfr6+lKplMqUY8eO8fl8EqRlYWHh5+cXFxfHtJ20CQ5GPT0EwK5dsaSk3uGBgYG2traNYBdDqJyw5IcCgwYNoj7L1tYWADZv3tw0C6l6qazE3r0RAHV1EUAyaVK93xkrK6uIiIjGsY4JVOscq6qq6smTJ1RCYmoilUozMjIAwNPTU76XVC34fPjjDzA2hpKSihYtpickbNy4UcHwt2/famhojBo1qtEMVDqqdY71+PFjsVisp6dXXFxM/Tzz6dOnpaWlQqHQyMiIUfM+inbt4MiRwuXL+z55kpGSwlu82M7OzsnJCQCKiopSU1PT0tLS0tJSU1NTU1NTUlKataoAVOwc68iRIwBgaGgIANeuXaM46+TJkwAwYsQIRm1TCmRrQnI9NDU1+/btK080qom6ujqHw/n999+b2t6Go1p3LOJ7KSsrA4CuXbvSmtUsXIFLliyJjY0NDw/ncDiVlZWxsbEAoKOjY2lp2alTp06dOpEfoqKiAgMDvb29u3btSv3voFo0tbL/AUkJ5PF4FhYW1Gd9+eWXAHDo0CHmDFMiBQUF5I71zTffXLt2LScnp9Zhnp6efD5/3LijRUWNbKByUC1htW/fXk1NberUqRkZGdRnkQDl+/fvM2eYEjlx4gQAWFlZKd4YlpWVjR59FwDHjkVqpy6qhWoJa/HixcQJ4+HhUVFRUe/4u3fvVlRUqKur83i88vLyRrDw4/HyCgKATZs21Tvy2TM0NkYA/OmnRrBLyaiWsBDx7NmzxH/cv3//ly9f1jomKytr8+bNPXr0AIC9e/cCQJcuXRrZzoaRkYFcLnbvXvb69Rsq4yMiUEcHf/mFabuUj8oJCxETExOJL9nCwuLu3bvy3xcXF4eEhDg5OckPqwQCgY6OjoaGxpAhQ5rQYOp8/z0CoKcnjSmvXuG8eRgcjIg4bx6uWIGk0ImfHyMWKgtVPE7s1q3bnTt3HB0ds7OznZycTp06hYhTp05t1arV119/HRUVxePxSH5OaWlpWVlZ69atg4ODm9rq+pFI4OBBAIAZM2jMatECuFx4/hxycwEApFJ48ADi46GkhAkblYYqCgsAjI2NL1y4MHXq1NLS0i+++GLVqlV5eXkVFRVGRkZcLreqqqq4uNjIyMjX1/f69etpaWlWVlZNbfLflJWBVAoA//jsS0tBLIbZs2HkSHBwoH3NgABYt07288uXkJ0NYrEybGWOpr5l1sO6devIg09eAUtLS2vixIkRERFVVVVNbV3trFsni+379tu/f2lri/Hx+Ndf+OuvtC84fz4i4sGD6OGBy5bhmzfvX1wFabwD0rNnYeRIyMuDnBzo1YvqrIULF1pYWMycOVMqldra2np6enp4eBgbGzNpqRK4ehVatID8/L9/4+wMO3bAtGm0L1VeDpmZcPMmTJkC9vagrQ0CAQCAn5/SrGWCxhNWRASMHAkvX8L9+zSEBQBCobC0tLRPnz7knLpZYGoKrVoBn//3b9TUwNMTDh4ER0d6l/r9dzh+HLKyICYGah7Cq3iKZOOtsZKSYO1a2L+/AROTAIAcLjQXunaFXr1ATw+Ki+HYMXj6FABg8GCQSGhfimxLaK33VYIGP0QTExPrOmeqlW++QUSMi8N9++i90MyZMwFg8+bN9KY1HYWFSJZ/eXkoEqFIhHv3YkEBImJZGZUgv7958OCthgYaGNDNw2h6GnjHys3NHTVqlL29/b179yhOIbdugQDMzOi9VrMru2BoCGpqAACmplBdDbt2gZsbkGWhfIVEkV27lujpdZ0/P0ZbmxFTmaOBwlJXV+/YsWN2drajoyOJWqmX69ehsBDKy4Fuhezk5GRonummAFBaCl27wtu3DZlbUFBw+PDhgoKUsWMpFdVRLRp8rxOJRFOnTgUADocTGBhYb6ztlCm4cCHevIm0ooxevHgBAC1atGiwnaqORIKIWF6ODx7giRO4bl3o4sXOzs5CoZBE0tIK0VYdGr4r1NDQOHDgQM+ePefPn79q1arHjx+HhITI867kxMZCaCjo6YGJCbRvD7duQevWNF6FPAdJSPu/jchIiIoCDQ1o3x62boUHD2S/HzTo6o0bAMDlcvX19X19fZvSyAbz8dqMjIwkDpYBAwbIy2I/f/5827ZIKysEQAA0MsK5c1EiQRcX3LMHv/kGS0spXXzdunUAMHfu3I+3U+Xw8fn7h0GDUF8fjYxQW/tmDS+Cvb29VCqlEuihaijhHGvkyJE3btwYPXr0rVu3evfu7eHhERsbGx0draenX1Hx0syM7+4OU6aAWAw8HmzfDrNmwdWrcOsWhIeDUFjPxckdq5kusOrhXZY2qKnBwIHwrvJHRyOj7t27k2jSbt26jR07tnfv3itWrGgyOxuGshSal5dnZmYG78rOamtrT5o06eLFl2QJUZPHj7FzZwRAMzO8d+95XRfcunVrXl5eQkJCcHBwenq6suxUIX7+GY8cwYgIXLgQb9/GPXvwyhXMzHwvri8iIqLWIgMqjjJ9hfITAUtLyyKFEbWFhTh0KDo63uPz+aGhoTX/qbi4mCQReHl5/dIcA5Foce8eXr9eb4RoTk6Os7OzyvpGa0VpwqqqquLz+eR2NUNeCaNuxGKcPXsO1NhUvnz5Mjk5uaysjHgG2WL/NamrB4fKojRhEccLWcVv27aN4qytW7eqqamZmJjs3LkzJSWF1lH+f43Lly8nJCQ0tRVU4SCiUtZq4rCwsrVrH4hEmSYm3deu7TF4MMWJrq6uERERHh4eoaGhSrHk34pUKi0pKfnrr7+KioqkUmlxcbFYLC4rK6uoqKisrCwpKZFIJKmpqRs2bOhFy8nPDEqLbtCIj9eIj3fk8+HhQ7C2pj6RPD3HjBmjLEsazOvXrwUCAb9mTIIqweVyT506NXv27PLy8rrGqKmpDR8+XF5YuglRXthMUhIAgEgEZmZgYkJnnkqkm1ZWVrq5uSHiqVOnSOcwFSQsLKy8vLx79+42Njb6+vrq6uoCgUBTU1NLS0sgEKirq69cufLly5fnzp1zc3NrYluV9lDt0EF2GDpsGPVJxcXFHA5HU1NT8uGxROOSnp7etm1bAGjbtq1qLmUqKysFAgGHw8nOzq5rDDlPdnd3b0zDakV5wjp/Hn19ccYM3LWL+qSYmBgA6NWrl9LM+Ajy8/MdHR0BQCAQnDx5st7xz549i4+PbwTDCBcuXKj3b5Wdnc3j8TQ1Nd+8oZRexhxKCvSLi4PISBg+HMRi8PGhPk9FnoMEExOT8+fPe3l5kQyOlStX1jqsoqLi+PHjbm5uHTt29Pf3bzTzrl/vP2TIgy+/rN0qgrm5+dChQysrK48dO9ZYdtWBcvQ5f74sgC0kBG/doj7Pz88PABT0s2wSNm/eTDI4Jk6cKPfTSSSSs2fPTpo0Se5o19bW9vDwoHduKRLhjh24ejXWKAJNEWtrBMDo6HqGkc11k8dEKElYCxbIckeCg/HOHerznJ2dASAyMlI5ZiiPiIgIciY3cODA6OjowMBAsgIDAC6X6+DgEBwcrNi7UDtBQRgXh9XV6O1NKyr0xQsEQD09rNe7U1paqqury+Fw0tLSaJunPJQkrIcPcdYs3L8fZ86kVRiYVId68OCBcsxQKvJq8vLEaysrq7Vr1z5/Xqd/s35mzpT9sGULxSq3hNBQBMBx4ygN9vLyAoDAwEDa5ikP5S3eRSLMyqI+PCYmZsqUKeQz69Sp08OHD5VmifLIzMxUU1PT0tKaNWvW7du3acysq0LJihWynMM5c7CoCGfOrP/ZhrhlC1ZV4c2bePw4pRe/dOkSALRr145idWAmaOyE1adPcdOmh507d5Yv8shRnoGBwY1LlxrZmHpJSUkBgPbt29OYI5Hgt9/ihg3o61vLN62oCFetwh9+wIgInDYNAVBDA/fvV3xJNzfctAnv3kWKJcBKS0v5fL6mpua5c+doWK5UlC+so0dl3vojR/DaNSSFyg8fxn37cMgQ5HBQU7NCX9/A3Nz8q6++Io9CXV1dK0PDqtatMShI6fZ8DGRvNXr0aBpzoqLw8GFExIwMXLu2zmGnTyOHg1pa5PAvc+3aD+s9SyQYGYlhYRgQgMuW4YkTlISVnp7es2dPANDX1y8uLqZhuVJRvrD8/GSrrG+/xV27cMwYLCrCOXPQyAgBUEcHPTzwypUUciJKOpcYaGpmtm6NHA4C4KxZqDLxISS8bunSpTTmnD+PJ04gIubm4ooVdQ4rKsJRoxAA1dQKhcKWOjojRox4S+rIICYmvg4IQDMzBMB27TAgAIuKcOhQ3LIFXV1RQU+gyMhIUuHX0tKyaY95GRHW6tW4Zg1OmIC7duHly/j99zhvHm7bhgcP1pJVV1ZWlurnhwDI46G6OgLgmTNKtwpFItmNVH5joLDJGDt2LAAcPXqUxguVlqKXF0ZF4bx5qHhTIpHgokXVpqa9TUzIEYa1tfWKFSscHBzMzftzuQiAVla4di2SYJFTp3DYMARAbW3csuV986VSaVBQEFmzurm5NfkBKeN3rMePceNGdHNTOEcqxWXLZHesSZPw7l1cvRr37UNl+Xn+9z9cswbnzsVr13DBAtnKmmTQKqRTp04AkJiYSOO1goNx4UL098e//qIyPPLQIbLKrNn91cTEZNmy/A93C4WF6Okp85xNm7ZRHlhbVFREvgM8Hi8wMFAVuigoX1ihobJbw6FDePo0pqSgWIyrVlGYeeQIjh+Pr1+jry9WV+PVq7h9uxIMqqiQVWaRStHXFxcswGvX8K+/cOpUxfPKy8t5PJ66urpIJKLxcgMGyD75nj0pzrh69Sopc8Lj8YYNG3bs2DHFrxgejp9+eo7D4ejo6Gzfvj0+Pr5jx44AYGxsrDq9d5jdFR4/TruAHd6583cSvvzUpwEUFeGhQ+jigtu2YUCA7JczZuCCBRgRgRcv1mvWnTt3AKB79+40XlQqlTXMAUAPD+rzrly5AgDUa0UXFBTImw6Rx5+9vf1HHbApG2aLgpBQmnpTcf5Bmzbw5AkAQGoqvRREAACQSCSRkZGRAQHQqhV4ecGlS3DyJIhEcOEC7NwJpI20szO4uIBePenFDUkQev4ciotBRwcAgM7E4uJioOMzNTY2PnLkyJkzZ4RCoYaGhru7e3R0NDnOVRGYLWOUmAhA7y8MYGoKdnawejVIpRAQQH1efHz8L7/8cuTIkby8PKGeXiaXCw4OMGUKTJwI2toQGwtDh0KXLvD8uay80Pz5ii9IHOTadKom3Hv8ONvR0Swvz4bD4XfvTv2P27Ast88++ywhIYEUy6Q1sTFg9H44evSL1q3FCQmNcf4rrxZpY2Pz008/ldJxA9QKKSBgbGz8559/Upzy448/wjstvnjxgvprkR4IBw8ebJClqgiDwmrg4rehtGnTRldXNyoqSonXnDNnTsuWLS0sLP744w8q4ydNmkTETb3ZIoH0NblHP+RBZWFQWHfv3gWArl27MvcScqqrq9u3bz9w4EClX/n69eu2trYtW7asN8nx7du3wnfLSVqWiEQiDQ2NZtQDgQoMLt7JusGaTmJFg8nPzy8vLyfHTspl0KBBN27cGDJkiL+/f0hIyIcDpFLppUuXpkyZYmFhkZWVRXJDsrOz37x5Q/ElHj16JBaLO3bs+GFJlWYMQ4LNzc397LPPdHV1zczM5JVCmCMuLk5LS4tUhGeI3bt36+vr76oReB0XF+fv79+qVSvyl+RyuUOHDv3uu+9ILkbnzp0fP6ZUGeDXX38FgHEUY2KaCcoUVlVVVVRUlLe3t1Ao7NKly+rVq01NTQGgbdu2VCOuSkowOBgPHECay7JTp04ZGRkx7XN99uxZ9+7dV69evXDhwppHA2S7IF+tZ2dn29vbC4WDOnaU1Bux8fDhQ9JkatGiRYwan5aG5KD+8uXGcMYqQVh5eXl79uz5/PPPLS0t9fX1HRwczrxz9uXn5w8ZMgQABAJBPbcTkQglEvT1xWfPMDlZVtqcMkFBQfROMhuKRCKxsbEhfeEMDQ1JB4MPh5WWlk6f/hYA1dRw585arpOfj8HBh/v27UukaWZmduzYMUYtj4hAEqj73Xd1RospkY8SVl5eXpcuXcjuum3btu7u7o8ePXpvTGVlJQloJDUaarlKUhIuWoSmpnjmDMqLPlCo/lCT6dOnT548uQFvoQEQ90tISIjiIjBSKS5dihwOcrlICvPm5mJKCp4+je7uqKGBTk5LAMDAwGD69OlRUVElJSVUUoMaTEQEennhmjU4aJDKC4tEKmpqavr4+Lx69UrByA/TE549e7Z69epXJHSE/O+TT/DrrxERpdK/i5JRY9SoUadPn/6It0KV7OxsADAyMqI4/vBh3LABHRzw+HGMicHx42XvVU0Nvbwyfv/995pF1Z48eYKIpfXVpKuqqjpz5szIkSO/++476ocazemOtXnzZgDwoSYCeXqCtbX1gAEDiM629+iBOjqyeDctLQwPx++/x4ULaSWxFBcXOzg4NCS1gT7nzp0DAEdHR1qzAgLw22/x/HncuBHt7HDzZszLq31kQkKCk5NTXddJSkpatGgR2S6oqalxOJzx48eXUUvKuHVLlj+1YwfdFWxD+ChheXt7A8B2yjEIcXFxcueDhoaGoaFhS01NqbY2AqCtLW7YgHTEUV1dff36dV9fX11dXS0trX79+skD5Zhj9+5MJ6eLK1ZQOi+VExCAz5/jiBH422/1Dy4pKSkpKVm6dKk8sSwrK2v9+vU1HT42NjajR4/W1dUFAHt7ewW50XLu38fvvkNE/PlnWrY3kI8SVr9+/YBOu3lEfPnypY6ODjnsIYvWp2vWIM1Yx+RkXLwYXV0PkItwOBwSzNStW7enT59SukRVFZ4+jefO0copQkQvLwTA3btpTZKFKG/aRDWE8ciRI9OnT5dIJKGhocOGDeO9Kyppamrq5+cn7+H45MmTLl26AIC5uXlsbKzia0ZH49ixeO0aNk4914YLSyqVkm9MAWm6QBkS5/75559HRkYqKNmwfDkiYmIiHj+O7u74+DFmZuLChWhvL493etOmTZtFixalpqZmZGQQr4ixsXH9Xh2pFOfNw5gYvHQJv/+elvF2dgiAN2/SmiRrY/n0KVIPl5JKpVKptEOHDgDA5/NdXV2PHTv24Xbh9evXn3zyCVnp/lpbY7HKSgwLw9GjcdcuPHECfXxw9mx6xjeMhgsrPT2dfFdozcrJySEb9XpHTp+Or1/jlSt44ADOmYMzZ2JGBpIYZkNDnDEDb9yQ1ly6lpSUkBIrpE54LVfMzMSgIOzcGS9e/HvXSSfkSyJBbW3kcJBu3C8JNIyPxz176E0MCQkJDg5WHGdcVVX1zTffkDv3okWL5H+TmzdvLlmSZ2go+x6OGYMnT2J8PJqZ4alTSNHfvXAhpqdjUREePozypjMU+ll/hLDCw8MBYPjw4bRmXbp0k2Kn3U8/xV27cMkSPHAAAwLw7FlcuxY3bcLwcKyriKREIlm0aBF5avj5+ZEI3aKiov379+dPmiQLfQZAF5d/lMKum5cvkWx2ExOxuBhv3cLz53HZsjoNqAtnZ1y7FufMoS0s6gQHB6upqZFPZPHixcS7NXhwKADa2MgSsJ88QUTcswcFAgTAhQvrXwh88w1+8w0WFOAPP/zdIZFCUPdHlONuWIubhISBiKX9+hXWO7JzZ5g5E+7dkwV1jRgBv/0GvXrB6NF1TuHxeEFBQZaWlrNnz966dWtsbKxQKIyIiKioqDjUt+8UHg+0tKCkBG7dAm9v+P57qK6Gd3GYtRIbC1pa8OmnsH8/+PrC1KkQFQW3b0NJCdAqz9a1K3z/PSQkAHON8Xx9fVu3bv3VV19duXLl/PnzACAUCp2ccnft+kczOgCYPh04HJg9G9avh6yswuBgDcEH/X1ycuDXXyEzE/h8cHKCsDAAgKIiWLsWAKCqioJBDf6KfPXVV0A/hIgkaVKpdERSCV6/xrQ03LYNz5/HR4+QYlqDPIocADgcjomJSRsdHdTUlBUBDwhAauvC8HCcNg3XrMGBAzElBX/6CefOxR9+wPx8SmbIIQefOTkUEywaTnR09ODBg93d3S9evKg4peLGDTQzE/fs6dy9e3f5jqe0tPT336OGDUMeT3bYRpYM3t7v37HEYlRcGqIhwpJKpdevXyeu1hs3btCaS5betXlBFDF4MALghQs0pqSlpWlra8u3n9ra2k/nz8ezZ2ll/oSHy1503jxMScFdu/DAAXRxwexsVHge/E/u3MG4OBqmNxZpaVkk9qRly5abN2/28vISCAQ8nrqZmYTPR1dXPHZMttt4/hxv3kR5WvXZs/jwIYaH47vtaS3QE9bz58+DgoLk0SkaGhq2tra0YvhHjkRDQ9qLX5LsSreksrm5OQDY2dnRqAxz5gwGBuLixZiZiYiRkXj1KiLikiX45AmGhKBUii4u6OmJQiHev0/hgsuW4R9/4JEjirKim443b94QFzg50eBwOIMGDQoNfVLvBySV4r59qMDpT0lYhYWFu3fvHjhwoPwGIBAI7OzsiMIUHKIkJiIJ6w0JwadPccwYlEjw5Ml67qLvkZWFAGhiQmMKsZnYSSOSUyzG6dMREYuLcc6cukYVF2O/fgiAurpYe9ByURGGhKCjI0ZHo6+v7Jc0vZ+NxoQJE8hnqqWlRb3y0ZUruHcvKoi+rifQb9++fePHjzczM5s5c2ZMTIyGhgY5uyotLc3MzIyJifnkk09ycnKGDBlCgoreo7wcCguhuhry8qCiAjgc2LkT8vOhooLC6u8djx7FOTmtcHWNojEHIDExGQC6du0q/zLUz9u3QMra6uqCWFzXKF1diIqCSZOgpARWrz67YcMG8vvq6uqzZ88WzJkDrVrB11/DtWvw448glcK7f6Zlf6NB2kECQJ8+fUh+IhWcncHHR2EWlQJVLlq0iMQ0cjgcAwMD+SdkYWHh5+cXFxeHdR+iEG7fxgkT8KefcMQITEmRPWRWraK6Bif8/PPPADCn7ltIrezYgSYmeQsW0KmOJJWip6esdeDKlfWOXb/+tb6+AQCMGzdu7ty5xIV3bOBA5HBQXx85HNTTw717cflyXLIEw8Jo2d84kKho4redrdSTU0XCcnJyAgB5NXotLS13d/fTp09/WBxRfoji7u5e0yd6+zaSSPGgIJmw3rzBLl3wjz/w+++pelNI1M0uOjVzEXHmTARAeo2kHz/GI0dw0SIMDq6/ch4iIv7xxx86JIsQAAAMDAys9fVRTU3mU580CXNysKpKabUClM2DB+K+fV9aWZ0aOHDr/kxPwmAAABFfSURBVP3hSryyImFZWFgAwIMHD1xdXUNDQxWHc5w/f97AwIAIUV7sIDcXSYDW3btYWCjbRFy/Livd7eamaPVHSE1NJS6gHj165NPZ5Q8ahABIr+TW8uUIgHw+mprWb9k7EhISNDU15bdzLpf73MsLQ0JoOdSbil9/lXkyGrBVV0ydwiKLXx0dHeoVJpKTk9u1a8flcu3s7BSPvHoVjY0RAHv1kj57lvnhgLdv3x46dMjFxYV8YOT/O3fu/PjxY4rG9O2LPB7Si7b//HPZ0XyrVnSmISlP2q5du8DAwKat/EmXJUsQQFbj5/VrZV65TmFFR0cDQN++falfa/HixeTUVCgU1js4PR1tbHDIkF9NTEzkbmOxWBweHj5+/Hh53xEdHR2yEyabhlMjRtR6F3ryRHbgFBaGL17gtGkolWJ4ONLrc9ipk0xYn35KfVJJSQmHw+Hz+c2r7RvB1VX2jil8YvSo06XTgKTv3bt3v337FgBInLtiOnSAmBjRV1+FFhQUDB8+3N/fv6ys7LfffsvPzwcAHo83fPhwT0/PsWPHPnjwYOzYsbm5ufPbtRtz8SJcugTbtsHMmTWvVlQE2dkAAE+fgo0NZGbCgQMAAKWlVI2vKCsrbNHC5O1bfmEhraIApOGbtbU1WWU2IyQS8PEBKyt49AjatIGiItDXh/Jy4PHoOaxqpy7FzZo1CwA2btxIUaGk3TzZRf74448UZ0kkElLqXV4dysbGJjAw8L2wqhcvXnz32WdSXV3U0pL5kn/6qeaAO3dw3Dhcs0a2/Vy+HP39cf16GoFesbGxAGBgYGCirR1Jaj1SY+/evQDgSa+kjkrw9ClaWWFJCf70EyYlIUlIOH4clZJMXuc5Ft2eEeQOR4RF/T7H4/G2bNnyv//9T1tbe/r06XFxccnJyStXrmzXrl3NYa1bt/759985Q4dCRQVwuWBgAF98AWlpkJkpH+PqCkuXwtChsv9cvBhCQiAnB7Zto2QJeb8AUFBeblKj9m69NOuu1W5usH697OdHj+DkSaW5yeu8e5NzM+rCIh+MSCSiNYtgZ2fn5ua2Z88eRYN0dODECVi1Cn78EQ4fht9/l92+NTRg5kwzMyDF2Pv3B2NjGDQITE0hKAgCAiAlBeLjYdcuqFExrxZINazi4mIul0u8HBRRqa4tdGndGiorITER3NzA2FhWjEc51Hofy8zMBAATE5PMzEyKwb6enp7kgvS8KIiIOH369CVLllAdTWq7yj0kcp9JbZw4gTo6CICOjpifX4sDTCKRXLx40dPTk9Rr5HA4AoGAYnoCgSTl0qotoyI8fYpbt6JIhF27Kv9RWLuwQkNDtbW1BQJB7969KQX7IpIS0ADQv39/ukZYW1vvr6/W+fvI9US8e3WTkIBt26KT08UOHTrU7KwcGxs7Z84cckgGADwez9bWlpx29unTJycnh4oVubm5QL+2jIpQVSU7a3v9GsViWWRAWRntMMZaqV1YhYWFJiYm8G6Tz+fzFcddVVVVyQ8Jp9f3Sb+HSCQyMjKiG36DW7bgzz/jypVIoaRxTk5lv379AUBPTy8kJGTz5s3yrwH8c7uQnJxM/GVubr9QyUDbtm0bMN8RSSJBkoZTWEj94LaJqXNXmJ6eTpYa8hIo8mDfD3n16pWzszP59m/ZsoWWBZcuXdLX18/IyKBnOCIWFtZS3bsOysvLyRmbvKdtq1at/P394z6IlMrPz/f23k2qXtfl38vNzd20aRNxdmlrayvIBFQKBQWyivFhYbIwHtVHkUunuLiYpCeoqamRQ5qRI0fWGtj07NmzoKAgPp/P5XIp1iiT4+vra2FhQWtZ0zCkUuny5ctbtWo1ZswYxQlCIhF6eyMAcjh44ICsCHR5OVZWyhLknZ0fEHUaGRl5e3s7Ojr6+/szVwS7oABdXTE4GGfO/FcIC/+ZnkAqYdSM7Hv9+vWOHTsGkIqxAADQqVOnEsp3EYKjo6OVlVUDzacJrZVQcDB27YpffokHD6JUihMmoL6+7Jza1LR67NjxJ06cqKysRMTKyso+ffp07979JYVYRLFYvHPnTlpdbgoKcMECzM/HAwf+LcIi7N27lxxgCgSCli1bZmRkkJ2U/Cmpp6fn6el58eJFuq2dKyoq2rRpY29v3yDjaXP16tUrV65QHy8SYUAABgRgfj7Ono1aWrKMlw8T5CUSyahRo4RCoYLCfyRBvmXLllwuV1tb28fHR3FZETn/tkdhTa5cuUKatJiampIfyE5q5MiRR44caXCNw5s3b/J4PFNT05q1MVSKgADMzcUFC9Dfv57YaIlEMm7cOH19/QkTJtR8sr948eLHH3+sWdnQzMyMLPWGDRtGpTeJRIIbNiAi3r2rKGhTpaAR856WliYUCsmZuI2NTVBQEJU7v2IuXLhAnrCDBw9WXK9GKWzcuJHuk5r0Hti1C/396x9cXV3t7u7O5/N79eoVHR197NgxV1dXuQ/RyMhIXk/r1q1bJDDQ0tKy3l6NIhF264ZnzuAvvyjKX1Ap6CVTfPHFFwCwVql5AQkJCSTsRCgU3qeUn9Bwli9fTreEM4lql0jqCG//gOrq6okTJ5JSMERPWlpaEydOjIiIeG+dkJWVZWdnRwR3+fLlWq9WXo6//YaXLuGiRThjBgYH/0uFRQ4glP7x5+fnDx48mKzhwsMVxTGS7ULnzp0tLS2jKfQmrQnFBc17yJPp5D/Ui1QqHTduHAD07t178+bNCmpblJaWfv7552TfXbNoj1QqvXHjjbe3bLswfDguXoyPH2PPnhgdjXWI8H2io2Wpz5cu4fXrSMI0G60zJg1hVVZWqqurM1Q1urKycsqUKfAum/m9f5U7XuTbBbL+pVVecdq0aba2tnQNmzwZ16zBNWvo9fURi8UUXWFSqTQwMJC8KV9f3/T0dJJgZ2+/jOxA+/XDHTtk7YU2bUIXF+TxKDUMXbYMfXxQKsW5c3H1atkCkfrX4yOhIayE4gS7W3bu4e4MmVKz4563tzd5ZpGdFPHHET25uLhs376dVFSvNYNDAbSCmwkNuGM1gEOHDvH/GQPVoYNlYGDVe5U3pVJcvVoWN+Tjg2Jx7W/8xQvcsQOXLcPISAwJkQlr8WJcswZdXRl8FzWhIazDrw/DPRifPp45axAxLCyMFDXt0qVLzdbRPXr02LBhA9kuLF26FABI0X34IIOjLsrLy7ds2UL3GFMe9/XPADDlEx0dbWpqam5uTjJWFBzchIWhtjb273980KBBeTVOPoqLSw4exE8+QdJE09sby8tx/nz09lbtO9bi7MVwD1bm1JMX9fHEx8ebmpqSe5KZmVnNUmOEmjln5Iveq1eveuMLJk+eDACjR4+muzFsTCguBO/fF3fs2AkAOnbsmJSURCobCgQCG5tSkh80cSKuWYOVlfjyJS5fjocOyULaSZXKo0dpVOpqGDSE5ZrmCvcg7E1j5Me5u7uTY54PfXly5DlnxFNubm5+584dBde8ceMG8WbWLIPRfMnOzra1ta3p/eRwONOmhe/fX39+0KNHKiOsKmnVnvw9S7KXxJXHnStifGshT2bs16+fgmHnzp3T19eXa0tHR+dnhRU209LSyMbWxMREcYVLkUh06tSpfv36DRw4MD4+voFvg2F27twJ7xphenl5UUwQevoUly5FyulODYSqsBZmLbxecj2uPO5y8eXg/GBGbZJIJFpaWuQcqN6SzElJSe3btycuAS6XKxAIFK+iiouLXV1dAYDP5x86dKjWC9bcLqipqRkZGdFyBDUaJF2Ax+OpYIMnqsLyeS77gB9WPGRaWI8ePZLfhDZTyGV+9erViBEjIiMjgVoF9loL/z179mzNmjWkVqx8u7B8+XIzMzMir22kl7wqQaqPAkDnzp2b2pb3oSqsqc+mSqQSbBRhHT9+nEgEAOo6kv6QM2fOAICLiwvF8bt27SKrk/79+w8ePJg8UMh2ISAgICEhARGXL19Ojs7J7dPX11elkgevfPZZgKWlg5mZCjZ4oiqs2LLYeZnzlmQviS6J/q2QQrXyj4AcGBIfYl5dlfY/ICgoCADmzZtH/YWio6MNDAxIGS1NTc0PK1OUlJSQk3HS0ZO627gxyM2VFQQAqK6vhEnjw2zr3oZBPJIA0KJFC+qzPDw8AGAfOaKmDKkONXToUNJu5ENqnoyTc39LS8sPWwY1AZcuIYCsJp3qlbJRRWFZWlqSD3Lo0KHUZ/Xo0QMAbpPSpZTp378/ea1evXopGHb06FFyByUrP2Nj48N0kloZYdMmWfU3AFQFof8TlRMW6SRNjtTnUm6iUFVVxefzORwOrZaFUqmUtPcBCqnMN27cIFtFY2NjUjCMblSjkgkPx7Fj0cwMdXRUsEwSg617G0ZSUpKmpqaamtqff/65ZMkSirOePHkiEonat29P7igUefbsWXFxMUn5qjeV2cHB4d69e3379t25cyciSiQSeSeSpiErC3r1Ak9PePIEmtaS2lA5YfXp0+fTTz8ViUTjx4+/cOFCveNFIlFycnLD0pHJLOIUojJXKBTeunXL0NAQatSjaxpevICCAli+HPz8YPfuprSkDlROWAAQFhbm5+cnEommTfMJCsqVV/F8j1u3bs+aNcvMzGzkyJE3b94E+gUUSNmFyspK6nO5XK5K5NTn5YFQCABgbg75+U1pSV009bO4Tnbv3u3sfBcAx47FmrUEX7zAoCC0tMRBg6aRt2BoaMjlcnV1dTeQyHDKTHzXloJWKvPXX38NADtr7cjbaJSW4tSpWFyMv/6KtfVmanJUV1iIePmybDfds6cs6iMzUxYTAoAWFjHm5u2JMtTU1CZPnkw3RlR+l6KVytynTx8AoBu/qnyePsVNm/Ds2SY2ow5UWliImJaG1tZob48ODlhUhFeuYIcOqKcn09aQIdsbnNYhFos1NDTIkfpMyuGh1dXVZLH/WrmVFf91cBCxcZ+9tHn7FsRimDcPOnSAAQPg4kXYsgUsLGDSJJgyRdqtWwOXiXFxcY6OjiKRKCwszNraWt5uQzHp6emdOnUSCoWZNUpzsXyIKi7e38PAAExNwcwMTEwgLg4cHeH8eXj+HNavhwarCgB69uzZunVrsVjs4eGRmppa73hEzMnJadZl1hqTZiAsOd9+C5GRIBDAsGFKOLjhcDj379/39PQkJSrWrVtX18jMzMx169Z16dLFwcEhPj4emnxL2Cxo6mcxVWJiEBGTkjArS5mXrZnB4ePjUzPr8M2bN3v27Bk8eHDNDkI6OjqGhobjx49vjgWxGpNmIyxGkWdwODg4vHr1KiMjY8KECcQ5CAAaGhpyzw+8a5Q1ceJElS0LoAqwwpIRHx/fpk0bAOjYseP169fV1dXf6yBkbm7u5+d3//79P//8kziOjnp40G5195+BFdbfZGdn29vbA4C6urq84IKOjo6np+eFCxdqupwTExOXf/op8vnYurVqNrlsclhh/YOKiooxY8aQygsODg7BwcF1hku8eiXr16Ojo+Q2NP8KmsE5ViMjlUrv3r2rrq5ev5tZLIYZMyA2FsLD4ZdfgMuFIUNAKITsbHB2hrAwcHaGd62p/2s0sy4djQCXy+3bty+loRoacOAAvH0Lq1bBihVgaAje3uDtLeu+kpYG76II/4OwwvpoDAygogIMDQEAhEIoKoLTp+H5c4iOBg+PpjauyWCFpQxatIDUVGjbFp49gxEjYPRo8PBQweC7xoRdYymDykoIDobSUpgwATQ1oaAAevWCqCjo1Qv09ZvauKaBFRYLIzQnXyFLM4IVFgsjsMJiYQRWWCyMwAqLhRFYYbEwAissFkZghcXCCKywWBiBFRYLI7DCYmEEVlgsjMAKi4URWGGxMAIrLBZGYIXFwgissFgYgRUWCyOwwmJhBFZYLIzACouFEVhhsTACKywWRmCFxcIIrLBYGIEVFgsjsMJiYQRWWCyMwAqLhRH+D+S+SOabbwJ8AAAF2npUWHRyZGtpdFBLTCByZGtpdCAyMDI0LjAzLjUAAHicrdQLUBR1HAfw//5ZDgROeR/KaxWE5SlPeQh3/wV5iQIqgsfLRRTPzErppTJBppIahCRgWQ0MM1EqKQa+h/tfNTIIGppapAI+UmQcGTFLzbDbHz4aDXWabmZnP/eb3/+33/3f7g20NHQj/cdcfzBo+JOvP5boj2JGhkSpbjB8NnjiO8YyLkg6M6wR0kgNWN/BS2CNh88POhiGfbTkifNTKx8UGPxwxHNm43/MJsMNMgIr9Hkf4+HS4eHM0y0vfhnj4V143grmGcGMhgsG/5b0xfI8a/pTt22BOGnJ/3yRka86Uo4XCPDwEXsU5Ilgjxf89ydrxLs2Qg9+lhFG/uOaz0z16GGRXpURHmtT/fvGYH0HYg1YhjVEhjJOZsRjmTEyHsUyo0yQiSkyNUNmck4+mpOP4bGxOTK34CwseWxhhaysWWxtg2xsNdhWISrsNNhuLGc3Thxnr8FWDsjBkXN04rGjM3LmWIYbj5wnoAkunIsrj10mooluLOPmjtx5DeY9RA9PDfb0Er28NXiiD/Lx5Xwn8djXD/n5s4x/AAoI1ODAIDEoWIODJ6PgEDEkVIP9wlBYOBc+hcfhESgiksWRSqRUabCKiETQYCFKjIrW4Oip4tQYDY6JFWPjNDgiHsUncAnTUEIij9npaPoMHk9P4pKSUXIKi1Nmopmz0KzZaHYqlzqHS03jcXI6Sp/L43Q1p85AGZkoMwtlZaPsHBbnzONxjsiJuSh3Psvk5qG8BVzeQh7b24je7mJogBinFLPVKIaIUTL9bstsFXbj7G1kvIenl7e7LDAoOCQ0QKYiMbFxSpkQFT01hhhmqLOzMhUn2Mf/gyi/q/58ZFT7IiJ9ySioVZ1TeoJTz3mS+NhE8NU1xSqHtGqV5IvXR5Et/blKyXMGBlWJ/TVayWNdo8kGZjSV3FtXRlS/dUH9/I4Aoq58GerJ6kLSY14JXqXcTjxL14B3W3eSrNl14HVuf5H6HyrAOUPmQldlIzi+xF1wsawFl/eaCbSnF1xg2aiaf2wduLljqXKeeQrYqeaukrtzATLsLa3SHlEsgzpfuFfbcaoe7FNa3nJ/62HwChcT7eVfb4GFMgeVWZqJTnJIHEMCrDH4i5vTSOJbFuDXWixIYfdJ6Meu5aoEuz3gaTet6cKNgWDLQpb6DHwFGbbnemh30mRwMZ9Ey9QHWyTHNUbSKTPLYG8F+1atudgJtnLbTJcdyYX+Xbmf0iUyBcy8Yfsq7axIBb9X0EZPy0PBzjuP0x9TNoL7ft5BDRXbwGusm+k1sQs8Q1lOnd1vg2/OjaWL666AD54PpqvV+8AeZUU05aOPwQcSrtOL+BZkcBp9mVot7YHMiff2UcOwukjJXssNdcarZJDZ+k97XVG6IkLyBTtON3D7IKztqJ2s+95oCPyJNlzXWJ0N84tSeZ1pRelwtuXeusEzh8CV7Ra67Q4rwa0Nct3Z9+3B2amMblMAIpIvV52i98LGg7+mu6hvZitkSMg8StuPFkH9zYQauvWlcvAv8i10dZMWbHZ7Dg0N7QSfLI6hzqvvgzMOnNb2Y2NB8tX2Zm13vTM4r8KV/mEyCWyy5x3q0OYGrq0qoR6uY8BvfNlEky7IwBaXDtGmld0w813/QWrX8Dl4W+0Y3XyPMvBhswm6yoEd4Le1VrrfWyLBGywXkJQtEXAv365/nVzcL4d6YU8VMVqYD/ufcuM7cty4Et7BktY+4tHgBXvbcM1EuBfpBD1t6Y7C+t4yqO/uDRQW1Y0FH0uMFQr7W8H7TmYJ9WfWgpFvlCBfHwX7fM27g5xYfAEyNKfVkySdL2TQKu+Q1AhLcP4H5sKigv3Qo13qIsiHFFC/5GUvfDN+OdjRz0C4VPEKWN7SR1zMPgNnh+0n26KrwOU1d8mM6jbwgqGzZEg9AL7Se51sHpTDfjataCBrN/VB3b96K8mUHQKX/PQhsfc0gh7bvwG3rAYlwL/qZgAACGF6VFh0TU9MIHJka2l0IDIwMjQuMDMuNQAAeJx9Wc2OHrkNvPsp+gWmIYqkKB5yWNubRRDsGEicfYcAOeb9kSr1Z3WPw2Ts4X4jc9Ql/hRLvZ8Ofv3t61//+e9jf/Wvnz4dR/s/fzPz+ENba59+P/jh+Pzrb395P758/+Xzj5Uv3/7x/v3vh7SO78Bv4c9H71++f/v9x4ocX452ijSZeug5usQUrLT1df9mh5+cfYiqHv0co7UZhZ/Cj/+c4Yn9JIYML/xs7deaNR/4ILOrVH6+9hP33gb+ueM/vcI3jndsMzOy5/EGpB7irXAMbKhns2wxj7d+dpnTrHCcx7fDTvPwZtwxWo8xCsdcECNlIuRviGEOHLpwlLaendbT5Xizc/jUlpUn0+KnumgEPcV61155MjHj9Na9j+PNT2mavXy6IkRxprT0zj19xrRZeTI5eTLSPJGfbulWPt0Z9nZaNO+Trk3VRhVOROTbMc/ZbHY/3uJEOBWYCs9YudSpGoNAu/SRpedc1YvIdB5ekfXVIYVn4unAOdObrmwGfqk6fGeS4IDK7VjHpjGiRVXrXS5Xw5ljBb+b1SHtTNMboKLOOzI6ThRyHdOul6trDlZenGOaShXTbuv8Q8QNz5/nMPZl5Xn1UZPM6PSUnqlVf3TmiY0rgvO9oQxSRi+fHmvPHtFxZhxpeBevot/n6nakEelhnEY2K2kBzfvOrkSQ1JKfZnNUQsU0K1E4U7QWK6f4pSFVSFVwJoSUfWnBTxMh0+pQuhKFSkLRIWlw1eFo7cpVLwA5NM15PpHp5abG58vp+EIlCmg2smxnZUORGXoOBhVIJ3JWhUoHH29wGMmOQtA8UauVa/D5qGT1COcn7WKj4lFlqlie6UqSQgLCa4LUvFzBzaMvllLXmvls5cpPa2KxeAJsr1LVn8nlCm4Md+6PULVyJqF9VrC8xWiLU8KNByxc9Uor6k8i6doVcavSanaldZrkRX/YvaZU82tXttLFqZFZ87RxQOGxhronrQiI2MTLY7Gv4CozQfqsAdOhUTWWcUgR4WyRK/ORoyRAW8map1rTYDt59/8xcVeu8gyb8doKZ6rKyi/+4z+MxroCFY5Z95WvvhJ4iHmTFYBpdbu6vnxHSLBcFPsiX+W+9sJAgcDRj5HdreZrlNOXfy3niEhWjJ8J4WNVwHxcYQANdo4MZLnN5fHfrnHFFs3POkHtmLZ6uvhkGcyzcfAPMnJDcVe15a/uGmGYP/AEc0g5WUe7isC7goAP0kxgIFeecu1pEpqUe4lq0erpo19diGmSoBT0mGgrp/XQi4bCZaRAtCSVVVVYw65uUdMO8qdoGXNUBTBefdWm55wULSiVsqzGuEbwQNtjq4k9W5RFNeI1rHvrgJdnUv2UJ5oXAUBBGvgY5ZLgrbKiRr4IIHIiuFRCKL6yAaNdcUIrQdQBaeJIZY3EDwY0d0R3rmqqtewrS+CpCYodJ5SdlUQRetGPoz/BhQbPyXYpPO0qZowSFAcVsHUwfOXpr9aTjnE6D9I7jl+VU1BUoJm6wsEPzkzMgfJIlz7Hwcfi0dBRE1rMpVNmb+hLyhAxi4pOg5IC9cnJI0uDdasn6mxLSwsYnBcnzEBpZYVMZggjJFAfYwmLaBBhlSczBF02e8ylJqDUXMs9dYluiF4qAwpQyK5eFR14EPoYVxxDwy+NANFXX3YmUyRQBqkYkkuCDPBd+fx1g0JAoRF1yamGu0954ZlLoONWpmDlJZFx5xjlMJlzhVQp+w3UFGPWEmlSoENAdzzceJ3CRC2VdLZ1jYk5kR3mHfRdTtyU6xaDkkNRofFtzpJDct1tGysIT8eWitFXCo68cgTd0CFzoKeQrValKG2lHcqN/QBHQCiFUfqrkhS+bEtMLi0fPVZ8cGxc9OA4EsmpUp6x4jOh8BopATo/pGqgvFKTmN0YuFAmUBBa5TBzYcS1DrdAXuEwlXt5HWttXVuti+C2jmOBlkftKaspwUG81ztFJlxLz37dw3Fxw3lBhsbhXXj++v71w5uN613H52/vX+93HfzT71ca+OHQ+80Ff7T7BQWGGV9T/Pm3P8n9NoKL437pIPiO+9VCx/e8XyAIfsz7NYHwu33cURYs3vgfd39ZZgMVIqXZWIVgaTZcIV4af9zN+1rZcGVcEDZg3LRlmY0ZNN5pZMPmfWUtP2/IQsPrL46yQfUVXfy9I4x40vTbR7mCJtvAcbU0mr6Bd0YZpm/gEFW2VjZyEKPR9I28zxeqjbwTOYw+r4z9WPfBx81Q1srGrAw2DG93z0QpQw6jG7nay3Mjp1qg0Y0c4qrT6EaujDlXNnIlchjepz48kfhh7HmNsmW2D25LtszGb4w5zY455/0yd20z5jQbufmFwTZyY7HA2EZurG8Y28iNyLmyY27EDOM/lbmzZpxXhsflwWh8Iyev0fhG7kQO4xu5r7bE4kbubFKubOTOaoHxjdzjhWojdyKH8Y0cervTjKeulrWyMVPi0VAdPyt/sGZgxr1C5DBjIx+MOczYyAeRUwjffELkMGMjp/amGRs51KnRjI2cKo0mnlrTaGIjD0YbJna0o19niY05WOEwsTEHow0TG3OQVLiyMcdYnBg3Cy4aDAi0h1STtbIhB8sEZj61l9DMn0hlMuQwcwOfBA4zbx8Ch5kbOLUGzdzAJwscZm7gk63JlY18xgvDTeGkQ5i5kU8ix0o+BYnQ5A52EjNMbsxJzDC5MScxw+TGnMQMQ0nwjEAy5DC5keficaxs5EnkMLmRJ2MOkz+RSua1Lu3D2JbLtsdc4jS8Fu9B1BahzwfFS1vs4g+WksZSR8/5YzfWejw7hArhOu/jF+Oq27tHONSfI5w///ifHfj86T+ABq7R/SeOggAABCx6VFh0U01JTEVTIHJka2l0IDIwMjQuMDMuNQAAeJxtVbtuXUcM/JWUusD6gK8llw4EBLgpUslVqiCV2iCtG398ZnjU2I4KQeLhc2bIfT5fXr883v56/vbH3y/Pd31/t3f+4Lc+fvr2/vL85/F/X/59/8465i8//H8n+PJz/PP59nx5e7z+GPB8eT6eP9ro+/r2ePuwKyyTRr9L+bgT/vLt5ZPKpXZ07SskbK9fP52rK7tWXAEDLX2Z85tdnVEHlrp2nh3w6X3SYckrtLyXX93ZAcu+RM7k2eqisMRVW7NRq1smj18ebrny2pInxyJnd6+6+sRk1iurdq4DHykdS5hYr0anJ5jHrl0avjBNh9jk6WpkhCUs7urmcEKeRmKfDjP2ZA6XmR2diZ1AP71tMieqRxZm39qa47PNty299q6oQUyOK1xEXHoMHuK1BK7b9caw4hxYRJp9ME75X+riQIBzhsWfGpsmzq+3KUvPwkiR5ucO3Ca5MBOGkw9TVfWaEfTcJVXNGNfjci5Q1r6AFuf14VFP0wcoeXr1zFdHptMCk0NKQQp5N6Ux4+RlvX0z16l9Ykx7GxhDU749bVKFKGDEH0DB9cZ8I2LBvdqnLwhEijAU9BEfupBuzlwg7dQwfEJnvEppvxlGgs161T3jxHVOtrEr3101XuW7Bj03jRyvtOY4Anft3uNmpjcQnpulWbLT8VWB440oKd9DfVpNE+C8oEpC41bDl1yZij2Z/IqxY/zw+QMv2TeJl1YOPZV1cwgS/IbLIqaiXHYMocQLjO8Y2/ZOCaKTJwgraqISpgPJGcltQ2eYrWhRazbrKAhFLAhDIGWjj1XZkJHbqG40ZaQCNLUQLTTgZlhRQrSnVJze4hy5yok7Zj+OmbhiCG8mrr4lm52sBLICiqEL+GfLkATuwgRpGNPwCGBdWFzF2TGOgModBdEQELSeNv1BykSD+11UAc4NwEPHkLnEcaIjwFxZXIIrAPBND8WKvdk1gi74FEfAqeoZynBKNkdQUK3YA7OpCR+RwNYBI3JCA7DCJTEwLlx83FLF8jmuICKoZH7COV3EPgmw43Ji05C2HJ+almPgY7G54D2BnpVrQPItRp8JWvxuBoicgcYKK0snqAfsc/A8dsdBC5snri8Qc4+lYJxcoWncjIkT4aAKbbYPGDuV6MCifksTPFDUiiaF6wcMgFyxIyfMAKPykBlo1nrAKGzlZod1zj3X4dkhd3hGGAJxcwZwZ7zaaGCOIzxwcLCFWAn0PSNBwxAoDFTqPTagx7sjEB+roggcIKvewBkOh0DxPjUDcMkloQ+csOoKOkRCOjj6B1fYmCIMCw4Pw0OTxP8krgGeKRwqkgi1QPHzTkTB8Fhff/8M4wq8SbYKKMdq3qP19c/PiudSl2Mp4IBTi9cNWKMDQrW6KO5v/wEb0Lbwa2v0bgAAAABJRU5ErkJggg==\" alt=\"Mol\"/></div></td>\n",
       "    </tr>\n",
       "    <tr>\n",
       "      <th>...</th>\n",
       "      <td>...</td>\n",
       "      <td>...</td>\n",
       "      <td>...</td>\n",
       "    </tr>\n",
       "    <tr>\n",
       "      <th>2642</th>\n",
       "      <td>DB19375</td>\n",
       "      <td>CC(C)C1=CC(Cl)=C(C)C=C1O</td>\n",
       "      <td style=\"text-align: center;\"><div style=\"width: 200px; height: 200px\" data-content=\"rdkit/molecule\"><img src=\"data:image/png;base64,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\" alt=\"Mol\"/></div></td>\n",
       "    </tr>\n",
       "    <tr>\n",
       "      <th>2643</th>\n",
       "      <td>DB19376</td>\n",
       "      <td>OC1=CC=CC=C1C(=O)NC1=CC=CC=C1</td>\n",
       "      <td style=\"text-align: center;\"><div style=\"width: 200px; height: 200px\" data-content=\"rdkit/molecule\"><img src=\"data:image/png;base64,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\" alt=\"Mol\"/></div></td>\n",
       "    </tr>\n",
       "    <tr>\n",
       "      <th>2644</th>\n",
       "      <td>DB19378</td>\n",
       "      <td>[H][C@@]12CC[C@](O)(C(C)=O)[C@@]1(C)CC[C@@]1([...</td>\n",
       "      <td style=\"text-align: center;\"><div style=\"width: 200px; height: 200px\" data-content=\"rdkit/molecule\"><img src=\"data:image/png;base64,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\" alt=\"Mol\"/></div></td>\n",
       "    </tr>\n",
       "    <tr>\n",
       "      <th>2645</th>\n",
       "      <td>DB19379</td>\n",
       "      <td>[H][C@]12C[C@@H](OC(=O)C3=CC(OC)=C(OC(=O)OCC)C...</td>\n",
       "      <td style=\"text-align: center;\"><div style=\"width: 200px; height: 200px\" data-content=\"rdkit/molecule\"><img src=\"data:image/png;base64,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\" alt=\"Mol\"/></div></td>\n",
       "    </tr>\n",
       "    <tr>\n",
       "      <th>2646</th>\n",
       "      <td>DB19387</td>\n",
       "      <td>CC(=O)OC1=CC(C)=C(OC(C)=O)C2=CC=CC=C12</td>\n",
       "      <td style=\"text-align: center;\"><div style=\"width: 200px; height: 200px\" data-content=\"rdkit/molecule\"><img src=\"data:image/png;base64,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\" alt=\"Mol\"/></div></td>\n",
       "    </tr>\n",
       "  </tbody>\n",
       "</table>\n",
       "<p>2647 rows × 3 columns</p>\n",
       "</div>"
      ],
      "text/plain": [
       "           ID                                             SMILES  \\\n",
       "0     DB00006  CC[C@H](C)[C@H](NC(=O)[C@H](CCC(O)=O)NC(=O)[C@...   \n",
       "1     DB00014  CC(C)C[C@H](NC(=O)[C@@H](COC(C)(C)C)NC(=O)[C@H...   \n",
       "2     DB00027  CC(C)C[C@@H](NC(=O)CNC(=O)[C@@H](NC=O)C(C)C)C(...   \n",
       "3     DB00035  NC(=O)CC[C@@H]1NC(=O)[C@H](CC2=CC=CC=C2)NC(=O)...   \n",
       "4     DB00050  CC(C)C[C@H](NC(=O)[C@@H](CCCNC(N)=O)NC(=O)[C@H...   \n",
       "...       ...                                                ...   \n",
       "2642  DB19375                           CC(C)C1=CC(Cl)=C(C)C=C1O   \n",
       "2643  DB19376                      OC1=CC=CC=C1C(=O)NC1=CC=CC=C1   \n",
       "2644  DB19378  [H][C@@]12CC[C@](O)(C(C)=O)[C@@]1(C)CC[C@@]1([...   \n",
       "2645  DB19379  [H][C@]12C[C@@H](OC(=O)C3=CC(OC)=C(OC(=O)OCC)C...   \n",
       "2646  DB19387             CC(=O)OC1=CC(C)=C(OC(C)=O)C2=CC=CC=C12   \n",
       "\n",
       "                                                  ROMol  \n",
       "0     <rdkit.Chem.rdchem.Mol object at 0x000001B44BC...  \n",
       "1     <rdkit.Chem.rdchem.Mol object at 0x000001B44BC...  \n",
       "2     <rdkit.Chem.rdchem.Mol object at 0x000001B44BC...  \n",
       "3     <rdkit.Chem.rdchem.Mol object at 0x000001B44BC...  \n",
       "4     <rdkit.Chem.rdchem.Mol object at 0x000001B44BC...  \n",
       "...                                                 ...  \n",
       "2642  <rdkit.Chem.rdchem.Mol object at 0x000001B44BC...  \n",
       "2643  <rdkit.Chem.rdchem.Mol object at 0x000001B44BC...  \n",
       "2644  <rdkit.Chem.rdchem.Mol object at 0x000001B44BC...  \n",
       "2645  <rdkit.Chem.rdchem.Mol object at 0x000001B44BC...  \n",
       "2646  <rdkit.Chem.rdchem.Mol object at 0x000001B44BC...  \n",
       "\n",
       "[2647 rows x 3 columns]"
      ]
     },
     "execution_count": 3,
     "metadata": {},
     "output_type": "execute_result"
    }
   ],
   "source": [
    "PandasTools.AddMoleculeColumnToFrame(drugbank_molecules, \"SMILES\")\n",
    "drugbank_molecules"
   ]
  },
  {
   "cell_type": "markdown",
   "metadata": {},
   "source": [
    "## Calculate and plot molecular properties for Ro5"
   ]
  },
  {
   "cell_type": "code",
   "execution_count": 4,
   "metadata": {},
   "outputs": [
    {
     "data": {
      "application/vnd.microsoft.datawrangler.viewer.v0+json": {
       "columns": [
        {
         "name": "index",
         "rawType": "int64",
         "type": "integer"
        },
        {
         "name": "molecular_weight",
         "rawType": "float64",
         "type": "float"
        },
        {
         "name": "n_hba",
         "rawType": "int64",
         "type": "integer"
        },
        {
         "name": "n_hbd",
         "rawType": "int64",
         "type": "integer"
        },
        {
         "name": "logp",
         "rawType": "float64",
         "type": "float"
        }
       ],
       "conversionMethod": "pd.DataFrame",
       "ref": "0aa11152-57f9-4442-a274-95e52810e48b",
       "rows": [
        [
         "0",
         "2178.9858128759984",
         "29",
         "28",
         "-8.116429999999925"
        ],
        [
         "1",
         "1268.6414393679997",
         "16",
         "17",
         "-3.1057000000000192"
        ],
        [
         "2",
         "1810.0334192399991",
         "16",
         "20",
         "4.867599999999979"
        ],
        [
         "3",
         "1068.426955488",
         "15",
         "14",
         "-4.1320300000000145"
        ],
        [
         "4",
         "1429.6698183039996",
         "16",
         "17",
         "-0.5061300000000057"
        ],
        [
         "5",
         "1619.710366351999",
         "24",
         "22",
         "-5.621799999999977"
        ],
        [
         "6",
         "1201.841367992",
         "12",
         "5",
         "3.269000000000003"
        ],
        [
         "7",
         "1414.6840713999995",
         "16",
         "13",
         "1.1680000000000075"
        ],
        [
         "8",
         "247.02457367",
         "5",
         "3",
         "0.5174199999999998"
        ],
        [
         "9",
         "1354.5674001259997",
         "21",
         "9",
         "2.722220000000001"
        ],
        [
         "10",
         "398.1372388040001",
         "11",
         "4",
         "-3.256899999999998"
        ],
        [
         "11",
         "88.016043988",
         "2",
         "1",
         "-0.3399999999999999"
        ],
        [
         "12",
         "165.078978592",
         "2",
         "2",
         "0.641"
        ],
        [
         "13",
         "244.088163372",
         "3",
         "3",
         "0.7968"
        ],
        [
         "14",
         "104.10699048808999",
         "1",
         "1",
         "-0.3150999999999999"
        ],
        [
         "15",
         "146.105527688",
         "3",
         "3",
         "-0.4726999999999995"
        ],
        [
         "16",
         "176.032087976",
         "6",
         "4",
         "-1.4074"
        ],
        [
         "17",
         "133.037507704",
         "3",
         "3",
         "-1.127"
        ],
        [
         "18",
         "132.089877624",
         "3",
         "3",
         "-0.8627999999999991"
        ],
        [
         "19",
         "146.06914218",
         "3",
         "3",
         "-1.3361999999999998"
        ],
        [
         "20",
         "347.063084418",
         "10",
         "5",
         "-1.8630000000000004"
        ],
        [
         "21",
         "278.2245802",
         "1",
         "1",
         "5.660500000000005"
        ],
        [
         "22",
         "149.051049592",
         "3",
         "2",
         "0.1513999999999998"
        ],
        [
         "23",
         "181.073893212",
         "3",
         "3",
         "0.3466000000000001"
        ],
        [
         "24",
         "416.32904526799996",
         "3",
         "3",
         "5.704700000000008"
        ],
        [
         "25",
         "568.428031032",
         "2",
         "2",
         "10.403299999999993"
        ],
        [
         "26",
         "240.023848864",
         "6",
         "4",
         "-0.8083999999999993"
        ],
        [
         "27",
         "118.02660867200001",
         "2",
         "2",
         "-0.06419999999999987"
        ],
        [
         "28",
         "376.13828436",
         "9",
         "5",
         "-1.7235599999999993"
        ],
        [
         "29",
         "221.0899372",
         "6",
         "5",
         "-3.234999999999999"
        ],
        [
         "30",
         "147.053157768",
         "3",
         "3",
         "-0.7369000000000001"
        ],
        [
         "31",
         "307.083806264",
         "6",
         "6",
         "-2.2060999999999984"
        ],
        [
         "32",
         "75.0320284",
         "2",
         "2",
         "-0.9702999999999999"
        ],
        [
         "33",
         "400.334130648",
         "2",
         "2",
         "6.733900000000008"
        ],
        [
         "34",
         "131.069476528",
         "2",
         "3",
         "-1.1037299999999988"
        ],
        [
         "35",
         "204.089877624",
         "2",
         "3",
         "1.1223"
        ],
        [
         "36",
         "121.019749464",
         "3",
         "3",
         "-0.6719000000000002"
        ],
        [
         "37",
         "265.11175858409",
         "5",
         "2",
         "0.6077400000000001"
        ],
        [
         "38",
         "396.33921602799995",
         "1",
         "1",
         "7.641000000000009"
        ],
        [
         "39",
         "119.058243148",
         "3",
         "3",
         "-1.2208999999999997"
        ],
        [
         "40",
         "665.1247718679998",
         "18",
         "8",
         "-2.6863999999999977"
        ],
        [
         "41",
         "441.139681328",
         "9",
         "6",
         "-0.04479999999999951"
        ],
        [
         "42",
         "302.2245802",
         "1",
         "1",
         "5.9927000000000055"
        ],
        [
         "43",
         "117.078978592",
         "2",
         "2",
         "0.05430000000000007"
        ],
        [
         "44",
         "286.22966558",
         "1",
         "1",
         "5.510300000000005"
        ],
        [
         "45",
         "430.3810808399999",
         "2",
         "1",
         "8.840260000000002"
        ],
        [
         "46",
         "169.073893212",
         "4",
         "3",
         "0.0802199999999999"
        ],
        [
         "47",
         "206.043521688",
         "3",
         "1",
         "2.7851000000000017"
        ],
        [
         "48",
         "384.33921602799995",
         "1",
         "1",
         "7.6190000000000095"
        ],
        [
         "49",
         "172.052429496",
         "2",
         "0",
         "2.0119000000000002"
        ]
       ],
       "shape": {
        "columns": 4,
        "rows": 2647
       }
      },
      "text/html": [
       "<div>\n",
       "<style scoped>\n",
       "    .dataframe tbody tr th:only-of-type {\n",
       "        vertical-align: middle;\n",
       "    }\n",
       "\n",
       "    .dataframe tbody tr th {\n",
       "        vertical-align: top;\n",
       "    }\n",
       "\n",
       "    .dataframe thead th {\n",
       "        text-align: right;\n",
       "    }\n",
       "</style>\n",
       "<table border=\"1\" class=\"dataframe\">\n",
       "  <thead>\n",
       "    <tr style=\"text-align: right;\">\n",
       "      <th></th>\n",
       "      <th>molecular_weight</th>\n",
       "      <th>n_hba</th>\n",
       "      <th>n_hbd</th>\n",
       "      <th>logp</th>\n",
       "    </tr>\n",
       "  </thead>\n",
       "  <tbody>\n",
       "    <tr>\n",
       "      <th>0</th>\n",
       "      <td>2178.985813</td>\n",
       "      <td>29</td>\n",
       "      <td>28</td>\n",
       "      <td>-8.11643</td>\n",
       "    </tr>\n",
       "    <tr>\n",
       "      <th>1</th>\n",
       "      <td>1268.641439</td>\n",
       "      <td>16</td>\n",
       "      <td>17</td>\n",
       "      <td>-3.10570</td>\n",
       "    </tr>\n",
       "    <tr>\n",
       "      <th>2</th>\n",
       "      <td>1810.033419</td>\n",
       "      <td>16</td>\n",
       "      <td>20</td>\n",
       "      <td>4.86760</td>\n",
       "    </tr>\n",
       "    <tr>\n",
       "      <th>3</th>\n",
       "      <td>1068.426955</td>\n",
       "      <td>15</td>\n",
       "      <td>14</td>\n",
       "      <td>-4.13203</td>\n",
       "    </tr>\n",
       "    <tr>\n",
       "      <th>4</th>\n",
       "      <td>1429.669818</td>\n",
       "      <td>16</td>\n",
       "      <td>17</td>\n",
       "      <td>-0.50613</td>\n",
       "    </tr>\n",
       "    <tr>\n",
       "      <th>...</th>\n",
       "      <td>...</td>\n",
       "      <td>...</td>\n",
       "      <td>...</td>\n",
       "      <td>...</td>\n",
       "    </tr>\n",
       "    <tr>\n",
       "      <th>2642</th>\n",
       "      <td>184.065493</td>\n",
       "      <td>1</td>\n",
       "      <td>1</td>\n",
       "      <td>3.47742</td>\n",
       "    </tr>\n",
       "    <tr>\n",
       "      <th>2643</th>\n",
       "      <td>213.078979</td>\n",
       "      <td>2</td>\n",
       "      <td>2</td>\n",
       "      <td>2.64450</td>\n",
       "    </tr>\n",
       "    <tr>\n",
       "      <th>2644</th>\n",
       "      <td>342.219495</td>\n",
       "      <td>3</td>\n",
       "      <td>1</td>\n",
       "      <td>4.00450</td>\n",
       "    </tr>\n",
       "    <tr>\n",
       "      <th>2645</th>\n",
       "      <td>666.278860</td>\n",
       "      <td>12</td>\n",
       "      <td>1</td>\n",
       "      <td>4.69780</td>\n",
       "    </tr>\n",
       "    <tr>\n",
       "      <th>2646</th>\n",
       "      <td>258.089209</td>\n",
       "      <td>4</td>\n",
       "      <td>0</td>\n",
       "      <td>2.99882</td>\n",
       "    </tr>\n",
       "  </tbody>\n",
       "</table>\n",
       "<p>2647 rows × 4 columns</p>\n",
       "</div>"
      ],
      "text/plain": [
       "      molecular_weight  n_hba  n_hbd     logp\n",
       "0          2178.985813     29     28 -8.11643\n",
       "1          1268.641439     16     17 -3.10570\n",
       "2          1810.033419     16     20  4.86760\n",
       "3          1068.426955     15     14 -4.13203\n",
       "4          1429.669818     16     17 -0.50613\n",
       "...                ...    ...    ...      ...\n",
       "2642        184.065493      1      1  3.47742\n",
       "2643        213.078979      2      2  2.64450\n",
       "2644        342.219495      3      1  4.00450\n",
       "2645        666.278860     12      1  4.69780\n",
       "2646        258.089209      4      0  2.99882\n",
       "\n",
       "[2647 rows x 4 columns]"
      ]
     },
     "execution_count": 4,
     "metadata": {},
     "output_type": "execute_result"
    }
   ],
   "source": [
    "\n",
    "drugbank_molecules[\"molecular_weight\"] = drugbank_molecules[\"ROMol\"].apply(Descriptors.ExactMolWt)\n",
    "drugbank_molecules[\"n_hba\"] = drugbank_molecules[\"ROMol\"].apply(Descriptors.NumHAcceptors)\n",
    "drugbank_molecules[\"n_hbd\"] = drugbank_molecules[\"ROMol\"].apply(Descriptors.NumHDonors)\n",
    "drugbank_molecules[\"logp\"] = drugbank_molecules[\"ROMol\"].apply(Descriptors.MolLogP)\n",
    "\n",
    "# molecules\n",
    "drugbank_molecules[[\"molecular_weight\", \"n_hba\", \"n_hbd\", \"logp\"]]"
   ]
  },
  {
   "cell_type": "code",
   "execution_count": 5,
   "metadata": {},
   "outputs": [
    {
     "data": {
      "application/vnd.microsoft.datawrangler.viewer.v0+json": {
       "columns": [
        {
         "name": "index",
         "rawType": "int64",
         "type": "integer"
        },
        {
         "name": "ID",
         "rawType": "object",
         "type": "string"
        },
        {
         "name": "SMILES",
         "rawType": "object",
         "type": "string"
        },
        {
         "name": "ROMol",
         "rawType": "object",
         "type": "unknown"
        },
        {
         "name": "molecular_weight",
         "rawType": "float64",
         "type": "float"
        },
        {
         "name": "n_hba",
         "rawType": "int64",
         "type": "integer"
        },
        {
         "name": "n_hbd",
         "rawType": "int64",
         "type": "integer"
        },
        {
         "name": "logp",
         "rawType": "float64",
         "type": "float"
        }
       ],
       "conversionMethod": "pd.DataFrame",
       "ref": "f203c9ee-5509-48fd-8cdf-fd6444eb0ae6",
       "rows": [
        [
         "0",
         "DB00006",
         "CC[C@H](C)[C@H](NC(=O)[C@H](CCC(O)=O)NC(=O)[C@H](CCC(O)=O)NC(=O)[C@H](CC1=CC=CC=C1)NC(=O)[C@H](CC(O)=O)NC(=O)CNC(=O)[C@H](CC(N)=O)NC(=O)CNC(=O)CNC(=O)CNC(=O)CNC(=O)[C@@H]1CCCN1C(=O)[C@H](CCCNC(N)=N)NC(=O)[C@@H]1CCCN1C(=O)[C@H](N)CC1=CC=CC=C1)C(=O)N1CCC[C@H]1C(=O)N[C@@H](CCC(O)=O)C(=O)N[C@@H](CCC(O)=O)C(=O)N[C@@H](CC1=CC=C(O)C=C1)C(=O)N[C@@H](CC(C)C)C(O)=O",
         "<rdkit.Chem.rdchem.Mol object at 0x000001B44BC5F760>",
         "2178.9858128759984",
         "29",
         "28",
         "-8.116429999999925"
        ],
        [
         "1",
         "DB00014",
         "CC(C)C[C@H](NC(=O)[C@@H](COC(C)(C)C)NC(=O)[C@H](CC1=CC=C(O)C=C1)NC(=O)[C@H](CO)NC(=O)[C@H](CC1=CNC2=CC=CC=C12)NC(=O)[C@H](CC1=CN=CN1)NC(=O)[C@@H]1CCC(=O)N1)C(=O)N[C@@H](CCCN=C(N)N)C(=O)N1CCC[C@H]1C(=O)NNC(N)=O",
         "<rdkit.Chem.rdchem.Mol object at 0x000001B44BC5FDF0>",
         "1268.6414393679997",
         "16",
         "17",
         "-3.1057000000000192"
        ],
        [
         "2",
         "DB00027",
         "CC(C)C[C@@H](NC(=O)CNC(=O)[C@@H](NC=O)C(C)C)C(=O)N[C@@H](C)C(=O)N[C@H](C(C)C)C(=O)N[C@@H](C(C)C)C(=O)N[C@H](C(C)C)C(=O)N[C@@H](CC1=CNC2=C1C=CC=C2)C(=O)N[C@H](CC(C)C)C(=O)N[C@@H](CC1=CNC2=C1C=CC=C2)C(=O)N[C@H](CC(C)C)C(=O)N[C@@H](CC1=CNC2=C1C=CC=C2)C(=O)N[C@H](CC(C)C)C(=O)N[C@@H](CC1=CNC2=C1C=CC=C2)C(=O)NCCO",
         "<rdkit.Chem.rdchem.Mol object at 0x000001B44BC5FE60>",
         "1810.0334192399991",
         "16",
         "20",
         "4.867599999999979"
        ],
        [
         "3",
         "DB00035",
         "NC(=O)CC[C@@H]1NC(=O)[C@H](CC2=CC=CC=C2)NC(=O)[C@H](CC2=CC=C(O)C=C2)NC(=O)CCSSC[C@H](NC(=O)[C@H](CC(N)=O)NC1=O)C(=O)N1CCC[C@H]1C(=O)N[C@H](CCCNC(N)=N)C(=O)NCC(N)=O",
         "<rdkit.Chem.rdchem.Mol object at 0x000001B44BC5F840>",
         "1068.426955488",
         "15",
         "14",
         "-4.1320300000000145"
        ],
        [
         "4",
         "DB00050",
         "CC(C)C[C@H](NC(=O)[C@@H](CCCNC(N)=O)NC(=O)[C@H](CC1=CC=C(O)C=C1)NC(=O)[C@H](CO)NC(=O)[C@@H](CC1=CN=CC=C1)NC(=O)[C@@H](CC1=CC=C(Cl)C=C1)NC(=O)[C@@H](CC1=CC2=CC=CC=C2C=C1)NC(C)=O)C(=O)N[C@@H](CCCNC(N)=N)C(=O)N1CCC[C@H]1C(=O)N[C@H](C)C(N)=O",
         "<rdkit.Chem.rdchem.Mol object at 0x000001B44BC5FD10>",
         "1429.6698183039996",
         "16",
         "17",
         "-0.5061300000000057"
        ],
        [
         "5",
         "DB00080",
         "CCCCCCCCCC(=O)N[C@@H](CC1=CNC2=C1C=CC=C2)C(=O)N[C@H](CC(N)=O)C(=O)N[C@@H](CC(O)=O)C(=O)N[C@H]1[C@@H](C)OC(=O)[C@H](CC(=O)C2=CC=CC=C2N)NC(=O)[C@@H](NC(=O)[C@@H](CO)NC(=O)CNC(=O)[C@H](CC(O)=O)NC(=O)[C@@H](C)NC(=O)[C@H](CC(O)=O)NC(=O)[C@H](CCCN)NC(=O)CNC1=O)[C@H](C)CC(O)=O",
         "<rdkit.Chem.rdchem.Mol object at 0x000001B44BBD7920>",
         "1619.710366351999",
         "24",
         "22",
         "-5.621799999999977"
        ],
        [
         "6",
         "DB00091",
         "CC[C@@H]1NC(=O)[C@H]([C@H](O)[C@H](C)C\\C=C\\C)N(C)C(=O)[C@H](C(C)C)N(C)C(=O)[C@H](CC(C)C)N(C)C(=O)[C@H](CC(C)C)N(C)C(=O)[C@@H](C)NC(=O)[C@H](C)NC(=O)[C@H](CC(C)C)N(C)C(=O)[C@@H](NC(=O)[C@H](CC(C)C)N(C)C(=O)CN(C)C1=O)C(C)C",
         "<rdkit.Chem.rdchem.Mol object at 0x000001B44BBD7290>",
         "1201.841367992",
         "12",
         "5",
         "3.269000000000003"
        ],
        [
         "7",
         "DB00106",
         "CC(C)C[C@H](NC(=O)[C@@H](CC(N)=O)NC(=O)[C@H](CC1=CC=C(O)C=C1)N(C)C(=O)[C@H](CO)NC(=O)[C@@H](CC1=CN=CC=C1)NC(=O)[C@@H](CC1=CC=C(Cl)C=C1)NC(=O)[C@@H](CC1=CC2=C(C=CC=C2)C=C1)NC(C)=O)C(=O)N[C@@H](CCCCNC(C)C)C(=O)N1CCC[C@H]1C(=O)N[C@H](C)C(N)=O",
         "<rdkit.Chem.rdchem.Mol object at 0x000001B44BBD5C40>",
         "1414.6840713999995",
         "16",
         "13",
         "1.1680000000000075"
        ],
        [
         "8",
         "DB00114",
         "CC1=NC=C(COP(O)(O)=O)C(C=O)=C1O",
         "<rdkit.Chem.rdchem.Mol object at 0x000001B44BBD5D20>",
         "247.02457367",
         "5",
         "3",
         "0.5174199999999998"
        ],
        [
         "9",
         "DB00115",
         "C[C@H](CNC(=O)CC[C@]1(C)[C@@H](CC(N)=O)[C@H]2N=C1\\C(C)=C1/N=C(/C=C3\\N=C(\\C(\\C)=C4\\[C@@H](CCC(N)=O)[C@](C)(CC(N)=O)[C@@]2(C)N4[Co+]C#N)[C@@](C)(CC(N)=O)[C@@H]3CCC(N)=O)C(C)(C)[C@@H]1CCC(N)=O)OP([O-])(=O)O[C@@H]1[C@@H](CO)O[C@@H]([C@@H]1O)N1C=NC2=C1C=C(C)C(C)=C2",
         "<rdkit.Chem.rdchem.Mol object at 0x000001B44BBD6110>",
         "1354.5674001259997",
         "21",
         "9",
         "2.722220000000001"
        ],
        [
         "10",
         "DB00118",
         "C[S+](CC[C@H](N)C([O-])=O)C[C@H]1O[C@H]([C@H](O)[C@@H]1O)N1C=NC2=C1N=CN=C2N",
         "<rdkit.Chem.rdchem.Mol object at 0x000001B44BBD53F0>",
         "398.1372388040001",
         "11",
         "4",
         "-3.256899999999998"
        ],
        [
         "11",
         "DB00119",
         "CC(=O)C(O)=O",
         "<rdkit.Chem.rdchem.Mol object at 0x000001B44BBD7F40>",
         "88.016043988",
         "2",
         "1",
         "-0.3399999999999999"
        ],
        [
         "12",
         "DB00120",
         "N[C@@H](CC1=CC=CC=C1)C(O)=O",
         "<rdkit.Chem.rdchem.Mol object at 0x000001B44BBD7C30>",
         "165.078978592",
         "2",
         "2",
         "0.641"
        ],
        [
         "13",
         "DB00121",
         "[H][C@]12CS[C@@H](CCCCC(O)=O)[C@@]1([H])NC(=O)N2",
         "<rdkit.Chem.rdchem.Mol object at 0x000001B44BBD69D0>",
         "244.088163372",
         "3",
         "3",
         "0.7968"
        ],
        [
         "14",
         "DB00122",
         "C[N+](C)(C)CCO",
         "<rdkit.Chem.rdchem.Mol object at 0x000001B44BBD7BC0>",
         "104.10699048808999",
         "1",
         "1",
         "-0.3150999999999999"
        ],
        [
         "15",
         "DB00123",
         "NCCCC[C@H](N)C(O)=O",
         "<rdkit.Chem.rdchem.Mol object at 0x000001B44BBD7CA0>",
         "146.105527688",
         "3",
         "3",
         "-0.4726999999999995"
        ],
        [
         "16",
         "DB00126",
         "[H][C@@]1(OC(=O)C(O)=C1O)[C@@H](O)CO",
         "<rdkit.Chem.rdchem.Mol object at 0x000001B44BBD7E60>",
         "176.032087976",
         "6",
         "4",
         "-1.4074"
        ],
        [
         "17",
         "DB00128",
         "N[C@@H](CC(O)=O)C(O)=O",
         "<rdkit.Chem.rdchem.Mol object at 0x000001B44BBD7A00>",
         "133.037507704",
         "3",
         "3",
         "-1.127"
        ],
        [
         "18",
         "DB00129",
         "NCCC[C@H](N)C(O)=O",
         "<rdkit.Chem.rdchem.Mol object at 0x000001B44BBD7DF0>",
         "132.089877624",
         "3",
         "3",
         "-0.8627999999999991"
        ],
        [
         "19",
         "DB00130",
         "N[C@@H](CCC(N)=O)C(O)=O",
         "<rdkit.Chem.rdchem.Mol object at 0x000001B44BBD7ED0>",
         "146.06914218",
         "3",
         "3",
         "-1.3361999999999998"
        ],
        [
         "20",
         "DB00131",
         "NC1=C2N=CN([C@@H]3O[C@H](COP(O)(O)=O)[C@@H](O)[C@H]3O)C2=NC=N1",
         "<rdkit.Chem.rdchem.Mol object at 0x000001B44BBD7D10>",
         "347.063084418",
         "10",
         "5",
         "-1.8630000000000004"
        ],
        [
         "21",
         "DB00132",
         "CC\\C=C/C\\C=C/C\\C=C/CCCCCCCC(O)=O",
         "<rdkit.Chem.rdchem.Mol object at 0x000001B44BBD6AB0>",
         "278.2245802",
         "1",
         "1",
         "5.660500000000005"
        ],
        [
         "22",
         "DB00134",
         "CSCC[C@H](N)C(O)=O",
         "<rdkit.Chem.rdchem.Mol object at 0x000001B44BBD5380>",
         "149.051049592",
         "3",
         "2",
         "0.1513999999999998"
        ],
        [
         "23",
         "DB00135",
         "[H][C@](N)(CC1=CC=C(O)C=C1)C(O)=O",
         "<rdkit.Chem.rdchem.Mol object at 0x000001B44BBD7760>",
         "181.073893212",
         "3",
         "3",
         "0.3466000000000001"
        ],
        [
         "24",
         "DB00136",
         "C[C@H](CCCC(C)(C)O)[C@@]1([H])CC[C@@]2([H])\\C(CCC[C@]12C)=C\\C=C1\\C[C@@H](O)C[C@H](O)C1=C",
         "<rdkit.Chem.rdchem.Mol object at 0x000001B44BBD7D80>",
         "416.32904526799996",
         "3",
         "3",
         "5.704700000000008"
        ],
        [
         "25",
         "DB00137",
         "C\\C(\\C=C\\C=C(/C)\\C=C\\[C@H]1C(C)=C[C@H](O)CC1(C)C)=C/C=C/C=C(\\C)/C=C/C=C(\\C)/C=C/C1=C(C)C[C@@H](O)CC1(C)C",
         "<rdkit.Chem.rdchem.Mol object at 0x000001B44BBD6DC0>",
         "568.428031032",
         "2",
         "2",
         "10.403299999999993"
        ],
        [
         "26",
         "DB00138",
         "N[C@@H](CSSC[C@H](N)C(O)=O)C(O)=O",
         "<rdkit.Chem.rdchem.Mol object at 0x000001B44BBD7370>",
         "240.023848864",
         "6",
         "4",
         "-0.8083999999999993"
        ],
        [
         "27",
         "DB00139",
         "OC(=O)CCC(O)=O",
         "<rdkit.Chem.rdchem.Mol object at 0x000001B44BBD70D0>",
         "118.02660867200001",
         "2",
         "2",
         "-0.06419999999999987"
        ],
        [
         "28",
         "DB00140",
         "CC1=C(C)C=C2N(C[C@H](O)[C@H](O)[C@H](O)CO)C3=NC(=O)NC(=O)C3=NC2=C1",
         "<rdkit.Chem.rdchem.Mol object at 0x000001B44BBD7610>",
         "376.13828436",
         "9",
         "5",
         "-1.7235599999999993"
        ],
        [
         "29",
         "DB00141",
         "[H]C(=O)[C@H](NC(C)=O)[C@@H](O)[C@H](O)[C@H](O)CO",
         "<rdkit.Chem.rdchem.Mol object at 0x000001B44BBD7680>",
         "221.0899372",
         "6",
         "5",
         "-3.234999999999999"
        ],
        [
         "30",
         "DB00142",
         "N[C@@H](CCC(O)=O)C(O)=O",
         "<rdkit.Chem.rdchem.Mol object at 0x000001B44BBD7300>",
         "147.053157768",
         "3",
         "3",
         "-0.7369000000000001"
        ],
        [
         "31",
         "DB00143",
         "N[C@@H](CCC(=O)N[C@@H](CS)C(=O)NCC(O)=O)C(O)=O",
         "<rdkit.Chem.rdchem.Mol object at 0x000001B44BBD7530>",
         "307.083806264",
         "6",
         "6",
         "-2.2060999999999984"
        ],
        [
         "32",
         "DB00145",
         "NCC(O)=O",
         "<rdkit.Chem.rdchem.Mol object at 0x000001B44BBD74C0>",
         "75.0320284",
         "2",
         "2",
         "-0.9702999999999999"
        ],
        [
         "33",
         "DB00146",
         "C[C@H](CCCC(C)(C)O)[C@@]1([H])CC[C@@]2([H])\\C(CCC[C@]12C)=C\\C=C1\\C[C@@H](O)CCC1=C",
         "<rdkit.Chem.rdchem.Mol object at 0x000001B44BBD7A70>",
         "400.334130648",
         "2",
         "2",
         "6.733900000000008"
        ],
        [
         "34",
         "DB00148",
         "CN(CC(O)=O)C(N)=N",
         "<rdkit.Chem.rdchem.Mol object at 0x000001B44BBD7AE0>",
         "131.069476528",
         "2",
         "3",
         "-1.1037299999999988"
        ],
        [
         "35",
         "DB00150",
         "N[C@@H](CC1=CNC2=C1C=CC=C2)C(O)=O",
         "<rdkit.Chem.rdchem.Mol object at 0x000001B44BBD7B50>",
         "204.089877624",
         "2",
         "3",
         "1.1223"
        ],
        [
         "36",
         "DB00151",
         "N[C@@H](CS)C(O)=O",
         "<rdkit.Chem.rdchem.Mol object at 0x000001B44BC21AF0>",
         "121.019749464",
         "3",
         "3",
         "-0.6719000000000002"
        ],
        [
         "37",
         "DB00152",
         "CC1=C(CCO)SC=[N+]1CC1=CN=C(C)N=C1N",
         "<rdkit.Chem.rdchem.Mol object at 0x000001B44BC21A80>",
         "265.11175858409",
         "5",
         "2",
         "0.6077400000000001"
        ],
        [
         "38",
         "DB00153",
         "CC(C)[C@@H](C)\\C=C\\[C@@H](C)[C@@]1([H])CC[C@@]2([H])\\C(CCC[C@]12C)=C\\C=C1\\C[C@@H](O)CCC1=C",
         "<rdkit.Chem.rdchem.Mol object at 0x000001B44BC21A10>",
         "396.33921602799995",
         "1",
         "1",
         "7.641000000000009"
        ],
        [
         "39",
         "DB00156",
         "C[C@@H](O)[C@H](N)C(O)=O",
         "<rdkit.Chem.rdchem.Mol object at 0x000001B44BC21930>",
         "119.058243148",
         "3",
         "3",
         "-1.2208999999999997"
        ],
        [
         "40",
         "DB00157",
         "NC(=O)C1=CN(C=CC1)[C@@H]1O[C@H](CO[P@](O)(=O)O[P@](O)(=O)OC[C@H]2O[C@H]([C@H](O)[C@@H]2O)N2C=NC3=C(N)N=CN=C23)[C@@H](O)[C@H]1O",
         "<rdkit.Chem.rdchem.Mol object at 0x000001B44BC219A0>",
         "665.1247718679998",
         "18",
         "8",
         "-2.6863999999999977"
        ],
        [
         "41",
         "DB00158",
         "NC1=NC(=O)C2=NC(CNC3=CC=C(C=C3)C(=O)N[C@@H](CCC(O)=O)C(O)=O)=CN=C2N1",
         "<rdkit.Chem.rdchem.Mol object at 0x000001B44BC217E0>",
         "441.139681328",
         "9",
         "6",
         "-0.04479999999999951"
        ],
        [
         "42",
         "DB00159",
         "CC\\C=C/C\\C=C/C\\C=C/C\\C=C/C\\C=C/CCCC(O)=O",
         "<rdkit.Chem.rdchem.Mol object at 0x000001B44BC218C0>",
         "302.2245802",
         "1",
         "1",
         "5.9927000000000055"
        ],
        [
         "43",
         "DB00161",
         "CC(C)[C@H](N)C(O)=O",
         "<rdkit.Chem.rdchem.Mol object at 0x000001B44BC21850>",
         "117.078978592",
         "2",
         "2",
         "0.05430000000000007"
        ],
        [
         "44",
         "DB00162",
         "C\\C(=C/CO)\\C=C\\C=C(/C)\\C=C\\C1=C(C)CCCC1(C)C",
         "<rdkit.Chem.rdchem.Mol object at 0x000001B44BC214D0>",
         "286.22966558",
         "1",
         "1",
         "5.510300000000005"
        ],
        [
         "45",
         "DB00163",
         "CC(C)CCC[C@@H](C)CCC[C@@H](C)CCC[C@]1(C)CCC2=C(O1)C(C)=C(C)C(O)=C2C",
         "<rdkit.Chem.rdchem.Mol object at 0x000001B44BC21700>",
         "430.3810808399999",
         "2",
         "1",
         "8.840260000000002"
        ],
        [
         "46",
         "DB00165",
         "CC1=C(O)C(CO)=C(CO)C=N1",
         "<rdkit.Chem.rdchem.Mol object at 0x000001B44BC21770>",
         "169.073893212",
         "4",
         "3",
         "0.0802199999999999"
        ],
        [
         "47",
         "DB00166",
         "OC(=O)CCCC[C@@H]1CCSS1",
         "<rdkit.Chem.rdchem.Mol object at 0x000001B44BC21690>",
         "206.043521688",
         "3",
         "1",
         "2.7851000000000017"
        ],
        [
         "48",
         "DB00169",
         "CC(C)CCC[C@@H](C)[C@@]1([H])CC[C@@]2([H])\\C(CCC[C@]12C)=C\\C=C1\\C[C@@H](O)CCC1=C",
         "<rdkit.Chem.rdchem.Mol object at 0x000001B44BC21620>",
         "384.33921602799995",
         "1",
         "1",
         "7.6190000000000095"
        ],
        [
         "49",
         "DB00170",
         "CC1=CC(=O)C2=CC=CC=C2C1=O",
         "<rdkit.Chem.rdchem.Mol object at 0x000001B44BC215B0>",
         "172.052429496",
         "2",
         "0",
         "2.0119000000000002"
        ]
       ],
       "shape": {
        "columns": 7,
        "rows": 2647
       }
      },
      "text/html": [
       "<div>\n",
       "<style scoped>\n",
       "    .dataframe tbody tr th:only-of-type {\n",
       "        vertical-align: middle;\n",
       "    }\n",
       "\n",
       "    .dataframe tbody tr th {\n",
       "        vertical-align: top;\n",
       "    }\n",
       "\n",
       "    .dataframe thead th {\n",
       "        text-align: right;\n",
       "    }\n",
       "</style>\n",
       "<table border=\"1\" class=\"dataframe\">\n",
       "  <thead>\n",
       "    <tr style=\"text-align: right;\">\n",
       "      <th></th>\n",
       "      <th>ID</th>\n",
       "      <th>SMILES</th>\n",
       "      <th>ROMol</th>\n",
       "      <th>molecular_weight</th>\n",
       "      <th>n_hba</th>\n",
       "      <th>n_hbd</th>\n",
       "      <th>logp</th>\n",
       "    </tr>\n",
       "  </thead>\n",
       "  <tbody>\n",
       "    <tr>\n",
       "      <th>0</th>\n",
       "      <td>DB00006</td>\n",
       "      <td>CC[C@H](C)[C@H](NC(=O)[C@H](CCC(O)=O)NC(=O)[C@...</td>\n",
       "      <td style=\"text-align: center;\"><div style=\"width: 200px; height: 200px\" data-content=\"rdkit/molecule\"><img src=\"data:image/png;base64,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\" alt=\"Mol\"/></div></td>\n",
       "      <td>2178.985813</td>\n",
       "      <td>29</td>\n",
       "      <td>28</td>\n",
       "      <td>-8.11643</td>\n",
       "    </tr>\n",
       "    <tr>\n",
       "      <th>1</th>\n",
       "      <td>DB00014</td>\n",
       "      <td>CC(C)C[C@H](NC(=O)[C@@H](COC(C)(C)C)NC(=O)[C@H...</td>\n",
       "      <td style=\"text-align: center;\"><div style=\"width: 200px; height: 200px\" data-content=\"rdkit/molecule\"><img src=\"data:image/png;base64,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\" alt=\"Mol\"/></div></td>\n",
       "      <td>1268.641439</td>\n",
       "      <td>16</td>\n",
       "      <td>17</td>\n",
       "      <td>-3.10570</td>\n",
       "    </tr>\n",
       "    <tr>\n",
       "      <th>2</th>\n",
       "      <td>DB00027</td>\n",
       "      <td>CC(C)C[C@@H](NC(=O)CNC(=O)[C@@H](NC=O)C(C)C)C(...</td>\n",
       "      <td style=\"text-align: center;\"><div style=\"width: 200px; height: 200px\" data-content=\"rdkit/molecule\"><img src=\"data:image/png;base64,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\" alt=\"Mol\"/></div></td>\n",
       "      <td>1810.033419</td>\n",
       "      <td>16</td>\n",
       "      <td>20</td>\n",
       "      <td>4.86760</td>\n",
       "    </tr>\n",
       "    <tr>\n",
       "      <th>3</th>\n",
       "      <td>DB00035</td>\n",
       "      <td>NC(=O)CC[C@@H]1NC(=O)[C@H](CC2=CC=CC=C2)NC(=O)...</td>\n",
       "      <td style=\"text-align: center;\"><div style=\"width: 200px; height: 200px\" data-content=\"rdkit/molecule\"><img src=\"data:image/png;base64,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\" alt=\"Mol\"/></div></td>\n",
       "      <td>1068.426955</td>\n",
       "      <td>15</td>\n",
       "      <td>14</td>\n",
       "      <td>-4.13203</td>\n",
       "    </tr>\n",
       "    <tr>\n",
       "      <th>4</th>\n",
       "      <td>DB00050</td>\n",
       "      <td>CC(C)C[C@H](NC(=O)[C@@H](CCCNC(N)=O)NC(=O)[C@H...</td>\n",
       "      <td style=\"text-align: center;\"><div style=\"width: 200px; height: 200px\" data-content=\"rdkit/molecule\"><img src=\"data:image/png;base64,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\" alt=\"Mol\"/></div></td>\n",
       "      <td>1429.669818</td>\n",
       "      <td>16</td>\n",
       "      <td>17</td>\n",
       "      <td>-0.50613</td>\n",
       "    </tr>\n",
       "    <tr>\n",
       "      <th>...</th>\n",
       "      <td>...</td>\n",
       "      <td>...</td>\n",
       "      <td>...</td>\n",
       "      <td>...</td>\n",
       "      <td>...</td>\n",
       "      <td>...</td>\n",
       "      <td>...</td>\n",
       "    </tr>\n",
       "    <tr>\n",
       "      <th>2642</th>\n",
       "      <td>DB19375</td>\n",
       "      <td>CC(C)C1=CC(Cl)=C(C)C=C1O</td>\n",
       "      <td style=\"text-align: center;\"><div style=\"width: 200px; height: 200px\" data-content=\"rdkit/molecule\"><img src=\"data:image/png;base64,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\" alt=\"Mol\"/></div></td>\n",
       "      <td>184.065493</td>\n",
       "      <td>1</td>\n",
       "      <td>1</td>\n",
       "      <td>3.47742</td>\n",
       "    </tr>\n",
       "    <tr>\n",
       "      <th>2643</th>\n",
       "      <td>DB19376</td>\n",
       "      <td>OC1=CC=CC=C1C(=O)NC1=CC=CC=C1</td>\n",
       "      <td style=\"text-align: center;\"><div style=\"width: 200px; height: 200px\" data-content=\"rdkit/molecule\"><img src=\"data:image/png;base64,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\" alt=\"Mol\"/></div></td>\n",
       "      <td>213.078979</td>\n",
       "      <td>2</td>\n",
       "      <td>2</td>\n",
       "      <td>2.64450</td>\n",
       "    </tr>\n",
       "    <tr>\n",
       "      <th>2644</th>\n",
       "      <td>DB19378</td>\n",
       "      <td>[H][C@@]12CC[C@](O)(C(C)=O)[C@@]1(C)CC[C@@]1([...</td>\n",
       "      <td style=\"text-align: center;\"><div style=\"width: 200px; height: 200px\" data-content=\"rdkit/molecule\"><img src=\"data:image/png;base64,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\" alt=\"Mol\"/></div></td>\n",
       "      <td>342.219495</td>\n",
       "      <td>3</td>\n",
       "      <td>1</td>\n",
       "      <td>4.00450</td>\n",
       "    </tr>\n",
       "    <tr>\n",
       "      <th>2645</th>\n",
       "      <td>DB19379</td>\n",
       "      <td>[H][C@]12C[C@@H](OC(=O)C3=CC(OC)=C(OC(=O)OCC)C...</td>\n",
       "      <td style=\"text-align: center;\"><div style=\"width: 200px; height: 200px\" data-content=\"rdkit/molecule\"><img src=\"data:image/png;base64,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\" alt=\"Mol\"/></div></td>\n",
       "      <td>666.278860</td>\n",
       "      <td>12</td>\n",
       "      <td>1</td>\n",
       "      <td>4.69780</td>\n",
       "    </tr>\n",
       "    <tr>\n",
       "      <th>2646</th>\n",
       "      <td>DB19387</td>\n",
       "      <td>CC(=O)OC1=CC(C)=C(OC(C)=O)C2=CC=CC=C12</td>\n",
       "      <td style=\"text-align: center;\"><div style=\"width: 200px; height: 200px\" data-content=\"rdkit/molecule\"><img src=\"data:image/png;base64,iVBORw0KGgoAAAANSUhEUgAAAMgAAADICAIAAAAiOjnJAAAABmJLR0QA/wD/AP+gvaeTAAAY8ElEQVR4nO2de1yN2frAn713N01JqYh+ukpF10Eu0zTj0shwhpP5zGDmEAeHHNRJTY5bGbfBMWpmYo4xDOOM4ZjhOGFwXCsjIiW5JfdIu9Kufd/P74+3tgqJvde7Xvb6fnx89m629aw9vtZ7e55niRARGAxjI6Y9AcbrCROLQQQmFoMITCwGEZhYDCIwsRhEYGIxiMDEYhCBicUgAhOLQQQmFoMITCwGEZhYDCIwsRhEYGIxiMDEYhCBicUgAhOLQQQmFoMITCwGEZhYDCIwsRhEYGIxiMDEYhCBicUgAhOLQQQmFoMITCwGEZhYDCIwsRhEYGIxiMDEYhCBicUgAhOLQQQmFoMITCwGEZhYDCIwsRhEYGIxiGBGewKMl0Umg6++gjNnwMoK3n0XYmJAJKI9p8cwsV5ZoqPBxwcWLQKZDBIT4cYNSEmhPafHiNjOFK8kOTkwaRIUFNSvUvfvg68v3LkD1ta0Z1YPO8d6NSkshN69Hx/7OnQAZ2coKaE6pyYwsV5NRCLQ6Zr8BBHEAvrbFNBUGC9AQACcOgX605iyMqioAE9PqnNqAhPr1SQsDNzcYMYMuHoVzp6FsWMhLg6srGhP6zHCOHlHhN27ISsLdDoIC4PoaEGt6gJFJoP0dMjNBSsriIyEceNAJILt22HtWti3D8zN6c5OGGItWACHD0NyMkgksGIF+PvDmjWGj1peXu7k5GT4OK8MtbUQEADXr8OiRTB3LuXJIHXKy9HRESsq6t/W1GCHDlhaasiQWq02Pj7e1tb2ypUrRpih8PnhB1y5EhHxxAkUi9HMDE+fpjsjARxxLl6Erl3BwaH+rY0NBAfD+fOGDCkWi8vLy2tqasaNG6fVao0wSSFTUADjx0NyMpw9C/37Q2wsaDQwcSKoVBQnJQCx1GqQSJr8xMIC1GoDR01PT3d1dc3Ozl5jjKOqoAkIgBkzQK2GTz4BhQKWLYOuXSE/HxYvpjkrugsmIuKtW+jsjApF/VuNBt3csKjI8IF/++03kUhkaWl54cIFw0cTNHI5+vsjAP7974iI2dkokaCZGZ46RWtGAhALEceMwSlTsLISq6sxIQGHDzfWwBMmTACAPn36aDQaY40pUHJy6mX6/XdExPh4BEA/P5TLqUyHqlgKBW7ahEol1tZicjL27499++Ls2VhdbawI1dXVXbp0AYBly5YZa0zhMns2AqCvL9bVoUKB3bsjACYnU5kLVbHWrkUAfP99okEOHjzIHRALCgqIBqKPQoE9eiAAJiYiNqxhEkktjQMiPbFUKvTwQADcvh0RccEC/PJLrK0lEWrKlCkAEBISolKpSIwvIM6cQXNzFIvx2DFEVM6duzk83N/PT877AZGeWN99V38SoNXi3bvYpg2KxUhmUZHJZF5eXgCwaNEiEuMLizlzEAC7dcO6OoVCERAQAAAJCQk8z4KSWBoN+vggAP74IyLizJkIgB99RC7g//73P5FIZG5ufpr2nUPiKJXaXr0yIyIS4uMRMS8vz9zcXCwWHz16lM9ZUBJr82YEQC8vVKuxrAytrVEkwvx8ojGnT58OAEFBQUqlkmgg6pxtkOnYsWOIOHfuXADw9PSsqanhbQ40xNJq688xv/8eETEhAQFw5EjSYWtra7t27QoACxYsIB2LOgsWLAAADw+PmpoalUr15ptvAsDMmTN5mwANsbZtQwDs0gWVSnz4EG1tEQBzc3mInJWVJZFIzMzMTtG7c8gParW6Z8+eABAbG4uI586ds7CwEIvFR44c4WcCvIul02FgIALgunWIDWeaw4bxFj8uLg4A/GhcKPHMhQsXrKysRCLR/v37EXHhwoXcGvbo0aOXGE0qlV69ejU3N3f//v3/+te/1q9f3/LneU+b+fVXGDkS/u//4OpVkMvB3R2qqiArC/r14ye+UqkMDQ0tKipKTk5esmQJP0FpsXjx4rlz57q5uRUUFLRp06Zfv365ubnTpk37+uuvuQ/I5fJ79+7dvXu3skUePnyobvr0ViwWq9VqcQtpcy8hryEsi46uCAnB9HRExIULEQAjI3meQ05OjkQikUgkJ0+e5Dk0z6jV6t69ewPA5MmTc3NzPTw8RCKRSCTq2LGj9QvW87Rr187T07Nnz56RkZEfffTR1KlTFfrHu0+D1xUrMzPz/fffd3FxuV5SIlapzN3dobISjh2D8HDe5sCRlJT0xRdf+Pr65uXltWnThufofFJcXBwSEqJUKu3s7B49eqRrWoJhZWXVqVMnFxcX+xZxcnIyf9GUVL7+8SAi9u/fHwD+8Y9/IOKSJUvG+fvfHDeOzwnoUSgUPXr0ABp3Dvln+fLl3N91586dN2zYkJ+ff+vWLZlMRjQof2IdOHAAABwdHWtqamQyGZc0fOjQId4m0Iy8pjd7jEJtbe21a9eMNZqxUCqVtra2ALBt2zbegvJXYr9o0SJuhbCxsVm5cmV5eXnfvn0HDBjA2wSaERISkpiYuHjx4vHjx+fn59vY2Dzrk3K5vOVzWz1lZWWI6Ofnl5eXZyWYmpmtW7fW1NT4+vqOGjWKt6A8nWNlZ2f379/fwcGhtLTU3Nzcy8vr7t27+/bte++993iI/izUanWfPn3y8vKGDh363nvvVVZWSqVSqVTKvdC/1Wg0rRxQIpFwmdCzZs1avXo1ybm3Fq1W271790uXLm3evPmTTz7hLS5PYg0ePPjgwYOpqanz5s1LS0ubOXNmaGjo6dOnRbQbpOTm5oaHh1tbW1dWVj7rM1ZWVi2f2+rp2LHjP//5z6lTp1pYWOTm5nIPgOmydevWsWPHenl5FRcXm5nxd4DiQ6yTJ0/27du3bdu2paWl1tbW3t7et2/f3r179/Dhw0mHfi4bN26MiYlxcnL6+OOPHRwcHBwc7O3t9b9zL170gmjatGkZGRnBwcGnTp164Yspo4KIgYGBhYWFGzZsiImJ4Ts2aaKiogBg7ty5iPjNN98AQFBQkE6n4yF0y2g0mm7dugHAli1bDB9NpVKlpaUplUqZTObt7Q0AKSkphg9rCNu3bweALl268P/c3WhiaTSaBw8eXLp0KScnJzMzc8uWLWlpaSkpKaNHjwYAsVjs5ua2bt06d3d3ANixY4ex4hrCli1bAMDLy0utVmu1WgNHi46OBoD58+cj4okTJ8RisZmZGcUsHZ1Oxz17Xrt2Lf/Rn3MobP0F0YMHD1qu4BOLxWKxWKPR+Pn5FRYWtvQ0gBd0Ol1QUJD+MJGUlFRUVLR8+XJ/f/+XGzAnJyc8PFwkEmVnZ/fq1WvmzJlpaWmBgYG5ubkWFhbGnXxrUO/Zc3jVqrn37h3Pz7e0tOQ7fAvS1dXVtX4ciUTi6Ojo4+MTFhYWFRU1duzY6dOnz58/f/Xq1Zs2bfr2228jIiK4TxrluGM4P//8MzQcJh4+fMjd6ck1LMkiPj4eGp5w19bW+vj4QMM5AAV69UIAXVoaleDPORQ6Ojq6uroGBgZGRESMHDlywoQJCQkJS5YsycjI2LZt24EDB86cOVNSUlJVVfXcSFVVVcIpmOGWKwBYt24dIs6ZMwcA3je4rEOhUHTv3h0AkpOTETE7O5talk5mJgJghw5YV8d3aETkOW3mwIEDXMFMYWEhn3Gf5NdffwUAV1dXhUJRVVXVrl07ADhx4oThI588eVIikYjF4uPHjyNiQkICUMnSeestBKhv6EADvrMbJk2aBAChoaF0C2Z69eoFAOnp6diQqBRpvCSLpKQkAOjWrVtdXZ1+DUtKSjLW+M/n4EEEwPbtkcdc5GbwLZZMJvP09ASAxYsX8xxaz3//+18A6NixY11dXXV1tYODAwAY8Ylhs9qYM2fOcA8luTWMDyIiEACXLOEp3NOgkJp86NAhkUhkYWFx/vx5/qNjQ5LFqlWrEJHL9XvnnXeMG6JZbUxycrJ+DTNuoKeQlYUA2K4dVlYSj/Vs6FTpTJs2DQCCg4P5PyBySRbt27fnkiycnZ2BTJJF49oY/RoWHx9v9EDNGTwYAZD2vVk6YtXU1Hh7e8dFRCg+/5zn0G+//TYALF26FBFXrFgBAH369CERSK1Wc/cnZ8yYgYhnz57l1jCy5QwnTyIAtm2LUinBKK2AWiV07fHjKBajuTmePctb0KysLABwcHB49OiRXC7v1KkTAOzdu5dQOH1tzOHDhxFx/vz50FCSRSgipqejuXl9MyOqUG0KwhVA+/vz1mpn0KBBAJCamoqIXEO20NBQok8tU1JSAMDd3f3Ro0f6Neyvf/2r8SNdv443byIilpZSX66Qsli1tfWF9rzcm87JyQGAtm3bSqVSpVLJ3a3dtWsX0aBqtZq7tTF16lREzM/Pt7Cw0JdkGYcjR9DDA4cOxchI9PKi2GytMbQbr/HYe65xkkVGRgbwlWRRVFTE1fft27cPEblMWm4NM8LodXXo7o7Z2fVv//Mf9PdHtdoIIxsGbbGwocSecO+5vLw8kUj0xhtvPHjwQKVSeXh4AI9JFtxNjc6dO1dWVurXsClTprz8iJWVeO0aXrmCR49i375N/pOPD1K6j9MYAYil7z1H8t70Bx98AACJiYmIuH79eu4xi+GpMq1Eo9GEhYUBwJ///GdstIY1vm5QKBR37969cOHC8ePHd+3atXHjxq/WrMF58zA2FseMwSFDsHdv7NoV27dHsRgBEADffRe3bsXo6CbB3n0XiV2OtB4BiIWN2oWRuTfNZelYW1vfv39fo9FwrUG2bt1KItazuHjxIlfAmJmZiYjLli0DgHbt2gUEBLi6uj61fFQsFmskknqHmv2ys0MPDxw9Go8cwf79m0Ty8yPdt6c1CGMjzNBQSEiApUth0yZ46y2jD5+SkqLT6aZMmeLs7Lx58+YrV654e3t/+OGHRg/UAr6+vqmpqTt37uSeaP3lL39JTU3lGlhyH7C0tGycD839rnZ2ltjagoMDODiAvf3j3/XZbLW1cOMGFBQAl19/7BhoNODnx+dXezq0zW5AocCNG5E7lVarjXi+VVRUJBaLLS0tb9++zZWsAMDGjRuNNX7r0Wq1+oMvV0QaHBxshPLRPXuwSxeMicE//Qnd3NB4Dz0NQTBicdy6hYMGYWAg9uqFISGYlWXIYCqVqqysbOTIkdDQzeenn34CAE9PTzXV6ya5XO7i4gIAv/32m3FGrK3FU6fw9GlssZ8CnwjjUKhn0iQYMgT+9jcAgMOH4eOPobi4+Xa0NTUglUJlJUil3K8vKisrGtUD6l/IZDIAsLe3NzMz43I7e/bsGRMTEx4ezmch1JNkZGTcu3cvLCxs8ODBxhnR2hp69TLOUMaCttmNuH8fHRywcaf/wYNx1y5MTsZ+/dDXF52d0dz8yTNZNzu7p341c3NzZ2dnLolPOG1tFQpF586dAWDPnj2050IQIa1YN26Aq2uTfXXc3eHmTbh8GbKzH//Q1rb+BLbhTHZWp04qa+snz3y5NPbDhw8PHDgwJSUlKiqKe6JCl/Xr19+5cyc4OHjo0KG050IS2mY3orQUXV2b/OSPf8Rt27CgALOy8OJFLCvDl0qzEU5bW5VK5ebmBgA7d+6kOxPSCEksrRa7dXt8K6u8HDt0wDt3DB9Y39aWK/qjyLfffgsA3bt35+3eLC2EJBYiHjqEnTvj7Nm4cCH6+OCaNcYaWAhtbfX3ZvlsJ0QLgYmFiOXluGcP/vyzgZusPknjoj/jjtxKNm7cCAC+vr6v/XKFQhSLGAqFgqtyTqaxIZa+T8TmzZv5j84/JiQWUm1r++OPP0JDnwieQ1PBtMTChqI/X19fPgpmGtDpdFzL0++++463oHQxObGotLWl2E6IFiYnFpJpa9sC+nZCGRkZPIQTCKYoFvK7IdauXbsAwMXF5bXfZKUxJiqWSqUKDQ0FXjbE4hKR0yi1E6KFiYqFfG2ItXfvXgDo0KEDn9cKQoByWz2KBAUFzZkzR6fTxcTE1NTUEIqyePFiAJg9e/brvbHKU6BtNk30BTPTpk0jMf7BgwehoU8EifGFjEmLhU8U/RkXrjvmEqrthGhh6mIhIne0cnV1rTRq3x+uT4SdnZ1xh31VEFKiHyUSExN37979+++/JyYmcmktL0pVVZU+K1qfGP39998DQFxcHJfCamrwvsOqICkuLg4NDZXL5ZmZmVwlPhiw+yhHmzZtxGLx7t27KW5ERREmVj0rV66cPXu2nZ2dra2tVCp9oVbkdnZ2jXdJ4V7n5OQcOXJEaDuB8QYTq56ysjI3NzdbW9uKigruJ9zeTM/dgPRZu48qlco333zzwoULSUlJXN2zaUH5HE8wfPbZZwAwaNAgo+w+yuXGUGhrKxiYWIiIFRUVXEmPURKXT5w44ePjQ6GtrZBgYiEizps3DwCGDBmCiEVFRQburEStra2QYGJhdXW1vb09AHAHrBEjRgDA+vXrX3pAOm1tBQYTq77F3oABA7BpwyNDxqTQ1lZgmLpYMpnMyckJADgDuN5GcXFxho/81La206dPN3zkVwJTF4trJ9SvXz9s2vDI8JH5aGsrYExarGbthMaMGQMNDY+MAtm2tsLGpMVavXo1AISFhSHi1atXzczMzM3NS41aKGv8travCKYrVrN2QuPHjweAyZMnGzdKa9ravpaYrlhff/01AAQHB+t0uhs3blhYWEgkkitXrhg90FPb2nbu3FkqgP0jyGGiYqlUKnd3d2hoJzR58mQAGD9+PKFw3G5QnTp1kkqlWq32rbfeAoAJEyYQCicETFQsLu/K399fq9XevHnT0tJSIpEUFxcTCqfVasPDwwFg3LhxiFhcXMytYb/88guhiNQxRbH07YR++uknRIyNjQWAMWPGEA167do1Gxsb/Rq5atUqAHBxcamoqCAalxamKBbXTqhr164ajebevXtt2rQRiUQFBQWk43755Zd6mbRaLZcR/+mnn5KOSwWTE0vfTuiHH35AxLi4OAAYNWoUD6H1MnGrY0lJCbeG8balD5+YnFhbt26Fhlbv5eXlNjY2IpHIwHSG1lNSUsLl52zfvh0R09PTAcDJycnAR5MCxLTE0ul0XBILl7zAtTT64IMP+JwDd5vD0dHx/v37Op0uMjISAPz8/PicAw+Yllg7duyAhnZCxk3uaz06nW7gwIEAsGLFCkQsLCzkUnnPnTvH5zRIY1piNW4nxCX3RUVF8T+N0tJS7gwPES9evCgSiQCgsLCQ/5mQw4TE4po1cu2EqqqquHI/6tnoEydOBIA//OEPdKdhdExILO4SbN68eYj4yy+/mJmZDRw4kO6Ubt68yT1KunTpEt2ZGB0TqoRWqVQA0KFDBwAYMWJEcXGxQqGgO6WlS5eqVKpPP/3Ux8eH7kyMjgnVFfbr1y8nJ8fHx+fcuXNCaCp07949Ly8vpVJ5/vx5bhfF1wkT6o91+PDhgICAy5cvcxno1Fm+fLlcLv/www9fP6sATKxgVd/Wliv6o0hZWZm1tbVIJMoXwP7NJDChFQsAQkJCkpKSuC5+3DaZtFi5cmVdXd2IESMCAwMpToMgtM3mm2ZFf1R4+PAhd282NzeX1hxIY3Ji4RNFf/wzZ84cABg2bBiV6PxgimJh06I/nkPr781mGbaVusAxUbGaFf3xycKFCwEgMjKS57g8Y6JiIeG2ts+iurrawcEBAPjZbYUipnVV2Bg/Pz9uJ9+JEydWVVXxE/Srr76SSqXvvPMOlwL/OkPbbJo0K/ojjb5PxKFDh3gIRxeTFgufKPojClcE1rdvX9KBhICpi4VNi/7IRZHL5Z06dQIAPk/pKMLEal70R4g1a9YAQGhoqE6nIxdFOJhQdkMLlJSUBAUFyWSynTt3jhw5svV/UCaTNd40oPELqVQaHR09evRoAFAqld7e3rdv3969e/fw4cOJfQ8BYUL5WC3g6en5+eefz5o1KzY29u23327fvj338xMnTty4ceNJb/Rvn7p1gB4vLy9OrA0bNty+fTsoKGjYsGF8fB8BwFasenQ63YABA44ePTpmzBguiRkAIiIijh071sKfsrGx0W8doN9AwN7evn379vb29j169PD19VWr1T4+PqWlpTt27IiOjubl29CHifWY69evBwUF1dTUbN++fdSoUQCQmpp6+fLlJ73Rv7CwsHjusPHx8atXr/bz8+ManJL/HoKAidWEb775JjY21tHRsbCwkEtifhZyubzlPXY4ysrKpFIpAHz22WdLly7l63vQh4nVBESMiorav3+/i4tLXFzcG2+88eR5FffihfLlBwwYsHfv3tYsb68NTKzmnD9/Pjg4+Ln/W7iddp5L27ZtXVxczMxM7iKJifUU/v3vf8+bN8/a2josLOypJ1j29vZCKMcQMkwsBhFM5SKFwTNMLAYRmFgMIjCxGERgYjGIwMRiEIGJxSACE4tBBCYWgwhMLAYRmFgMIjCxGERgYjGIwMRiEIGJxSACE4tBBCYWgwhMLAYRmFgMIjCxGERgYjGIwMRiEIGJxSACE4tBBCYWgwhMLAYRmFgMIjCxGERgYjGIwMRiEIGJxSACE4tBBCYWgwhMLAYRmFgMIjCxGERgYjGIwMRiEOH/AXSG2uCh57GOAAABd3pUWHRyZGtpdFBLTCByZGtpdCAyMDI0LjAzLjUAAHice79v7T0GIBAAYkYGCBAGYhEgbmBkY0gAiTOzMWgAaWYWDgjNBKPZHCDibA4ZIJqZES4A0+iAqhFmEEwej0F4GBC13EAHMzJpMDEyKzCzKLCwZjCxsiWwsTOwcWQwcXAqcHIpcHEzcPFoMHHwJvDyZTDx8SfwC2QwCQgmCAplMAmxJAjxJjgxAY1iYxHi5WBjZePjFxAU4hV/hxQUDMLhjssd2p5dsQdxlPbmOcSuOg5m28tbOnwpM3YAsaunujiYhUbagdgP55+0P//8ni2IbXzCxp7TaC1Y/Q9fp/33v84Hsw8nndm/dY48WK9X2db9uXNP7AWxNzRYHWAz8NsHYk+WKzjQXdsKVs//afmBw00FYPabb64HFv6TAOtlKxXZn3x29X4Q+1LnvP09ajoHQGwti7P7gk5Ug9nctj32tlqlYHZkzwP7pFdyYLbqwix7y4nzwHrFABhSX07z+kadAAAB5npUWHRNT0wgcmRraXQgMjAyNC4wMy41AAB4nH1UW24bMQz89yl4AS/4lMjP2A6KoogNtGnv0P/eHyV360gBhEoWoceYImeoPUG177dvv//AR+Pb6QSA//lFBPwSRDy9QU3g8vrl6x2u7y+X58718fP+/gMogBH2/hn78v54e+4QXME25ta5AW2tCbsBbri38U9OnGxdkEMTZxbufYETeABvHmzCNUElWfnTxMmGnRprHjMxSyxwlvfmdd0oOI8J3ZUWuJY4zPi6VlKbmKCv/PXEnRNogcgJZI0WK4dewLw5Wm+amWhIKC6AcQCVenJYvjF62Iobwkz6zFuQEmpBGZOdFT1UupyTcCNvJQwqe+gKWcqcU0J1Dk9AxRlLn6VN+sQQipYpSaAtySQ9WLIekZFkdqLMuHRqR/osbk6VXfNwkxW0HV4V0bM2M5KQJIJX0L7LjmEto06kC3ZcOvUd2S35kbpeE2pthYy9RIKaMf0L2XGl0+v99umNHK/m8rjfxqupzuNxVJfxBvIMdJQ65bBR0bmANgpXc/RRn5TDRxVqLmPUGtWYK4p2Q1Ph0G54KhDed2QqBC03OumtZcgmWWuZmk3qaRnqk0hahnwSQ8tQTKRrmQ/HjMfGuLzYnrmt9fNrlvPTX/xH9Quql7TmAAAA93pUWHRTTUlMRVMgcmRraXQgMjAyNC4wMy41AAB4nCWPyW3EMBAEU/FTC3CJuQ8s/FIACkJpbPDukfkhUWjW9Jzn8Xu9rpvv+zhf93GduEBuueew/HwP3yKRunhHqPT66E4lPHi7dwHIrhbXhZuMbRKUHLJoC4soIsimc4MwVRmvD8GSNlp1JUTeIN5EAiTWMQjfOjJgtta2hxhn5EKaOtvDAWU3wwkmxOqDUNK5Ei4ymZJv7GGlaDCm/s9Qq0CuTW5PA89uhgmtTISfgaLltTAkqsufmBEVtoGhdZbBFFThAaWUA9Ixd35hKMXs2xwujxvG4vX6/gGCGE50tBT4mwAAAABJRU5ErkJggg==\" alt=\"Mol\"/></div></td>\n",
       "      <td>258.089209</td>\n",
       "      <td>4</td>\n",
       "      <td>0</td>\n",
       "      <td>2.99882</td>\n",
       "    </tr>\n",
       "  </tbody>\n",
       "</table>\n",
       "<p>2647 rows × 7 columns</p>\n",
       "</div>"
      ],
      "text/plain": [
       "           ID                                             SMILES  \\\n",
       "0     DB00006  CC[C@H](C)[C@H](NC(=O)[C@H](CCC(O)=O)NC(=O)[C@...   \n",
       "1     DB00014  CC(C)C[C@H](NC(=O)[C@@H](COC(C)(C)C)NC(=O)[C@H...   \n",
       "2     DB00027  CC(C)C[C@@H](NC(=O)CNC(=O)[C@@H](NC=O)C(C)C)C(...   \n",
       "3     DB00035  NC(=O)CC[C@@H]1NC(=O)[C@H](CC2=CC=CC=C2)NC(=O)...   \n",
       "4     DB00050  CC(C)C[C@H](NC(=O)[C@@H](CCCNC(N)=O)NC(=O)[C@H...   \n",
       "...       ...                                                ...   \n",
       "2642  DB19375                           CC(C)C1=CC(Cl)=C(C)C=C1O   \n",
       "2643  DB19376                      OC1=CC=CC=C1C(=O)NC1=CC=CC=C1   \n",
       "2644  DB19378  [H][C@@]12CC[C@](O)(C(C)=O)[C@@]1(C)CC[C@@]1([...   \n",
       "2645  DB19379  [H][C@]12C[C@@H](OC(=O)C3=CC(OC)=C(OC(=O)OCC)C...   \n",
       "2646  DB19387             CC(=O)OC1=CC(C)=C(OC(C)=O)C2=CC=CC=C12   \n",
       "\n",
       "                                                  ROMol  molecular_weight  \\\n",
       "0     <rdkit.Chem.rdchem.Mol object at 0x000001B44BC...       2178.985813   \n",
       "1     <rdkit.Chem.rdchem.Mol object at 0x000001B44BC...       1268.641439   \n",
       "2     <rdkit.Chem.rdchem.Mol object at 0x000001B44BC...       1810.033419   \n",
       "3     <rdkit.Chem.rdchem.Mol object at 0x000001B44BC...       1068.426955   \n",
       "4     <rdkit.Chem.rdchem.Mol object at 0x000001B44BC...       1429.669818   \n",
       "...                                                 ...               ...   \n",
       "2642  <rdkit.Chem.rdchem.Mol object at 0x000001B44BC...        184.065493   \n",
       "2643  <rdkit.Chem.rdchem.Mol object at 0x000001B44BC...        213.078979   \n",
       "2644  <rdkit.Chem.rdchem.Mol object at 0x000001B44BC...        342.219495   \n",
       "2645  <rdkit.Chem.rdchem.Mol object at 0x000001B44BC...        666.278860   \n",
       "2646  <rdkit.Chem.rdchem.Mol object at 0x000001B44BC...        258.089209   \n",
       "\n",
       "      n_hba  n_hbd     logp  \n",
       "0        29     28 -8.11643  \n",
       "1        16     17 -3.10570  \n",
       "2        16     20  4.86760  \n",
       "3        15     14 -4.13203  \n",
       "4        16     17 -0.50613  \n",
       "...     ...    ...      ...  \n",
       "2642      1      1  3.47742  \n",
       "2643      2      2  2.64450  \n",
       "2644      3      1  4.00450  \n",
       "2645     12      1  4.69780  \n",
       "2646      4      0  2.99882  \n",
       "\n",
       "[2647 rows x 7 columns]"
      ]
     },
     "execution_count": 5,
     "metadata": {},
     "output_type": "execute_result"
    }
   ],
   "source": [
    "drugbank_molecules "
   ]
  },
  {
   "cell_type": "markdown",
   "metadata": {},
   "source": [
    "## Calculate RO5 properties"
   ]
  },
  {
   "cell_type": "code",
   "execution_count": null,
   "metadata": {},
   "outputs": [],
   "source": [
    "def calculate_ro5_properties(smiles):\n",
    "    \"\"\"\n",
    "    Test if input molecule (SMILES) fulfills Lipinski's rule of five.\n",
    "\n",
    "    Parameters\n",
    "    ----------\n",
    "    smiles : str\n",
    "        SMILES for a molecule.\n",
    "\n",
    "    Returns\n",
    "    -------\n",
    "    pandas.Series\n",
    "        Molecular weight, number of hydrogen bond acceptors/donor and logP value\n",
    "        and Lipinski's rule of five compliance for input molecule.\n",
    "    \"\"\"\n",
    "    # RDKit molecule from SMILES\n",
    "    molecule = Chem.MolFromSmiles(smiles)\n",
    "    # Calculate Ro5-relevant chemical properties\n",
    "    molecular_weight = Descriptors.ExactMolWt(molecule)\n",
    "    n_hba = Descriptors.NumHAcceptors(molecule)\n",
    "    n_hbd = Descriptors.NumHDonors(molecule)\n",
    "    logp = Descriptors.MolLogP(molecule)\n",
    "    # Check if Ro5 conditions fulfilled\n",
    "    conditions = [molecular_weight <= 500, n_hba <= 10, n_hbd <= 5, logp <= 5]\n",
    "    ro5_fulfilled = sum(conditions) >= 3\n",
    "    # Return True if no more than one out of four conditions is violated\n",
    "    return pd.Series(\n",
    "        [molecular_weight, n_hba, n_hbd, logp, ro5_fulfilled],\n",
    "        index=[\"molecular_weight\", \"n_hba\", \"n_hbd\", \"logp\", \"ro5_fulfilled\"],\n",
    "    )"
   ]
  },
  {
   "cell_type": "markdown",
   "metadata": {},
   "source": [
    "## Apply the Ro5 to all molecules"
   ]
  },
  {
   "cell_type": "code",
   "execution_count": 7,
   "metadata": {},
   "outputs": [
    {
     "name": "stderr",
     "output_type": "stream",
     "text": [
      "[17:36:39] WARNING: not removing hydrogen atom without neighbors\n",
      "[17:36:39] WARNING: not removing hydrogen atom without neighbors\n"
     ]
    },
    {
     "data": {
      "application/vnd.microsoft.datawrangler.viewer.v0+json": {
       "columns": [
        {
         "name": "index",
         "rawType": "int64",
         "type": "integer"
        },
        {
         "name": "molecular_weight",
         "rawType": "float64",
         "type": "float"
        },
        {
         "name": "n_hba",
         "rawType": "int64",
         "type": "integer"
        },
        {
         "name": "n_hbd",
         "rawType": "int64",
         "type": "integer"
        },
        {
         "name": "logp",
         "rawType": "float64",
         "type": "float"
        },
        {
         "name": "ro5_fulfilled",
         "rawType": "bool",
         "type": "boolean"
        }
       ],
       "conversionMethod": "pd.DataFrame",
       "ref": "333d855b-ce68-4036-8bba-293f0c4e16e3",
       "rows": [
        [
         "0",
         "2178.9858128759984",
         "29",
         "28",
         "-8.116429999999925",
         "False"
        ],
        [
         "1",
         "1268.6414393679997",
         "16",
         "17",
         "-3.1057000000000192",
         "False"
        ],
        [
         "2",
         "1810.0334192399991",
         "16",
         "20",
         "4.867599999999979",
         "False"
        ],
        [
         "3",
         "1068.426955488",
         "15",
         "14",
         "-4.1320300000000145",
         "False"
        ],
        [
         "4",
         "1429.6698183039996",
         "16",
         "17",
         "-0.5061300000000057",
         "False"
        ]
       ],
       "shape": {
        "columns": 5,
        "rows": 5
       }
      },
      "text/html": [
       "<div>\n",
       "<style scoped>\n",
       "    .dataframe tbody tr th:only-of-type {\n",
       "        vertical-align: middle;\n",
       "    }\n",
       "\n",
       "    .dataframe tbody tr th {\n",
       "        vertical-align: top;\n",
       "    }\n",
       "\n",
       "    .dataframe thead th {\n",
       "        text-align: right;\n",
       "    }\n",
       "</style>\n",
       "<table border=\"1\" class=\"dataframe\">\n",
       "  <thead>\n",
       "    <tr style=\"text-align: right;\">\n",
       "      <th></th>\n",
       "      <th>molecular_weight</th>\n",
       "      <th>n_hba</th>\n",
       "      <th>n_hbd</th>\n",
       "      <th>logp</th>\n",
       "      <th>ro5_fulfilled</th>\n",
       "    </tr>\n",
       "  </thead>\n",
       "  <tbody>\n",
       "    <tr>\n",
       "      <th>0</th>\n",
       "      <td>2178.985813</td>\n",
       "      <td>29</td>\n",
       "      <td>28</td>\n",
       "      <td>-8.11643</td>\n",
       "      <td>False</td>\n",
       "    </tr>\n",
       "    <tr>\n",
       "      <th>1</th>\n",
       "      <td>1268.641439</td>\n",
       "      <td>16</td>\n",
       "      <td>17</td>\n",
       "      <td>-3.10570</td>\n",
       "      <td>False</td>\n",
       "    </tr>\n",
       "    <tr>\n",
       "      <th>2</th>\n",
       "      <td>1810.033419</td>\n",
       "      <td>16</td>\n",
       "      <td>20</td>\n",
       "      <td>4.86760</td>\n",
       "      <td>False</td>\n",
       "    </tr>\n",
       "    <tr>\n",
       "      <th>3</th>\n",
       "      <td>1068.426955</td>\n",
       "      <td>15</td>\n",
       "      <td>14</td>\n",
       "      <td>-4.13203</td>\n",
       "      <td>False</td>\n",
       "    </tr>\n",
       "    <tr>\n",
       "      <th>4</th>\n",
       "      <td>1429.669818</td>\n",
       "      <td>16</td>\n",
       "      <td>17</td>\n",
       "      <td>-0.50613</td>\n",
       "      <td>False</td>\n",
       "    </tr>\n",
       "  </tbody>\n",
       "</table>\n",
       "</div>"
      ],
      "text/plain": [
       "   molecular_weight  n_hba  n_hbd     logp  ro5_fulfilled\n",
       "0       2178.985813     29     28 -8.11643          False\n",
       "1       1268.641439     16     17 -3.10570          False\n",
       "2       1810.033419     16     20  4.86760          False\n",
       "3       1068.426955     15     14 -4.13203          False\n",
       "4       1429.669818     16     17 -0.50613          False"
      ]
     },
     "execution_count": 7,
     "metadata": {},
     "output_type": "execute_result"
    }
   ],
   "source": [
    "# This takes a couple of seconds\n",
    "ro5_properties = drugbank_molecules[\"SMILES\"].apply(calculate_ro5_properties)\n",
    "ro5_properties.head()"
   ]
  },
  {
   "cell_type": "markdown",
   "metadata": {},
   "source": [
    "## Concatenate molecules with Ro5 data"
   ]
  },
  {
   "cell_type": "code",
   "execution_count": 8,
   "metadata": {},
   "outputs": [
    {
     "data": {
      "application/vnd.microsoft.datawrangler.viewer.v0+json": {
       "columns": [
        {
         "name": "index",
         "rawType": "int64",
         "type": "integer"
        },
        {
         "name": "ID",
         "rawType": "object",
         "type": "string"
        },
        {
         "name": "SMILES",
         "rawType": "object",
         "type": "string"
        },
        {
         "name": "molecular_weight",
         "rawType": "float64",
         "type": "float"
        },
        {
         "name": "n_hba",
         "rawType": "int64",
         "type": "integer"
        },
        {
         "name": "n_hbd",
         "rawType": "int64",
         "type": "integer"
        },
        {
         "name": "logp",
         "rawType": "float64",
         "type": "float"
        },
        {
         "name": "ro5_fulfilled",
         "rawType": "bool",
         "type": "boolean"
        }
       ],
       "conversionMethod": "pd.DataFrame",
       "ref": "f16aca03-b60e-45d2-a33d-6568f63a275d",
       "rows": [
        [
         "0",
         "DB00006",
         "CC[C@H](C)[C@H](NC(=O)[C@H](CCC(O)=O)NC(=O)[C@H](CCC(O)=O)NC(=O)[C@H](CC1=CC=CC=C1)NC(=O)[C@H](CC(O)=O)NC(=O)CNC(=O)[C@H](CC(N)=O)NC(=O)CNC(=O)CNC(=O)CNC(=O)CNC(=O)[C@@H]1CCCN1C(=O)[C@H](CCCNC(N)=N)NC(=O)[C@@H]1CCCN1C(=O)[C@H](N)CC1=CC=CC=C1)C(=O)N1CCC[C@H]1C(=O)N[C@@H](CCC(O)=O)C(=O)N[C@@H](CCC(O)=O)C(=O)N[C@@H](CC1=CC=C(O)C=C1)C(=O)N[C@@H](CC(C)C)C(O)=O",
         "2178.9858128759984",
         "29",
         "28",
         "-8.116429999999925",
         "False"
        ],
        [
         "1",
         "DB00014",
         "CC(C)C[C@H](NC(=O)[C@@H](COC(C)(C)C)NC(=O)[C@H](CC1=CC=C(O)C=C1)NC(=O)[C@H](CO)NC(=O)[C@H](CC1=CNC2=CC=CC=C12)NC(=O)[C@H](CC1=CN=CN1)NC(=O)[C@@H]1CCC(=O)N1)C(=O)N[C@@H](CCCN=C(N)N)C(=O)N1CCC[C@H]1C(=O)NNC(N)=O",
         "1268.6414393679997",
         "16",
         "17",
         "-3.1057000000000192",
         "False"
        ],
        [
         "2",
         "DB00027",
         "CC(C)C[C@@H](NC(=O)CNC(=O)[C@@H](NC=O)C(C)C)C(=O)N[C@@H](C)C(=O)N[C@H](C(C)C)C(=O)N[C@@H](C(C)C)C(=O)N[C@H](C(C)C)C(=O)N[C@@H](CC1=CNC2=C1C=CC=C2)C(=O)N[C@H](CC(C)C)C(=O)N[C@@H](CC1=CNC2=C1C=CC=C2)C(=O)N[C@H](CC(C)C)C(=O)N[C@@H](CC1=CNC2=C1C=CC=C2)C(=O)N[C@H](CC(C)C)C(=O)N[C@@H](CC1=CNC2=C1C=CC=C2)C(=O)NCCO",
         "1810.0334192399991",
         "16",
         "20",
         "4.867599999999979",
         "False"
        ],
        [
         "3",
         "DB00035",
         "NC(=O)CC[C@@H]1NC(=O)[C@H](CC2=CC=CC=C2)NC(=O)[C@H](CC2=CC=C(O)C=C2)NC(=O)CCSSC[C@H](NC(=O)[C@H](CC(N)=O)NC1=O)C(=O)N1CCC[C@H]1C(=O)N[C@H](CCCNC(N)=N)C(=O)NCC(N)=O",
         "1068.426955488",
         "15",
         "14",
         "-4.1320300000000145",
         "False"
        ],
        [
         "4",
         "DB00050",
         "CC(C)C[C@H](NC(=O)[C@@H](CCCNC(N)=O)NC(=O)[C@H](CC1=CC=C(O)C=C1)NC(=O)[C@H](CO)NC(=O)[C@@H](CC1=CN=CC=C1)NC(=O)[C@@H](CC1=CC=C(Cl)C=C1)NC(=O)[C@@H](CC1=CC2=CC=CC=C2C=C1)NC(C)=O)C(=O)N[C@@H](CCCNC(N)=N)C(=O)N1CCC[C@H]1C(=O)N[C@H](C)C(N)=O",
         "1429.6698183039996",
         "16",
         "17",
         "-0.5061300000000057",
         "False"
        ]
       ],
       "shape": {
        "columns": 7,
        "rows": 5
       }
      },
      "text/html": [
       "<div>\n",
       "<style scoped>\n",
       "    .dataframe tbody tr th:only-of-type {\n",
       "        vertical-align: middle;\n",
       "    }\n",
       "\n",
       "    .dataframe tbody tr th {\n",
       "        vertical-align: top;\n",
       "    }\n",
       "\n",
       "    .dataframe thead th {\n",
       "        text-align: right;\n",
       "    }\n",
       "</style>\n",
       "<table border=\"1\" class=\"dataframe\">\n",
       "  <thead>\n",
       "    <tr style=\"text-align: right;\">\n",
       "      <th></th>\n",
       "      <th>ID</th>\n",
       "      <th>SMILES</th>\n",
       "      <th>molecular_weight</th>\n",
       "      <th>n_hba</th>\n",
       "      <th>n_hbd</th>\n",
       "      <th>logp</th>\n",
       "      <th>ro5_fulfilled</th>\n",
       "    </tr>\n",
       "  </thead>\n",
       "  <tbody>\n",
       "    <tr>\n",
       "      <th>0</th>\n",
       "      <td>DB00006</td>\n",
       "      <td>CC[C@H](C)[C@H](NC(=O)[C@H](CCC(O)=O)NC(=O)[C@...</td>\n",
       "      <td>2178.985813</td>\n",
       "      <td>29</td>\n",
       "      <td>28</td>\n",
       "      <td>-8.11643</td>\n",
       "      <td>False</td>\n",
       "    </tr>\n",
       "    <tr>\n",
       "      <th>1</th>\n",
       "      <td>DB00014</td>\n",
       "      <td>CC(C)C[C@H](NC(=O)[C@@H](COC(C)(C)C)NC(=O)[C@H...</td>\n",
       "      <td>1268.641439</td>\n",
       "      <td>16</td>\n",
       "      <td>17</td>\n",
       "      <td>-3.10570</td>\n",
       "      <td>False</td>\n",
       "    </tr>\n",
       "    <tr>\n",
       "      <th>2</th>\n",
       "      <td>DB00027</td>\n",
       "      <td>CC(C)C[C@@H](NC(=O)CNC(=O)[C@@H](NC=O)C(C)C)C(...</td>\n",
       "      <td>1810.033419</td>\n",
       "      <td>16</td>\n",
       "      <td>20</td>\n",
       "      <td>4.86760</td>\n",
       "      <td>False</td>\n",
       "    </tr>\n",
       "    <tr>\n",
       "      <th>3</th>\n",
       "      <td>DB00035</td>\n",
       "      <td>NC(=O)CC[C@@H]1NC(=O)[C@H](CC2=CC=CC=C2)NC(=O)...</td>\n",
       "      <td>1068.426955</td>\n",
       "      <td>15</td>\n",
       "      <td>14</td>\n",
       "      <td>-4.13203</td>\n",
       "      <td>False</td>\n",
       "    </tr>\n",
       "    <tr>\n",
       "      <th>4</th>\n",
       "      <td>DB00050</td>\n",
       "      <td>CC(C)C[C@H](NC(=O)[C@@H](CCCNC(N)=O)NC(=O)[C@H...</td>\n",
       "      <td>1429.669818</td>\n",
       "      <td>16</td>\n",
       "      <td>17</td>\n",
       "      <td>-0.50613</td>\n",
       "      <td>False</td>\n",
       "    </tr>\n",
       "  </tbody>\n",
       "</table>\n",
       "</div>"
      ],
      "text/plain": [
       "        ID                                             SMILES  \\\n",
       "0  DB00006  CC[C@H](C)[C@H](NC(=O)[C@H](CCC(O)=O)NC(=O)[C@...   \n",
       "1  DB00014  CC(C)C[C@H](NC(=O)[C@@H](COC(C)(C)C)NC(=O)[C@H...   \n",
       "2  DB00027  CC(C)C[C@@H](NC(=O)CNC(=O)[C@@H](NC=O)C(C)C)C(...   \n",
       "3  DB00035  NC(=O)CC[C@@H]1NC(=O)[C@H](CC2=CC=CC=C2)NC(=O)...   \n",
       "4  DB00050  CC(C)C[C@H](NC(=O)[C@@H](CCCNC(N)=O)NC(=O)[C@H...   \n",
       "\n",
       "   molecular_weight  n_hba  n_hbd     logp  ro5_fulfilled  \n",
       "0       2178.985813     29     28 -8.11643          False  \n",
       "1       1268.641439     16     17 -3.10570          False  \n",
       "2       1810.033419     16     20  4.86760          False  \n",
       "3       1068.426955     15     14 -4.13203          False  \n",
       "4       1429.669818     16     17 -0.50613          False  "
      ]
     },
     "execution_count": 8,
     "metadata": {},
     "output_type": "execute_result"
    }
   ],
   "source": [
    "molecules = pd.concat([drugbank_molecules[['ID', 'SMILES']], ro5_properties], axis=1)\n",
    "molecules.head()"
   ]
  },
  {
   "cell_type": "code",
   "execution_count": 12,
   "metadata": {},
   "outputs": [],
   "source": [
    "# Save the dataframe\n",
    "molecules.to_csv(\"DB_compounds_lipinski.csv\")"
   ]
  },
  {
   "cell_type": "code",
   "execution_count": 13,
   "metadata": {},
   "outputs": [
    {
     "name": "stdout",
     "output_type": "stream",
     "text": [
      "# compounds in unfiltered data set: 2647\n",
      "# compounds in filtered data set: 2281\n",
      "# compounds not compliant with the Ro5: 366\n"
     ]
    }
   ],
   "source": [
    "# Note that the column \"ro5_fulfilled\" contains boolean values.\n",
    "# Thus, we can use the column values directly to subset data.\n",
    "# Note that ~ negates boolean values.\n",
    "molecules_ro5_fulfilled = molecules[molecules[\"ro5_fulfilled\"]]\n",
    "molecules_ro5_violated = molecules[~molecules[\"ro5_fulfilled\"]]\n",
    "\n",
    "print(f\"# compounds in unfiltered data set: {molecules.shape[0]}\")\n",
    "print(f\"# compounds in filtered data set: {molecules_ro5_fulfilled.shape[0]}\")\n",
    "print(f\"# compounds not compliant with the Ro5: {molecules_ro5_violated.shape[0]}\")"
   ]
  },
  {
   "cell_type": "code",
   "execution_count": 14,
   "metadata": {},
   "outputs": [
    {
     "data": {
      "application/vnd.microsoft.datawrangler.viewer.v0+json": {
       "columns": [
        {
         "name": "index",
         "rawType": "int64",
         "type": "integer"
        },
        {
         "name": "ID",
         "rawType": "object",
         "type": "string"
        },
        {
         "name": "SMILES",
         "rawType": "object",
         "type": "string"
        },
        {
         "name": "molecular_weight",
         "rawType": "float64",
         "type": "float"
        },
        {
         "name": "n_hba",
         "rawType": "int64",
         "type": "integer"
        },
        {
         "name": "n_hbd",
         "rawType": "int64",
         "type": "integer"
        },
        {
         "name": "logp",
         "rawType": "float64",
         "type": "float"
        },
        {
         "name": "ro5_fulfilled",
         "rawType": "bool",
         "type": "boolean"
        }
       ],
       "conversionMethod": "pd.DataFrame",
       "ref": "b1bc2963-1b2b-4ca1-b453-ae9d006089ae",
       "rows": [
        [
         "8",
         "DB00114",
         "CC1=NC=C(COP(O)(O)=O)C(C=O)=C1O",
         "247.02457367",
         "5",
         "3",
         "0.5174199999999998",
         "True"
        ],
        [
         "10",
         "DB00118",
         "C[S+](CC[C@H](N)C([O-])=O)C[C@H]1O[C@H]([C@H](O)[C@@H]1O)N1C=NC2=C1N=CN=C2N",
         "398.1372388040001",
         "11",
         "4",
         "-3.256899999999998",
         "True"
        ],
        [
         "11",
         "DB00119",
         "CC(=O)C(O)=O",
         "88.016043988",
         "2",
         "1",
         "-0.3399999999999999",
         "True"
        ],
        [
         "12",
         "DB00120",
         "N[C@@H](CC1=CC=CC=C1)C(O)=O",
         "165.078978592",
         "2",
         "2",
         "0.641",
         "True"
        ],
        [
         "13",
         "DB00121",
         "[H][C@]12CS[C@@H](CCCCC(O)=O)[C@@]1([H])NC(=O)N2",
         "244.088163372",
         "3",
         "3",
         "0.7968",
         "True"
        ],
        [
         "14",
         "DB00122",
         "C[N+](C)(C)CCO",
         "104.10699048808999",
         "1",
         "1",
         "-0.3150999999999999",
         "True"
        ],
        [
         "15",
         "DB00123",
         "NCCCC[C@H](N)C(O)=O",
         "146.105527688",
         "3",
         "3",
         "-0.4726999999999995",
         "True"
        ],
        [
         "16",
         "DB00126",
         "[H][C@@]1(OC(=O)C(O)=C1O)[C@@H](O)CO",
         "176.032087976",
         "6",
         "4",
         "-1.4074",
         "True"
        ],
        [
         "17",
         "DB00128",
         "N[C@@H](CC(O)=O)C(O)=O",
         "133.037507704",
         "3",
         "3",
         "-1.127",
         "True"
        ],
        [
         "18",
         "DB00129",
         "NCCC[C@H](N)C(O)=O",
         "132.089877624",
         "3",
         "3",
         "-0.8627999999999991",
         "True"
        ],
        [
         "19",
         "DB00130",
         "N[C@@H](CCC(N)=O)C(O)=O",
         "146.06914218",
         "3",
         "3",
         "-1.3361999999999998",
         "True"
        ],
        [
         "20",
         "DB00131",
         "NC1=C2N=CN([C@@H]3O[C@H](COP(O)(O)=O)[C@@H](O)[C@H]3O)C2=NC=N1",
         "347.063084418",
         "10",
         "5",
         "-1.8630000000000004",
         "True"
        ],
        [
         "21",
         "DB00132",
         "CC\\C=C/C\\C=C/C\\C=C/CCCCCCCC(O)=O",
         "278.2245802",
         "1",
         "1",
         "5.660500000000005",
         "True"
        ],
        [
         "22",
         "DB00134",
         "CSCC[C@H](N)C(O)=O",
         "149.051049592",
         "3",
         "2",
         "0.1513999999999998",
         "True"
        ],
        [
         "23",
         "DB00135",
         "[H][C@](N)(CC1=CC=C(O)C=C1)C(O)=O",
         "181.073893212",
         "3",
         "3",
         "0.3466000000000001",
         "True"
        ],
        [
         "24",
         "DB00136",
         "C[C@H](CCCC(C)(C)O)[C@@]1([H])CC[C@@]2([H])\\C(CCC[C@]12C)=C\\C=C1\\C[C@@H](O)C[C@H](O)C1=C",
         "416.32904526799996",
         "3",
         "3",
         "5.704700000000008",
         "True"
        ],
        [
         "26",
         "DB00138",
         "N[C@@H](CSSC[C@H](N)C(O)=O)C(O)=O",
         "240.023848864",
         "6",
         "4",
         "-0.8083999999999993",
         "True"
        ],
        [
         "27",
         "DB00139",
         "OC(=O)CCC(O)=O",
         "118.02660867200001",
         "2",
         "2",
         "-0.06419999999999987",
         "True"
        ],
        [
         "28",
         "DB00140",
         "CC1=C(C)C=C2N(C[C@H](O)[C@H](O)[C@H](O)CO)C3=NC(=O)NC(=O)C3=NC2=C1",
         "376.13828436",
         "9",
         "5",
         "-1.7235599999999993",
         "True"
        ],
        [
         "29",
         "DB00141",
         "[H]C(=O)[C@H](NC(C)=O)[C@@H](O)[C@H](O)[C@H](O)CO",
         "221.0899372",
         "6",
         "5",
         "-3.234999999999999",
         "True"
        ],
        [
         "30",
         "DB00142",
         "N[C@@H](CCC(O)=O)C(O)=O",
         "147.053157768",
         "3",
         "3",
         "-0.7369000000000001",
         "True"
        ],
        [
         "31",
         "DB00143",
         "N[C@@H](CCC(=O)N[C@@H](CS)C(=O)NCC(O)=O)C(O)=O",
         "307.083806264",
         "6",
         "6",
         "-2.2060999999999984",
         "True"
        ],
        [
         "32",
         "DB00145",
         "NCC(O)=O",
         "75.0320284",
         "2",
         "2",
         "-0.9702999999999999",
         "True"
        ],
        [
         "33",
         "DB00146",
         "C[C@H](CCCC(C)(C)O)[C@@]1([H])CC[C@@]2([H])\\C(CCC[C@]12C)=C\\C=C1\\C[C@@H](O)CCC1=C",
         "400.334130648",
         "2",
         "2",
         "6.733900000000008",
         "True"
        ],
        [
         "34",
         "DB00148",
         "CN(CC(O)=O)C(N)=N",
         "131.069476528",
         "2",
         "3",
         "-1.1037299999999988",
         "True"
        ],
        [
         "35",
         "DB00150",
         "N[C@@H](CC1=CNC2=C1C=CC=C2)C(O)=O",
         "204.089877624",
         "2",
         "3",
         "1.1223",
         "True"
        ],
        [
         "36",
         "DB00151",
         "N[C@@H](CS)C(O)=O",
         "121.019749464",
         "3",
         "3",
         "-0.6719000000000002",
         "True"
        ],
        [
         "37",
         "DB00152",
         "CC1=C(CCO)SC=[N+]1CC1=CN=C(C)N=C1N",
         "265.11175858409",
         "5",
         "2",
         "0.6077400000000001",
         "True"
        ],
        [
         "38",
         "DB00153",
         "CC(C)[C@@H](C)\\C=C\\[C@@H](C)[C@@]1([H])CC[C@@]2([H])\\C(CCC[C@]12C)=C\\C=C1\\C[C@@H](O)CCC1=C",
         "396.33921602799995",
         "1",
         "1",
         "7.641000000000009",
         "True"
        ],
        [
         "39",
         "DB00156",
         "C[C@@H](O)[C@H](N)C(O)=O",
         "119.058243148",
         "3",
         "3",
         "-1.2208999999999997",
         "True"
        ],
        [
         "41",
         "DB00158",
         "NC1=NC(=O)C2=NC(CNC3=CC=C(C=C3)C(=O)N[C@@H](CCC(O)=O)C(O)=O)=CN=C2N1",
         "441.139681328",
         "9",
         "6",
         "-0.04479999999999951",
         "True"
        ],
        [
         "42",
         "DB00159",
         "CC\\C=C/C\\C=C/C\\C=C/C\\C=C/C\\C=C/CCCC(O)=O",
         "302.2245802",
         "1",
         "1",
         "5.9927000000000055",
         "True"
        ],
        [
         "43",
         "DB00161",
         "CC(C)[C@H](N)C(O)=O",
         "117.078978592",
         "2",
         "2",
         "0.05430000000000007",
         "True"
        ],
        [
         "44",
         "DB00162",
         "C\\C(=C/CO)\\C=C\\C=C(/C)\\C=C\\C1=C(C)CCCC1(C)C",
         "286.22966558",
         "1",
         "1",
         "5.510300000000005",
         "True"
        ],
        [
         "45",
         "DB00163",
         "CC(C)CCC[C@@H](C)CCC[C@@H](C)CCC[C@]1(C)CCC2=C(O1)C(C)=C(C)C(O)=C2C",
         "430.3810808399999",
         "2",
         "1",
         "8.840260000000002",
         "True"
        ],
        [
         "46",
         "DB00165",
         "CC1=C(O)C(CO)=C(CO)C=N1",
         "169.073893212",
         "4",
         "3",
         "0.0802199999999999",
         "True"
        ],
        [
         "47",
         "DB00166",
         "OC(=O)CCCC[C@@H]1CCSS1",
         "206.043521688",
         "3",
         "1",
         "2.7851000000000017",
         "True"
        ],
        [
         "48",
         "DB00169",
         "CC(C)CCC[C@@H](C)[C@@]1([H])CC[C@@]2([H])\\C(CCC[C@]12C)=C\\C=C1\\C[C@@H](O)CCC1=C",
         "384.33921602799995",
         "1",
         "1",
         "7.6190000000000095",
         "True"
        ],
        [
         "49",
         "DB00170",
         "CC1=CC(=O)C2=CC=CC=C2C1=O",
         "172.052429496",
         "2",
         "0",
         "2.0119000000000002",
         "True"
        ],
        [
         "50",
         "DB00173",
         "NC1=C2NC=NC2=NC=N1",
         "135.05449516",
         "4",
         "2",
         "-0.0648999999999999",
         "True"
        ],
        [
         "51",
         "DB00174",
         "N[C@@H](CC(N)=O)C(O)=O",
         "132.053492116",
         "3",
         "3",
         "-1.7263000000000002",
         "True"
        ],
        [
         "52",
         "DB00175",
         "[H][C@]12[C@H](C[C@H](O)C=C1C=C[C@H](C)[C@@H]2CC[C@@H](O)C[C@@H](O)CC(O)=O)OC(=O)[C@@H](C)CC",
         "424.24610349199986",
         "6",
         "4",
         "2.4404000000000003",
         "True"
        ],
        [
         "53",
         "DB00176",
         "COCCCC\\C(=N/OCCN)C1=CC=C(C=C1)C(F)(F)F",
         "318.155512572",
         "4",
         "1",
         "3.201500000000001",
         "True"
        ],
        [
         "54",
         "DB00177",
         "CCCCC(=O)N(CC1=CC=C(C=C1)C1=CC=CC=C1C1=NNN=N1)[C@@H](C(C)C)C(O)=O",
         "435.22703978800007",
         "5",
         "2",
         "4.161700000000002",
         "True"
        ],
        [
         "55",
         "DB00178",
         "[H][C@@]12CCC[C@]1([H])N([C@@H](C2)C(O)=O)C(=O)[C@H](C)N[C@@H](CCC1=CC=CC=C1)C(=O)OCC",
         "416.23112212399997",
         "5",
         "2",
         "2.3831999999999995",
         "True"
        ],
        [
         "56",
         "DB00179",
         "C[C@@H](CC1=CC(O)=C(O)C=C1)[C@H](C)CC1=CC(O)=C(O)C=C1",
         "302.151809184",
         "4",
         "4",
         "3.5664000000000033",
         "True"
        ],
        [
         "57",
         "DB00180",
         "[H][C@@]12C[C@@]3([H])[C@]4([H])C[C@H](F)C5=CC(=O)C=C[C@]5(C)[C@@]4([H])[C@@H](O)C[C@]3(C)[C@@]1(OC(C)(C)O2)C(=O)CO",
         "434.2104669319999",
         "6",
         "2",
         "2.2747000000000006",
         "True"
        ],
        [
         "58",
         "DB00181",
         "NCC(CC(O)=O)C1=CC=C(Cl)C=C1",
         "213.055656304",
         "2",
         "2",
         "1.857",
         "True"
        ],
        [
         "59",
         "DB00182",
         "CC(N)CC1=CC=CC=C1",
         "135.104799416",
         "1",
         "1",
         "1.5763",
         "True"
        ],
        [
         "61",
         "DB00184",
         "CN1CCC[C@H]1C1=CN=CC=C1",
         "162.115698448",
         "2",
         "0",
         "1.8483",
         "True"
        ]
       ],
       "shape": {
        "columns": 7,
        "rows": 2281
       }
      },
      "text/html": [
       "<div>\n",
       "<style scoped>\n",
       "    .dataframe tbody tr th:only-of-type {\n",
       "        vertical-align: middle;\n",
       "    }\n",
       "\n",
       "    .dataframe tbody tr th {\n",
       "        vertical-align: top;\n",
       "    }\n",
       "\n",
       "    .dataframe thead th {\n",
       "        text-align: right;\n",
       "    }\n",
       "</style>\n",
       "<table border=\"1\" class=\"dataframe\">\n",
       "  <thead>\n",
       "    <tr style=\"text-align: right;\">\n",
       "      <th></th>\n",
       "      <th>ID</th>\n",
       "      <th>SMILES</th>\n",
       "      <th>molecular_weight</th>\n",
       "      <th>n_hba</th>\n",
       "      <th>n_hbd</th>\n",
       "      <th>logp</th>\n",
       "      <th>ro5_fulfilled</th>\n",
       "    </tr>\n",
       "  </thead>\n",
       "  <tbody>\n",
       "    <tr>\n",
       "      <th>8</th>\n",
       "      <td>DB00114</td>\n",
       "      <td>CC1=NC=C(COP(O)(O)=O)C(C=O)=C1O</td>\n",
       "      <td>247.024574</td>\n",
       "      <td>5</td>\n",
       "      <td>3</td>\n",
       "      <td>0.51742</td>\n",
       "      <td>True</td>\n",
       "    </tr>\n",
       "    <tr>\n",
       "      <th>10</th>\n",
       "      <td>DB00118</td>\n",
       "      <td>C[S+](CC[C@H](N)C([O-])=O)C[C@H]1O[C@H]([C@H](...</td>\n",
       "      <td>398.137239</td>\n",
       "      <td>11</td>\n",
       "      <td>4</td>\n",
       "      <td>-3.25690</td>\n",
       "      <td>True</td>\n",
       "    </tr>\n",
       "    <tr>\n",
       "      <th>11</th>\n",
       "      <td>DB00119</td>\n",
       "      <td>CC(=O)C(O)=O</td>\n",
       "      <td>88.016044</td>\n",
       "      <td>2</td>\n",
       "      <td>1</td>\n",
       "      <td>-0.34000</td>\n",
       "      <td>True</td>\n",
       "    </tr>\n",
       "    <tr>\n",
       "      <th>12</th>\n",
       "      <td>DB00120</td>\n",
       "      <td>N[C@@H](CC1=CC=CC=C1)C(O)=O</td>\n",
       "      <td>165.078979</td>\n",
       "      <td>2</td>\n",
       "      <td>2</td>\n",
       "      <td>0.64100</td>\n",
       "      <td>True</td>\n",
       "    </tr>\n",
       "    <tr>\n",
       "      <th>13</th>\n",
       "      <td>DB00121</td>\n",
       "      <td>[H][C@]12CS[C@@H](CCCCC(O)=O)[C@@]1([H])NC(=O)N2</td>\n",
       "      <td>244.088163</td>\n",
       "      <td>3</td>\n",
       "      <td>3</td>\n",
       "      <td>0.79680</td>\n",
       "      <td>True</td>\n",
       "    </tr>\n",
       "    <tr>\n",
       "      <th>...</th>\n",
       "      <td>...</td>\n",
       "      <td>...</td>\n",
       "      <td>...</td>\n",
       "      <td>...</td>\n",
       "      <td>...</td>\n",
       "      <td>...</td>\n",
       "      <td>...</td>\n",
       "    </tr>\n",
       "    <tr>\n",
       "      <th>2641</th>\n",
       "      <td>DB19365</td>\n",
       "      <td>CCN1C(=O)C=C(N)N(CC=C)C1=O</td>\n",
       "      <td>195.100777</td>\n",
       "      <td>5</td>\n",
       "      <td>1</td>\n",
       "      <td>-0.20190</td>\n",
       "      <td>True</td>\n",
       "    </tr>\n",
       "    <tr>\n",
       "      <th>2642</th>\n",
       "      <td>DB19375</td>\n",
       "      <td>CC(C)C1=CC(Cl)=C(C)C=C1O</td>\n",
       "      <td>184.065493</td>\n",
       "      <td>1</td>\n",
       "      <td>1</td>\n",
       "      <td>3.47742</td>\n",
       "      <td>True</td>\n",
       "    </tr>\n",
       "    <tr>\n",
       "      <th>2643</th>\n",
       "      <td>DB19376</td>\n",
       "      <td>OC1=CC=CC=C1C(=O)NC1=CC=CC=C1</td>\n",
       "      <td>213.078979</td>\n",
       "      <td>2</td>\n",
       "      <td>2</td>\n",
       "      <td>2.64450</td>\n",
       "      <td>True</td>\n",
       "    </tr>\n",
       "    <tr>\n",
       "      <th>2644</th>\n",
       "      <td>DB19378</td>\n",
       "      <td>[H][C@@]12CC[C@](O)(C(C)=O)[C@@]1(C)CC[C@@]1([...</td>\n",
       "      <td>342.219495</td>\n",
       "      <td>3</td>\n",
       "      <td>1</td>\n",
       "      <td>4.00450</td>\n",
       "      <td>True</td>\n",
       "    </tr>\n",
       "    <tr>\n",
       "      <th>2646</th>\n",
       "      <td>DB19387</td>\n",
       "      <td>CC(=O)OC1=CC(C)=C(OC(C)=O)C2=CC=CC=C12</td>\n",
       "      <td>258.089209</td>\n",
       "      <td>4</td>\n",
       "      <td>0</td>\n",
       "      <td>2.99882</td>\n",
       "      <td>True</td>\n",
       "    </tr>\n",
       "  </tbody>\n",
       "</table>\n",
       "<p>2281 rows × 7 columns</p>\n",
       "</div>"
      ],
      "text/plain": [
       "           ID                                             SMILES  \\\n",
       "8     DB00114                    CC1=NC=C(COP(O)(O)=O)C(C=O)=C1O   \n",
       "10    DB00118  C[S+](CC[C@H](N)C([O-])=O)C[C@H]1O[C@H]([C@H](...   \n",
       "11    DB00119                                       CC(=O)C(O)=O   \n",
       "12    DB00120                        N[C@@H](CC1=CC=CC=C1)C(O)=O   \n",
       "13    DB00121   [H][C@]12CS[C@@H](CCCCC(O)=O)[C@@]1([H])NC(=O)N2   \n",
       "...       ...                                                ...   \n",
       "2641  DB19365                         CCN1C(=O)C=C(N)N(CC=C)C1=O   \n",
       "2642  DB19375                           CC(C)C1=CC(Cl)=C(C)C=C1O   \n",
       "2643  DB19376                      OC1=CC=CC=C1C(=O)NC1=CC=CC=C1   \n",
       "2644  DB19378  [H][C@@]12CC[C@](O)(C(C)=O)[C@@]1(C)CC[C@@]1([...   \n",
       "2646  DB19387             CC(=O)OC1=CC(C)=C(OC(C)=O)C2=CC=CC=C12   \n",
       "\n",
       "      molecular_weight  n_hba  n_hbd     logp  ro5_fulfilled  \n",
       "8           247.024574      5      3  0.51742           True  \n",
       "10          398.137239     11      4 -3.25690           True  \n",
       "11           88.016044      2      1 -0.34000           True  \n",
       "12          165.078979      2      2  0.64100           True  \n",
       "13          244.088163      3      3  0.79680           True  \n",
       "...                ...    ...    ...      ...            ...  \n",
       "2641        195.100777      5      1 -0.20190           True  \n",
       "2642        184.065493      1      1  3.47742           True  \n",
       "2643        213.078979      2      2  2.64450           True  \n",
       "2644        342.219495      3      1  4.00450           True  \n",
       "2646        258.089209      4      0  2.99882           True  \n",
       "\n",
       "[2281 rows x 7 columns]"
      ]
     },
     "execution_count": 14,
     "metadata": {},
     "output_type": "execute_result"
    }
   ],
   "source": [
    "molecules_ro5_fulfilled"
   ]
  },
  {
   "cell_type": "code",
   "execution_count": 15,
   "metadata": {},
   "outputs": [
    {
     "data": {
      "application/vnd.microsoft.datawrangler.viewer.v0+json": {
       "columns": [
        {
         "name": "index",
         "rawType": "int64",
         "type": "integer"
        },
        {
         "name": "ID",
         "rawType": "object",
         "type": "string"
        },
        {
         "name": "SMILES",
         "rawType": "object",
         "type": "string"
        },
        {
         "name": "molecular_weight",
         "rawType": "float64",
         "type": "float"
        },
        {
         "name": "n_hba",
         "rawType": "int64",
         "type": "integer"
        },
        {
         "name": "n_hbd",
         "rawType": "int64",
         "type": "integer"
        },
        {
         "name": "logp",
         "rawType": "float64",
         "type": "float"
        },
        {
         "name": "ro5_fulfilled",
         "rawType": "bool",
         "type": "boolean"
        }
       ],
       "conversionMethod": "pd.DataFrame",
       "ref": "91e21b99-cc16-4dd6-bdb5-5b9a86fe9497",
       "rows": [
        [
         "8",
         "DB00114",
         "CC1=NC=C(COP(O)(O)=O)C(C=O)=C1O",
         "247.02457367",
         "5",
         "3",
         "0.5174199999999998",
         "True"
        ],
        [
         "10",
         "DB00118",
         "C[S+](CC[C@H](N)C([O-])=O)C[C@H]1O[C@H]([C@H](O)[C@@H]1O)N1C=NC2=C1N=CN=C2N",
         "398.1372388040001",
         "11",
         "4",
         "-3.256899999999998",
         "True"
        ],
        [
         "11",
         "DB00119",
         "CC(=O)C(O)=O",
         "88.016043988",
         "2",
         "1",
         "-0.3399999999999999",
         "True"
        ],
        [
         "12",
         "DB00120",
         "N[C@@H](CC1=CC=CC=C1)C(O)=O",
         "165.078978592",
         "2",
         "2",
         "0.641",
         "True"
        ],
        [
         "13",
         "DB00121",
         "[H][C@]12CS[C@@H](CCCCC(O)=O)[C@@]1([H])NC(=O)N2",
         "244.088163372",
         "3",
         "3",
         "0.7968",
         "True"
        ]
       ],
       "shape": {
        "columns": 7,
        "rows": 5
       }
      },
      "text/html": [
       "<div>\n",
       "<style scoped>\n",
       "    .dataframe tbody tr th:only-of-type {\n",
       "        vertical-align: middle;\n",
       "    }\n",
       "\n",
       "    .dataframe tbody tr th {\n",
       "        vertical-align: top;\n",
       "    }\n",
       "\n",
       "    .dataframe thead th {\n",
       "        text-align: right;\n",
       "    }\n",
       "</style>\n",
       "<table border=\"1\" class=\"dataframe\">\n",
       "  <thead>\n",
       "    <tr style=\"text-align: right;\">\n",
       "      <th></th>\n",
       "      <th>ID</th>\n",
       "      <th>SMILES</th>\n",
       "      <th>molecular_weight</th>\n",
       "      <th>n_hba</th>\n",
       "      <th>n_hbd</th>\n",
       "      <th>logp</th>\n",
       "      <th>ro5_fulfilled</th>\n",
       "    </tr>\n",
       "  </thead>\n",
       "  <tbody>\n",
       "    <tr>\n",
       "      <th>8</th>\n",
       "      <td>DB00114</td>\n",
       "      <td>CC1=NC=C(COP(O)(O)=O)C(C=O)=C1O</td>\n",
       "      <td>247.024574</td>\n",
       "      <td>5</td>\n",
       "      <td>3</td>\n",
       "      <td>0.51742</td>\n",
       "      <td>True</td>\n",
       "    </tr>\n",
       "    <tr>\n",
       "      <th>10</th>\n",
       "      <td>DB00118</td>\n",
       "      <td>C[S+](CC[C@H](N)C([O-])=O)C[C@H]1O[C@H]([C@H](...</td>\n",
       "      <td>398.137239</td>\n",
       "      <td>11</td>\n",
       "      <td>4</td>\n",
       "      <td>-3.25690</td>\n",
       "      <td>True</td>\n",
       "    </tr>\n",
       "    <tr>\n",
       "      <th>11</th>\n",
       "      <td>DB00119</td>\n",
       "      <td>CC(=O)C(O)=O</td>\n",
       "      <td>88.016044</td>\n",
       "      <td>2</td>\n",
       "      <td>1</td>\n",
       "      <td>-0.34000</td>\n",
       "      <td>True</td>\n",
       "    </tr>\n",
       "    <tr>\n",
       "      <th>12</th>\n",
       "      <td>DB00120</td>\n",
       "      <td>N[C@@H](CC1=CC=CC=C1)C(O)=O</td>\n",
       "      <td>165.078979</td>\n",
       "      <td>2</td>\n",
       "      <td>2</td>\n",
       "      <td>0.64100</td>\n",
       "      <td>True</td>\n",
       "    </tr>\n",
       "    <tr>\n",
       "      <th>13</th>\n",
       "      <td>DB00121</td>\n",
       "      <td>[H][C@]12CS[C@@H](CCCCC(O)=O)[C@@]1([H])NC(=O)N2</td>\n",
       "      <td>244.088163</td>\n",
       "      <td>3</td>\n",
       "      <td>3</td>\n",
       "      <td>0.79680</td>\n",
       "      <td>True</td>\n",
       "    </tr>\n",
       "  </tbody>\n",
       "</table>\n",
       "</div>"
      ],
      "text/plain": [
       "         ID                                             SMILES  \\\n",
       "8   DB00114                    CC1=NC=C(COP(O)(O)=O)C(C=O)=C1O   \n",
       "10  DB00118  C[S+](CC[C@H](N)C([O-])=O)C[C@H]1O[C@H]([C@H](...   \n",
       "11  DB00119                                       CC(=O)C(O)=O   \n",
       "12  DB00120                        N[C@@H](CC1=CC=CC=C1)C(O)=O   \n",
       "13  DB00121   [H][C@]12CS[C@@H](CCCCC(O)=O)[C@@]1([H])NC(=O)N2   \n",
       "\n",
       "    molecular_weight  n_hba  n_hbd     logp  ro5_fulfilled  \n",
       "8         247.024574      5      3  0.51742           True  \n",
       "10        398.137239     11      4 -3.25690           True  \n",
       "11         88.016044      2      1 -0.34000           True  \n",
       "12        165.078979      2      2  0.64100           True  \n",
       "13        244.088163      3      3  0.79680           True  "
      ]
     },
     "execution_count": 15,
     "metadata": {},
     "output_type": "execute_result"
    }
   ],
   "source": [
    "# Save filtered data\n",
    "molecules_ro5_fulfilled.to_csv(\"DB_ro5_fulfilled.csv\")\n",
    "molecules_ro5_fulfilled.head()"
   ]
  },
  {
   "cell_type": "markdown",
   "metadata": {},
   "source": [
    "## Visualize Ro5 properties (radar plot)"
   ]
  },
  {
   "cell_type": "code",
   "execution_count": 36,
   "metadata": {},
   "outputs": [],
   "source": [
    "# Define a helper function to calculate the mean and standard deviation for an input DataFrame.\n",
    "\n",
    "def calculate_mean_std(dataframe):\n",
    "    \"\"\"\n",
    "    Calculate the mean and standard deviation of a dataset.\n",
    "\n",
    "    Parameters\n",
    "    ----------\n",
    "    dataframe : pd.DataFrame\n",
    "        Properties (columns) for a set of items (rows).\n",
    "\n",
    "    Returns\n",
    "    -------\n",
    "    pd.DataFrame\n",
    "        Mean and standard deviation (columns) for different properties (rows).\n",
    "    \"\"\"\n",
    "    # Generate descriptive statistics for property columns\n",
    "    stats = dataframe.describe()\n",
    "    # Transpose DataFrame (statistical measures = columns)\n",
    "    stats = stats.T\n",
    "    # Select mean and standard deviation\n",
    "    stats = stats[[\"mean\", \"std\"]]\n",
    "    return stats"
   ]
  },
  {
   "cell_type": "markdown",
   "metadata": {},
   "source": [
    "### We calculate the statistic for the dataset of compounds that are fulfilling the Ro5"
   ]
  },
  {
   "cell_type": "code",
   "execution_count": 47,
   "metadata": {},
   "outputs": [
    {
     "data": {
      "application/vnd.microsoft.datawrangler.viewer.v0+json": {
       "columns": [
        {
         "name": "index",
         "rawType": "object",
         "type": "string"
        },
        {
         "name": "mean",
         "rawType": "float64",
         "type": "float"
        },
        {
         "name": "std",
         "rawType": "float64",
         "type": "float"
        }
       ],
       "conversionMethod": "pd.DataFrame",
       "ref": "b622cf2a-233a-42a6-8e5b-ab61ad844ca3",
       "rows": [
        [
         "molecular_weight",
         "312.77502857118327",
         "130.79208501998463"
        ],
        [
         "n_hba",
         "4.182814555019728",
         "2.411664484039505"
        ],
        [
         "n_hbd",
         "1.5940377027619466",
         "1.4409546836497893"
        ],
        [
         "logp",
         "1.8345816001753632",
         "2.919365721860453"
        ]
       ],
       "shape": {
        "columns": 2,
        "rows": 4
       }
      },
      "text/html": [
       "<div>\n",
       "<style scoped>\n",
       "    .dataframe tbody tr th:only-of-type {\n",
       "        vertical-align: middle;\n",
       "    }\n",
       "\n",
       "    .dataframe tbody tr th {\n",
       "        vertical-align: top;\n",
       "    }\n",
       "\n",
       "    .dataframe thead th {\n",
       "        text-align: right;\n",
       "    }\n",
       "</style>\n",
       "<table border=\"1\" class=\"dataframe\">\n",
       "  <thead>\n",
       "    <tr style=\"text-align: right;\">\n",
       "      <th></th>\n",
       "      <th>mean</th>\n",
       "      <th>std</th>\n",
       "    </tr>\n",
       "  </thead>\n",
       "  <tbody>\n",
       "    <tr>\n",
       "      <th>molecular_weight</th>\n",
       "      <td>312.775029</td>\n",
       "      <td>130.792085</td>\n",
       "    </tr>\n",
       "    <tr>\n",
       "      <th>n_hba</th>\n",
       "      <td>4.182815</td>\n",
       "      <td>2.411664</td>\n",
       "    </tr>\n",
       "    <tr>\n",
       "      <th>n_hbd</th>\n",
       "      <td>1.594038</td>\n",
       "      <td>1.440955</td>\n",
       "    </tr>\n",
       "    <tr>\n",
       "      <th>logp</th>\n",
       "      <td>1.834582</td>\n",
       "      <td>2.919366</td>\n",
       "    </tr>\n",
       "  </tbody>\n",
       "</table>\n",
       "</div>"
      ],
      "text/plain": [
       "                        mean         std\n",
       "molecular_weight  312.775029  130.792085\n",
       "n_hba               4.182815    2.411664\n",
       "n_hbd               1.594038    1.440955\n",
       "logp                1.834582    2.919366"
      ]
     },
     "execution_count": 47,
     "metadata": {},
     "output_type": "execute_result"
    }
   ],
   "source": [
    "molecules_ro5_fulfilled_stats = calculate_mean_std(\n",
    "    molecules_ro5_fulfilled[[\"molecular_weight\", \"n_hba\", \"n_hbd\", \"logp\"]]\n",
    ")\n",
    "molecules_ro5_fulfilled_stats\n",
    "# NBVAL_CHECK_OUTPUT"
   ]
  },
  {
   "cell_type": "markdown",
   "metadata": {},
   "source": [
    "### We calculate the statistic for the dataset of compounds that are violating the Ro5"
   ]
  },
  {
   "cell_type": "code",
   "execution_count": 48,
   "metadata": {},
   "outputs": [
    {
     "data": {
      "application/vnd.microsoft.datawrangler.viewer.v0+json": {
       "columns": [
        {
         "name": "index",
         "rawType": "object",
         "type": "string"
        },
        {
         "name": "mean",
         "rawType": "float64",
         "type": "float"
        },
        {
         "name": "std",
         "rawType": "float64",
         "type": "float"
        }
       ],
       "conversionMethod": "pd.DataFrame",
       "ref": "aad8ceb2-9b6b-468e-9056-a84a4d219999",
       "rows": [
        [
         "molecular_weight",
         "868.8818321347377",
         "534.8692790099259"
        ],
        [
         "n_hba",
         "13.73224043715847",
         "10.130079928127456"
        ],
        [
         "n_hbd",
         "6.983606557377049",
         "8.058332136374204"
        ],
        [
         "logp",
         "1.2266090437158461",
         "7.669962767764351"
        ]
       ],
       "shape": {
        "columns": 2,
        "rows": 4
       }
      },
      "text/html": [
       "<div>\n",
       "<style scoped>\n",
       "    .dataframe tbody tr th:only-of-type {\n",
       "        vertical-align: middle;\n",
       "    }\n",
       "\n",
       "    .dataframe tbody tr th {\n",
       "        vertical-align: top;\n",
       "    }\n",
       "\n",
       "    .dataframe thead th {\n",
       "        text-align: right;\n",
       "    }\n",
       "</style>\n",
       "<table border=\"1\" class=\"dataframe\">\n",
       "  <thead>\n",
       "    <tr style=\"text-align: right;\">\n",
       "      <th></th>\n",
       "      <th>mean</th>\n",
       "      <th>std</th>\n",
       "    </tr>\n",
       "  </thead>\n",
       "  <tbody>\n",
       "    <tr>\n",
       "      <th>molecular_weight</th>\n",
       "      <td>868.881832</td>\n",
       "      <td>534.869279</td>\n",
       "    </tr>\n",
       "    <tr>\n",
       "      <th>n_hba</th>\n",
       "      <td>13.732240</td>\n",
       "      <td>10.130080</td>\n",
       "    </tr>\n",
       "    <tr>\n",
       "      <th>n_hbd</th>\n",
       "      <td>6.983607</td>\n",
       "      <td>8.058332</td>\n",
       "    </tr>\n",
       "    <tr>\n",
       "      <th>logp</th>\n",
       "      <td>1.226609</td>\n",
       "      <td>7.669963</td>\n",
       "    </tr>\n",
       "  </tbody>\n",
       "</table>\n",
       "</div>"
      ],
      "text/plain": [
       "                        mean         std\n",
       "molecular_weight  868.881832  534.869279\n",
       "n_hba              13.732240   10.130080\n",
       "n_hbd               6.983607    8.058332\n",
       "logp                1.226609    7.669963"
      ]
     },
     "execution_count": 48,
     "metadata": {},
     "output_type": "execute_result"
    }
   ],
   "source": [
    "molecules_ro5_violated_stats = calculate_mean_std(\n",
    "    molecules_ro5_violated[[\"molecular_weight\", \"n_hba\", \"n_hbd\", \"logp\"]]\n",
    ")\n",
    "molecules_ro5_violated_stats"
   ]
  },
  {
   "cell_type": "code",
   "execution_count": 49,
   "metadata": {},
   "outputs": [],
   "source": [
    "def _scale_by_thresholds(stats, thresholds, scaled_threshold):\n",
    "    \"\"\"\n",
    "    Scale values for different properties that have each an individually defined threshold.\n",
    "\n",
    "    Parameters\n",
    "    ----------\n",
    "    stats : pd.DataFrame\n",
    "        Dataframe with \"mean\" and \"std\" (columns) for each physicochemical property (rows).\n",
    "    thresholds : dict of str: int\n",
    "        Thresholds defined for each property.\n",
    "    scaled_threshold : int or float\n",
    "        Scaled thresholds across all properties.\n",
    "\n",
    "    Returns\n",
    "    -------\n",
    "    pd.DataFrame\n",
    "        DataFrame with scaled means and standard deviations for each physiochemical property.\n",
    "    \"\"\"\n",
    "    # Raise error if scaling keys and data_stats indicies are not matching\n",
    "    for property_name in stats.index:\n",
    "        if property_name not in thresholds.keys():\n",
    "            raise KeyError(f\"Add property '{property_name}' to scaling variable.\")\n",
    "    # Scale property data\n",
    "    stats_scaled = stats.apply(lambda x: x / thresholds[x.name] * scaled_threshold, axis=1)\n",
    "    return stats_scaled"
   ]
  },
  {
   "cell_type": "code",
   "execution_count": 50,
   "metadata": {},
   "outputs": [],
   "source": [
    "def _define_radial_axes_angles(n_axes):\n",
    "    \"\"\"Define angles (radians) for radial (x-)axes depending on the number of axes.\"\"\"\n",
    "    x_angles = [i / float(n_axes) * 2 * math.pi for i in range(n_axes)]\n",
    "    x_angles += x_angles[:1]\n",
    "    return x_angles"
   ]
  },
  {
   "cell_type": "markdown",
   "metadata": {},
   "source": [
    "## Radar plot Ro5 fulfilled"
   ]
  },
  {
   "cell_type": "code",
   "execution_count": 78,
   "metadata": {},
   "outputs": [],
   "source": [
    "def plot_radar(\n",
    "    y,\n",
    "    thresholds,\n",
    "    scaled_threshold,\n",
    "    properties_labels,\n",
    "    y_max=None,\n",
    "    output_path=None,\n",
    "):\n",
    "    \"\"\"\n",
    "    Plot a radar chart based on the mean and standard deviation of a data set's properties.\n",
    "\n",
    "    Parameters\n",
    "    ----------\n",
    "    y : pd.DataFrame\n",
    "        Dataframe with \"mean\" and \"std\" (columns) for each physicochemical property (rows).\n",
    "    thresholds : dict of str: int\n",
    "        Thresholds defined for each property.\n",
    "    scaled_threshold : int or float\n",
    "        Scaled thresholds across all properties.\n",
    "    properties_labels : list of str\n",
    "        List of property names to be used as labels in the plot.\n",
    "    y_max : None or int or float\n",
    "        Set maximum y value. If None, let matplotlib decide.\n",
    "    output_path : None or pathlib.Path\n",
    "        If not None, save plot to file.\n",
    "    \"\"\"\n",
    "\n",
    "    # Define radial x-axes angles -- uses our helper function!\n",
    "    x = _define_radial_axes_angles(len(y))\n",
    "    # Scale y-axis values with respect to a defined threshold -- uses our helper function!\n",
    "    y = _scale_by_thresholds(y, thresholds, scaled_threshold)\n",
    "    # Since our chart will be circular we append the first value of each property to the end\n",
    "    y = pd.concat([y, y.head(1)])\n",
    "\n",
    "    # Set figure and subplot axis\n",
    "    plt.figure(figsize=(6, 6))\n",
    "    ax = plt.subplot(111, polar=True)\n",
    "\n",
    "    # Plot data\n",
    "    ax.fill(x, [scaled_threshold] * len(x), \"cornflowerblue\", alpha=0.2)\n",
    "    ax.plot(x, y[\"mean\"], \"b\", lw=3, ls=\"-\")\n",
    "    ax.plot(x, y[\"mean\"] + y[\"std\"], \"orange\", lw=2, ls=\"--\")\n",
    "    \n",
    "    # From here on, we only do plot cosmetics\n",
    "    # Set 0° to 12 o'clock\n",
    "    ax.set_theta_offset(math.pi / 2)\n",
    "    # Set clockwise rotation\n",
    "    ax.set_theta_direction(-1)\n",
    "\n",
    "    # Set y-labels next to 180° radius axis\n",
    "    ax.set_rlabel_position(180)\n",
    "    # Set number of radial axes' ticks and remove labels\n",
    "    plt.xticks(x, [])\n",
    "    # Get maximal y-ticks value\n",
    "    if not y_max:\n",
    "        y_max = int(ax.get_yticks()[-1])\n",
    "    # Set axes limits\n",
    "    plt.ylim(0, y_max)\n",
    "    # Set number and labels of y axis ticks\n",
    "    plt.yticks(\n",
    "        range(1, y_max),\n",
    "        [\"5\" if i == scaled_threshold else \"\" for i in range(1, y_max)],\n",
    "        fontsize=16,\n",
    "    )\n",
    "\n",
    "    # Draw ytick labels to make sure they fit properly\n",
    "    # Note that we use [:1] to exclude the last element which equals the first element (not needed here)\n",
    "    for i, (angle, label) in enumerate(zip(x[:-1], properties_labels)):\n",
    "        if angle == 0:\n",
    "            ha = \"center\"\n",
    "        elif 0 < angle < math.pi:\n",
    "            ha = \"left\"\n",
    "        elif angle == math.pi:\n",
    "            ha = \"center\"\n",
    "        else:\n",
    "            ha = \"right\"\n",
    "        ax.text(\n",
    "            x=angle,\n",
    "            y=y_max + 1,\n",
    "            s=label,\n",
    "            size=16,\n",
    "            horizontalalignment=ha,\n",
    "            verticalalignment=\"center\",\n",
    "        )\n",
    "\n",
    "    # Add legend relative to top-left plot\n",
    "    labels = (\"Ro5\", \"Mean\", \"Mean + Std\")\n",
    "    ax.legend(labels, loc=(1.1, 0.7), labelspacing=0.3, fontsize=16)\n",
    "\n",
    "    # Save plot - use bbox_inches to include text boxes\n",
    "    if output_path:\n",
    "        plt.savefig(output_path, dpi=300, bbox_inches=\"tight\", transparent=True)\n",
    "\n",
    "    plt.show()"
   ]
  },
  {
   "cell_type": "code",
   "execution_count": 75,
   "metadata": {},
   "outputs": [],
   "source": [
    "thresholds = {\"molecular_weight\": 500, \"n_hba\": 10, \"n_hbd\": 5, \"logp\": 5}\n",
    "scaled_threshold = 5\n",
    "properties_labels = [\n",
    "    \"Molecular weight (Da) / 100\",\n",
    "    \"HBA / 2\",\n",
    "    \"HBD\",\n",
    "    \"LogP\",\n",
    "]\n",
    "y_max = 8"
   ]
  },
  {
   "cell_type": "code",
   "execution_count": 79,
   "metadata": {},
   "outputs": [
    {
     "data": {
      "image/png": "[encoded data removed]",
      "text/plain": [
       "<Figure size 600x600 with 1 Axes>"
      ]
     },
     "metadata": {},
     "output_type": "display_data"
    }
   ],
   "source": [
    "plot_radar(\n",
    "    molecules_ro5_fulfilled_stats,\n",
    "    thresholds,\n",
    "    scaled_threshold,\n",
    "    properties_labels,\n",
    "    y_max,\n",
    ")"
   ]
  },
  {
   "cell_type": "code",
   "execution_count": 80,
   "metadata": {},
   "outputs": [
    {
     "data": {
      "image/png": "[encoded data removed]",
      "text/plain": [
       "<Figure size 600x600 with 1 Axes>"
      ]
     },
     "metadata": {},
     "output_type": "display_data"
    }
   ],
   "source": [
    "plot_radar(\n",
    "    molecules_ro5_violated_stats,\n",
    "    thresholds,\n",
    "    scaled_threshold,\n",
    "    properties_labels,\n",
    "    y_max,\n",
    ")"
   ]
  }
 ],
 "metadata": {
  "kernelspec": {
   "display_name": "python3",
   "language": "python",
   "name": "python3"
  },
  "language_info": {
   "codemirror_mode": {
    "name": "ipython",
    "version": 3
   },
   "file_extension": ".py",
   "mimetype": "text/x-python",
   "name": "python",
   "nbconvert_exporter": "python",
   "pygments_lexer": "ipython3",
   "version": "3.12.7"
  }
 },
 "nbformat": 4,
 "nbformat_minor": 2
}
